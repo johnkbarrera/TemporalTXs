{
 "cells": [
  {
   "cell_type": "markdown",
   "metadata": {},
   "source": [
    "# Analisis de Datos"
   ]
  },
  {
   "cell_type": "code",
   "execution_count": 1,
   "metadata": {},
   "outputs": [],
   "source": [
    "import numpy as np\n",
    "import matplotlib.pyplot as plt\n",
    "from matplotlib.ticker import EngFormatter\n",
    "formatter = EngFormatter(places=0, sep=u\"\\N{THIN SPACE}\")  # U+2009\n"
   ]
  },
  {
   "cell_type": "markdown",
   "metadata": {},
   "source": [
    "## Cargar Datos"
   ]
  },
  {
   "cell_type": "code",
   "execution_count": 2,
   "metadata": {},
   "outputs": [
    {
     "name": "stdout",
     "output_type": "stream",
     "text": [
      "Done\n"
     ]
    }
   ],
   "source": [
    "import datetime\n",
    "import pandas as pd\n",
    "\n",
    "def leer_data():\n",
    "    outfile='./data/consulta.csv'\n",
    "    data = pd.read_csv(outfile)\n",
    "    return data\n",
    "\n",
    "data = leer_data()\n",
    "print('Done')"
   ]
  },
  {
   "cell_type": "code",
   "execution_count": 3,
   "metadata": {
    "scrolled": true
   },
   "outputs": [
    {
     "data": {
      "text/html": [
       "<div>\n",
       "<style scoped>\n",
       "    .dataframe tbody tr th:only-of-type {\n",
       "        vertical-align: middle;\n",
       "    }\n",
       "\n",
       "    .dataframe tbody tr th {\n",
       "        vertical-align: top;\n",
       "    }\n",
       "\n",
       "    .dataframe thead th {\n",
       "        text-align: right;\n",
       "    }\n",
       "</style>\n",
       "<table border=\"1\" class=\"dataframe\">\n",
       "  <thead>\n",
       "    <tr style=\"text-align: right;\">\n",
       "      <th></th>\n",
       "      <th>client_id</th>\n",
       "      <th>date</th>\n",
       "      <th>año</th>\n",
       "      <th>mes</th>\n",
       "      <th>dia</th>\n",
       "      <th>hora</th>\n",
       "      <th>merchant_departement</th>\n",
       "      <th>merchant_province</th>\n",
       "      <th>mcc</th>\n",
       "      <th>mccg</th>\n",
       "      <th>quantity</th>\n",
       "      <th>amount_sol</th>\n",
       "    </tr>\n",
       "  </thead>\n",
       "  <tbody>\n",
       "    <tr>\n",
       "      <th>0</th>\n",
       "      <td>+++g8j9k+5A=</td>\n",
       "      <td>2016-09-27 01:37:23</td>\n",
       "      <td>2016</td>\n",
       "      <td>9</td>\n",
       "      <td>27</td>\n",
       "      <td>1</td>\n",
       "      <td>LIMA</td>\n",
       "      <td>LIMA</td>\n",
       "      <td>San Juan De Miraflor</td>\n",
       "      <td>15</td>\n",
       "      <td>1</td>\n",
       "      <td>107.0</td>\n",
       "    </tr>\n",
       "    <tr>\n",
       "      <th>1</th>\n",
       "      <td>+++g8j9k+5A=</td>\n",
       "      <td>2016-06-24 03:35:00</td>\n",
       "      <td>2016</td>\n",
       "      <td>6</td>\n",
       "      <td>24</td>\n",
       "      <td>3</td>\n",
       "      <td>LIMA</td>\n",
       "      <td>LIMA</td>\n",
       "      <td>Magdalena Del Mar</td>\n",
       "      <td>15</td>\n",
       "      <td>1</td>\n",
       "      <td>58.0</td>\n",
       "    </tr>\n",
       "    <tr>\n",
       "      <th>2</th>\n",
       "      <td>+++g8j9k+5A=</td>\n",
       "      <td>2017-04-29 03:15:16</td>\n",
       "      <td>2017</td>\n",
       "      <td>4</td>\n",
       "      <td>29</td>\n",
       "      <td>3</td>\n",
       "      <td>LIMA</td>\n",
       "      <td>LIMA</td>\n",
       "      <td>Miraflores</td>\n",
       "      <td>17</td>\n",
       "      <td>1</td>\n",
       "      <td>153.0</td>\n",
       "    </tr>\n",
       "    <tr>\n",
       "      <th>3</th>\n",
       "      <td>+++g8j9k+5A=</td>\n",
       "      <td>2017-03-01 05:47:02</td>\n",
       "      <td>2017</td>\n",
       "      <td>3</td>\n",
       "      <td>1</td>\n",
       "      <td>5</td>\n",
       "      <td>LIMA</td>\n",
       "      <td>LIMA</td>\n",
       "      <td>Miraflores</td>\n",
       "      <td>17</td>\n",
       "      <td>1</td>\n",
       "      <td>110.0</td>\n",
       "    </tr>\n",
       "    <tr>\n",
       "      <th>4</th>\n",
       "      <td>+++g8j9k+5A=</td>\n",
       "      <td>2016-06-24 03:36:43</td>\n",
       "      <td>2016</td>\n",
       "      <td>6</td>\n",
       "      <td>24</td>\n",
       "      <td>3</td>\n",
       "      <td>LIMA</td>\n",
       "      <td>LIMA</td>\n",
       "      <td>Magdalena Del Mar</td>\n",
       "      <td>15</td>\n",
       "      <td>1</td>\n",
       "      <td>47.0</td>\n",
       "    </tr>\n",
       "  </tbody>\n",
       "</table>\n",
       "</div>"
      ],
      "text/plain": [
       "      client_id                 date   año  mes  dia  hora  \\\n",
       "0  +++g8j9k+5A=  2016-09-27 01:37:23  2016    9   27     1   \n",
       "1  +++g8j9k+5A=  2016-06-24 03:35:00  2016    6   24     3   \n",
       "2  +++g8j9k+5A=  2017-04-29 03:15:16  2017    4   29     3   \n",
       "3  +++g8j9k+5A=  2017-03-01 05:47:02  2017    3    1     5   \n",
       "4  +++g8j9k+5A=  2016-06-24 03:36:43  2016    6   24     3   \n",
       "\n",
       "  merchant_departement merchant_province                   mcc  mccg  \\\n",
       "0                 LIMA              LIMA  San Juan De Miraflor    15   \n",
       "1                 LIMA              LIMA     Magdalena Del Mar    15   \n",
       "2                 LIMA              LIMA            Miraflores    17   \n",
       "3                 LIMA              LIMA            Miraflores    17   \n",
       "4                 LIMA              LIMA     Magdalena Del Mar    15   \n",
       "\n",
       "   quantity  amount_sol  \n",
       "0         1       107.0  \n",
       "1         1        58.0  \n",
       "2         1       153.0  \n",
       "3         1       110.0  \n",
       "4         1        47.0  "
      ]
     },
     "execution_count": 3,
     "metadata": {},
     "output_type": "execute_result"
    }
   ],
   "source": [
    "data.head()"
   ]
  },
  {
   "cell_type": "code",
   "execution_count": 4,
   "metadata": {},
   "outputs": [],
   "source": [
    "temp = data"
   ]
  },
  {
   "cell_type": "code",
   "execution_count": 5,
   "metadata": {},
   "outputs": [],
   "source": [
    "temp['date'] = pd.to_datetime(temp['date'])\n",
    "temp['dia_semana'] = temp['date'].dt.dayofweek\n",
    "days = {0:'Mon',1:'Tues',2:'Weds',3:'Thurs',4:'Fri',5:'Sat',6:'Sun'}\n",
    "temp['dia_semana'] = temp['dia_semana'].apply(lambda x: days[x])"
   ]
  },
  {
   "cell_type": "code",
   "execution_count": 6,
   "metadata": {},
   "outputs": [],
   "source": [
    "days = {0:'1-Madrugada',1:'1-Madrugada',2:'1-Madrugada',3:'1-Madrugada',4:'1-Madrugada',5:'1-Madrugada',\n",
    "        6:'2-Mañana',7:'2-Mañana',8:'2-Mañana',9:'2-Mañana',10:'2-Mañana',11:'2-Mañana',\n",
    "        12:'3-Tarde',13:'3-Tarde',14:'3-Tarde',15:'3-Tarde',16:'3-Tarde',17:'3-Tarde',\n",
    "        18:'4-Noche',19:'4-Noche',20:'4-Noche',21:'4-Noche',22:'4-Noche',23:'4-Noche'}\n",
    "temp['turno'] = temp['hora'].apply(lambda x: days[x])"
   ]
  },
  {
   "cell_type": "code",
   "execution_count": 7,
   "metadata": {
    "scrolled": true
   },
   "outputs": [
    {
     "data": {
      "text/html": [
       "<div>\n",
       "<style scoped>\n",
       "    .dataframe tbody tr th:only-of-type {\n",
       "        vertical-align: middle;\n",
       "    }\n",
       "\n",
       "    .dataframe tbody tr th {\n",
       "        vertical-align: top;\n",
       "    }\n",
       "\n",
       "    .dataframe thead th {\n",
       "        text-align: right;\n",
       "    }\n",
       "</style>\n",
       "<table border=\"1\" class=\"dataframe\">\n",
       "  <thead>\n",
       "    <tr style=\"text-align: right;\">\n",
       "      <th></th>\n",
       "      <th>client_id</th>\n",
       "      <th>date</th>\n",
       "      <th>año</th>\n",
       "      <th>mes</th>\n",
       "      <th>dia</th>\n",
       "      <th>hora</th>\n",
       "      <th>merchant_departement</th>\n",
       "      <th>merchant_province</th>\n",
       "      <th>mcc</th>\n",
       "      <th>mccg</th>\n",
       "      <th>quantity</th>\n",
       "      <th>amount_sol</th>\n",
       "      <th>dia_semana</th>\n",
       "      <th>turno</th>\n",
       "    </tr>\n",
       "  </thead>\n",
       "  <tbody>\n",
       "    <tr>\n",
       "      <th>0</th>\n",
       "      <td>+++g8j9k+5A=</td>\n",
       "      <td>2016-09-27 01:37:23</td>\n",
       "      <td>2016</td>\n",
       "      <td>9</td>\n",
       "      <td>27</td>\n",
       "      <td>1</td>\n",
       "      <td>LIMA</td>\n",
       "      <td>LIMA</td>\n",
       "      <td>San Juan De Miraflor</td>\n",
       "      <td>15</td>\n",
       "      <td>1</td>\n",
       "      <td>107.0</td>\n",
       "      <td>Tues</td>\n",
       "      <td>1-Madrugada</td>\n",
       "    </tr>\n",
       "    <tr>\n",
       "      <th>1</th>\n",
       "      <td>+++g8j9k+5A=</td>\n",
       "      <td>2016-06-24 03:35:00</td>\n",
       "      <td>2016</td>\n",
       "      <td>6</td>\n",
       "      <td>24</td>\n",
       "      <td>3</td>\n",
       "      <td>LIMA</td>\n",
       "      <td>LIMA</td>\n",
       "      <td>Magdalena Del Mar</td>\n",
       "      <td>15</td>\n",
       "      <td>1</td>\n",
       "      <td>58.0</td>\n",
       "      <td>Fri</td>\n",
       "      <td>1-Madrugada</td>\n",
       "    </tr>\n",
       "    <tr>\n",
       "      <th>2</th>\n",
       "      <td>+++g8j9k+5A=</td>\n",
       "      <td>2017-04-29 03:15:16</td>\n",
       "      <td>2017</td>\n",
       "      <td>4</td>\n",
       "      <td>29</td>\n",
       "      <td>3</td>\n",
       "      <td>LIMA</td>\n",
       "      <td>LIMA</td>\n",
       "      <td>Miraflores</td>\n",
       "      <td>17</td>\n",
       "      <td>1</td>\n",
       "      <td>153.0</td>\n",
       "      <td>Sat</td>\n",
       "      <td>1-Madrugada</td>\n",
       "    </tr>\n",
       "  </tbody>\n",
       "</table>\n",
       "</div>"
      ],
      "text/plain": [
       "      client_id                date   año  mes  dia  hora  \\\n",
       "0  +++g8j9k+5A= 2016-09-27 01:37:23  2016    9   27     1   \n",
       "1  +++g8j9k+5A= 2016-06-24 03:35:00  2016    6   24     3   \n",
       "2  +++g8j9k+5A= 2017-04-29 03:15:16  2017    4   29     3   \n",
       "\n",
       "  merchant_departement merchant_province                   mcc  mccg  \\\n",
       "0                 LIMA              LIMA  San Juan De Miraflor    15   \n",
       "1                 LIMA              LIMA     Magdalena Del Mar    15   \n",
       "2                 LIMA              LIMA            Miraflores    17   \n",
       "\n",
       "   quantity  amount_sol dia_semana        turno  \n",
       "0         1       107.0       Tues  1-Madrugada  \n",
       "1         1        58.0        Fri  1-Madrugada  \n",
       "2         1       153.0        Sat  1-Madrugada  "
      ]
     },
     "execution_count": 7,
     "metadata": {},
     "output_type": "execute_result"
    }
   ],
   "source": [
    "data =  temp\n",
    "data.head(3)"
   ]
  },
  {
   "cell_type": "code",
   "execution_count": 8,
   "metadata": {},
   "outputs": [
    {
     "ename": "KeyError",
     "evalue": "'merchant_district'",
     "output_type": "error",
     "traceback": [
      "\u001b[0;31m---------------------------------------------------------------------------\u001b[0m",
      "\u001b[0;31mKeyError\u001b[0m                                  Traceback (most recent call last)",
      "\u001b[0;32m<ipython-input-8-40a732081bb2>\u001b[0m in \u001b[0;36m<module>\u001b[0;34m()\u001b[0m\n\u001b[0;32m----> 1\u001b[0;31m \u001b[0my\u001b[0m \u001b[0;34m=\u001b[0m \u001b[0mlist\u001b[0m\u001b[0;34m(\u001b[0m\u001b[0mdata\u001b[0m\u001b[0;34m.\u001b[0m\u001b[0mgroupby\u001b[0m\u001b[0;34m(\u001b[0m\u001b[0;34m[\u001b[0m\u001b[0;34m'merchant_district'\u001b[0m\u001b[0;34m]\u001b[0m\u001b[0;34m)\u001b[0m\u001b[0;34m.\u001b[0m\u001b[0msum\u001b[0m\u001b[0;34m(\u001b[0m\u001b[0;34m)\u001b[0m\u001b[0;34m[\u001b[0m\u001b[0;34m'amount_sol'\u001b[0m\u001b[0;34m]\u001b[0m\u001b[0;34m)\u001b[0m\u001b[0;34m\u001b[0m\u001b[0m\n\u001b[0m\u001b[1;32m      2\u001b[0m \u001b[0mx\u001b[0m \u001b[0;34m=\u001b[0m \u001b[0mlist\u001b[0m\u001b[0;34m(\u001b[0m\u001b[0mdata\u001b[0m\u001b[0;34m.\u001b[0m\u001b[0mgroupby\u001b[0m\u001b[0;34m(\u001b[0m\u001b[0;34m[\u001b[0m\u001b[0;34m'merchant_district'\u001b[0m\u001b[0;34m]\u001b[0m\u001b[0;34m)\u001b[0m\u001b[0;34m.\u001b[0m\u001b[0msum\u001b[0m\u001b[0;34m(\u001b[0m\u001b[0;34m)\u001b[0m\u001b[0;34m[\u001b[0m\u001b[0;34m'amount_sol'\u001b[0m\u001b[0;34m]\u001b[0m \u001b[0;34m.\u001b[0m\u001b[0mindex\u001b[0m\u001b[0;34m)\u001b[0m\u001b[0;34m\u001b[0m\u001b[0m\n\u001b[1;32m      3\u001b[0m \u001b[0mx\u001b[0m\u001b[0;34m[\u001b[0m\u001b[0my\u001b[0m\u001b[0;34m.\u001b[0m\u001b[0mindex\u001b[0m\u001b[0;34m(\u001b[0m\u001b[0mmin\u001b[0m\u001b[0;34m(\u001b[0m\u001b[0my\u001b[0m\u001b[0;34m)\u001b[0m\u001b[0;34m)\u001b[0m\u001b[0;34m]\u001b[0m\u001b[0;34m\u001b[0m\u001b[0m\n",
      "\u001b[0;32m~/anaconda3/lib/python3.6/site-packages/pandas/core/generic.py\u001b[0m in \u001b[0;36mgroupby\u001b[0;34m(self, by, axis, level, as_index, sort, group_keys, squeeze, observed, **kwargs)\u001b[0m\n\u001b[1;32m   6657\u001b[0m         return groupby(self, by=by, axis=axis, level=level, as_index=as_index,\n\u001b[1;32m   6658\u001b[0m                        \u001b[0msort\u001b[0m\u001b[0;34m=\u001b[0m\u001b[0msort\u001b[0m\u001b[0;34m,\u001b[0m \u001b[0mgroup_keys\u001b[0m\u001b[0;34m=\u001b[0m\u001b[0mgroup_keys\u001b[0m\u001b[0;34m,\u001b[0m \u001b[0msqueeze\u001b[0m\u001b[0;34m=\u001b[0m\u001b[0msqueeze\u001b[0m\u001b[0;34m,\u001b[0m\u001b[0;34m\u001b[0m\u001b[0m\n\u001b[0;32m-> 6659\u001b[0;31m                        observed=observed, **kwargs)\n\u001b[0m\u001b[1;32m   6660\u001b[0m \u001b[0;34m\u001b[0m\u001b[0m\n\u001b[1;32m   6661\u001b[0m     def asfreq(self, freq, method=None, how=None, normalize=False,\n",
      "\u001b[0;32m~/anaconda3/lib/python3.6/site-packages/pandas/core/groupby/groupby.py\u001b[0m in \u001b[0;36mgroupby\u001b[0;34m(obj, by, **kwds)\u001b[0m\n\u001b[1;32m   2150\u001b[0m         \u001b[0;32mraise\u001b[0m \u001b[0mTypeError\u001b[0m\u001b[0;34m(\u001b[0m\u001b[0;34m'invalid type: %s'\u001b[0m \u001b[0;34m%\u001b[0m \u001b[0mtype\u001b[0m\u001b[0;34m(\u001b[0m\u001b[0mobj\u001b[0m\u001b[0;34m)\u001b[0m\u001b[0;34m)\u001b[0m\u001b[0;34m\u001b[0m\u001b[0m\n\u001b[1;32m   2151\u001b[0m \u001b[0;34m\u001b[0m\u001b[0m\n\u001b[0;32m-> 2152\u001b[0;31m     \u001b[0;32mreturn\u001b[0m \u001b[0mklass\u001b[0m\u001b[0;34m(\u001b[0m\u001b[0mobj\u001b[0m\u001b[0;34m,\u001b[0m \u001b[0mby\u001b[0m\u001b[0;34m,\u001b[0m \u001b[0;34m**\u001b[0m\u001b[0mkwds\u001b[0m\u001b[0;34m)\u001b[0m\u001b[0;34m\u001b[0m\u001b[0m\n\u001b[0m\u001b[1;32m   2153\u001b[0m \u001b[0;34m\u001b[0m\u001b[0m\n\u001b[1;32m   2154\u001b[0m \u001b[0;34m\u001b[0m\u001b[0m\n",
      "\u001b[0;32m~/anaconda3/lib/python3.6/site-packages/pandas/core/groupby/groupby.py\u001b[0m in \u001b[0;36m__init__\u001b[0;34m(self, obj, keys, axis, level, grouper, exclusions, selection, as_index, sort, group_keys, squeeze, observed, **kwargs)\u001b[0m\n\u001b[1;32m    597\u001b[0m                                                     \u001b[0msort\u001b[0m\u001b[0;34m=\u001b[0m\u001b[0msort\u001b[0m\u001b[0;34m,\u001b[0m\u001b[0;34m\u001b[0m\u001b[0m\n\u001b[1;32m    598\u001b[0m                                                     \u001b[0mobserved\u001b[0m\u001b[0;34m=\u001b[0m\u001b[0mobserved\u001b[0m\u001b[0;34m,\u001b[0m\u001b[0;34m\u001b[0m\u001b[0m\n\u001b[0;32m--> 599\u001b[0;31m                                                     mutated=self.mutated)\n\u001b[0m\u001b[1;32m    600\u001b[0m \u001b[0;34m\u001b[0m\u001b[0m\n\u001b[1;32m    601\u001b[0m         \u001b[0mself\u001b[0m\u001b[0;34m.\u001b[0m\u001b[0mobj\u001b[0m \u001b[0;34m=\u001b[0m \u001b[0mobj\u001b[0m\u001b[0;34m\u001b[0m\u001b[0m\n",
      "\u001b[0;32m~/anaconda3/lib/python3.6/site-packages/pandas/core/groupby/groupby.py\u001b[0m in \u001b[0;36m_get_grouper\u001b[0;34m(obj, key, axis, level, sort, observed, mutated, validate)\u001b[0m\n\u001b[1;32m   3289\u001b[0m                 \u001b[0min_axis\u001b[0m\u001b[0;34m,\u001b[0m \u001b[0mname\u001b[0m\u001b[0;34m,\u001b[0m \u001b[0mlevel\u001b[0m\u001b[0;34m,\u001b[0m \u001b[0mgpr\u001b[0m \u001b[0;34m=\u001b[0m \u001b[0;32mFalse\u001b[0m\u001b[0;34m,\u001b[0m \u001b[0;32mNone\u001b[0m\u001b[0;34m,\u001b[0m \u001b[0mgpr\u001b[0m\u001b[0;34m,\u001b[0m \u001b[0;32mNone\u001b[0m\u001b[0;34m\u001b[0m\u001b[0m\n\u001b[1;32m   3290\u001b[0m             \u001b[0;32melse\u001b[0m\u001b[0;34m:\u001b[0m\u001b[0;34m\u001b[0m\u001b[0m\n\u001b[0;32m-> 3291\u001b[0;31m                 \u001b[0;32mraise\u001b[0m \u001b[0mKeyError\u001b[0m\u001b[0;34m(\u001b[0m\u001b[0mgpr\u001b[0m\u001b[0;34m)\u001b[0m\u001b[0;34m\u001b[0m\u001b[0m\n\u001b[0m\u001b[1;32m   3292\u001b[0m         \u001b[0;32melif\u001b[0m \u001b[0misinstance\u001b[0m\u001b[0;34m(\u001b[0m\u001b[0mgpr\u001b[0m\u001b[0;34m,\u001b[0m \u001b[0mGrouper\u001b[0m\u001b[0;34m)\u001b[0m \u001b[0;32mand\u001b[0m \u001b[0mgpr\u001b[0m\u001b[0;34m.\u001b[0m\u001b[0mkey\u001b[0m \u001b[0;32mis\u001b[0m \u001b[0;32mnot\u001b[0m \u001b[0;32mNone\u001b[0m\u001b[0;34m:\u001b[0m\u001b[0;34m\u001b[0m\u001b[0m\n\u001b[1;32m   3293\u001b[0m             \u001b[0;31m# Add key to exclusions\u001b[0m\u001b[0;34m\u001b[0m\u001b[0;34m\u001b[0m\u001b[0m\n",
      "\u001b[0;31mKeyError\u001b[0m: 'merchant_district'"
     ]
    }
   ],
   "source": [
    "y = list(data.groupby(['merchant_district']).sum()['amount_sol'])\n",
    "x = list(data.groupby(['merchant_district']).sum()['amount_sol'] .index)\n",
    "x[y.index(min(y))]"
   ]
  },
  {
   "cell_type": "code",
   "execution_count": null,
   "metadata": {},
   "outputs": [],
   "source": [
    "y = list(data.groupby(['merchant_district']).sum()['amount_sol'])\n",
    "x = list(data.groupby(['merchant_district']).sum()['amount_sol'] .index)\n",
    "plt.pie(y, labels=x, autopct='%1.1f%%', shadow=False, startangle=230)\n",
    "plt.axis('equal') \n",
    "for i in range(len(y)):\n",
    "    print(i,':  ',y[i],'     ',x[i])"
   ]
  },
  {
   "cell_type": "code",
   "execution_count": null,
   "metadata": {},
   "outputs": [],
   "source": [
    "data = data.loc[data['merchant_district']=='Lurigancho']\n",
    "data.head(3)"
   ]
  },
  {
   "cell_type": "markdown",
   "metadata": {},
   "source": [
    "## Graficos"
   ]
  },
  {
   "cell_type": "markdown",
   "metadata": {},
   "source": [
    "### Comportamiento de Gastos totales por meses"
   ]
  },
  {
   "cell_type": "code",
   "execution_count": null,
   "metadata": {},
   "outputs": [],
   "source": [
    "# Grafico por Meses - Cantidad\n",
    "\n",
    "nn= data.groupby(['año','mes'], as_index=False, sort=True)['client_id'].count()\n",
    "\n",
    "fig, ax = plt.subplots()\n",
    "ax.bar(nn.index, nn['client_id'], align='center')\n",
    "ax.grid(color='gray', linestyle='--', linewidth=1)\n",
    "\n",
    "ax.set_xlabel('Año')\n",
    "ax.set_xticks(nn.index)\n",
    "\n",
    "ax.set_ylabel('Frecuencia')\n",
    "ax.set_yticks(nn['client_id'])\n",
    "ax.set_title('Histograma')\n",
    "plt.show()\n",
    "nn"
   ]
  },
  {
   "cell_type": "code",
   "execution_count": null,
   "metadata": {},
   "outputs": [],
   "source": [
    "# Grafico por Meses - Montos \n",
    "\n",
    "nn= data.groupby(['año','mes'], as_index=False, sort=True)['amount_sol'].sum()\n",
    "\n",
    "fig, ax = plt.subplots()\n",
    "ax.bar(nn.index, nn['amount_sol'], align='center')\n",
    "ax.grid(color='gray', linestyle='-', linewidth=1)\n",
    "\n",
    "ax.set_xlabel('Año')\n",
    "ax.set_xticks(nn.index)\n",
    "\n",
    "ax.set_ylabel('Monto Total')\n",
    "ax.set_yticks(nn['amount_sol'])\n",
    "ax.set_title('Histograma')\n",
    "plt.show()\n",
    "nn"
   ]
  },
  {
   "cell_type": "code",
   "execution_count": null,
   "metadata": {
    "scrolled": false
   },
   "outputs": [],
   "source": [
    "data.head(3)"
   ]
  },
  {
   "cell_type": "markdown",
   "metadata": {},
   "source": [
    "### Distribucion de Soles"
   ]
  },
  {
   "cell_type": "code",
   "execution_count": null,
   "metadata": {},
   "outputs": [],
   "source": [
    "box = dict(facecolor='#cccc00', pad=4, alpha=0.2)\n",
    "fig, axes = plt.subplots(2, 2)\n",
    "ax1, ax2, ax3, ax4 = axes.flatten()\n",
    "plt.subplots_adjust(top=1, bottom=0.08, left=0.10, right=0.95, hspace=0.55, wspace=0.55)\n",
    "\n",
    "\n",
    "ax1.xaxis.set_major_formatter(formatter)\n",
    "ax1.yaxis.set_major_formatter(formatter)\n",
    "y = data.groupby(['client_id']).count()      # Us por cliente\n",
    "y = y[\"mcc\"].tolist()\n",
    "mu = np.mean(y)\n",
    "median = np.median(y)\n",
    "sigma = np.var(y)\n",
    "text = '$\\mu=%.2f$\\n$\\mathrm{median}=%.2f$\\n$\\sigma=%.2f$' % (mu, median, sigma)\n",
    "ax1.hist(y,100)\n",
    "ax1.set_title('Cantidad de TXs mas Frecuentes')\n",
    "ax1.set_xlabel('TXs Sessions', bbox=box)\n",
    "ax1.set_ylabel('N° de Clientes', bbox=box)\n",
    "ax1.text(0.27, 0.85, text, transform=ax1.transAxes, fontsize=8, verticalalignment='top', bbox=box)\n",
    "\n",
    "\n",
    "ax2.xaxis.set_major_formatter(formatter)\n",
    "ax2.yaxis.set_major_formatter(formatter)\n",
    "y = list(data.groupby(['hora']).sum()['amount_sol'])\n",
    "x = range(len(y))\n",
    "ax2.plot(x,y,'-',color='#66ff1a')\n",
    "ax2.plot(x,y,'ob',color='green')\n",
    "ax2.set_title('Flujo del dinero por Horas')\n",
    "ax2.set_xlabel('Horas', bbox=box)\n",
    "ax2.set_ylabel('Soles', bbox=box)\n",
    "\n",
    "\n",
    "y = data.groupby(['dia_semana']).sum()['amount_sol']\n",
    "x = ['Mon','Tue','Wed','Thu','Fri','Sat','Sun']\n",
    "ax3.yaxis.set_major_formatter(formatter)\n",
    "ax3.set_xticklabels(x, rotation=45)\n",
    "ax3.bar(x,y,0.7,color='#ff8080')\n",
    "ax3.plot(x,y,'-',color='#ff0000')\n",
    "ax3.plot(x,y,'ob',color='#990000')\n",
    "ax3.set_title('Flujo del dinero por Dia')\n",
    "ax3.set_xlabel('Horas', bbox=box)\n",
    "ax3.set_ylabel('Soles', bbox=box)\n",
    "\n",
    "\n",
    "y = list(data.groupby(['turno']).sum()['amount_sol'])\n",
    "x = list(data.groupby(['turno']).sum()['amount_sol'] .index)\n",
    "ax4.yaxis.set_major_formatter(formatter)\n",
    "ax4.set_xticklabels(x, rotation=45)\n",
    "ax4.plot(x,y,'-',color='#66ff1a')\n",
    "ax4.plot(x,y,'ob',color='green')\n",
    "ax4.set_title('Flujo del dinero por Turno')\n",
    "ax4.set_xlabel('Turnos', bbox=box)\n",
    "ax4.set_ylabel('Soles', bbox=box)\n",
    "\n",
    "\n",
    "plt.savefig(\"imagen.png\",dpi = 1000)"
   ]
  },
  {
   "cell_type": "markdown",
   "metadata": {},
   "source": [
    "### Distribucion de Cantidades de TXs"
   ]
  },
  {
   "cell_type": "code",
   "execution_count": null,
   "metadata": {},
   "outputs": [],
   "source": [
    "box = dict(facecolor='#ff6666', pad=4, alpha=0.2)\n",
    "fig, axes = plt.subplots(2, 2)\n",
    "ax1, ax2, ax3, ax4 = axes.flatten()\n",
    "plt.subplots_adjust(top=1, bottom=0.08, left=0.10, right=0.95, hspace=0.55, wspace=0.55)\n",
    "\n",
    "\"\"\"\n",
    "y = list(data.groupby(['merchant_district']).sum()['amount_sol'])\n",
    "x = list(data.groupby(['merchant_district']).sum()['amount_sol'] .index)\n",
    "ax1.pie(y, labels=x, autopct='%1.1f%%', shadow=False, startangle=230)\n",
    "ax1.axis('equal') \n",
    "\"\"\"\n",
    "ax1.xaxis.set_major_formatter(formatter)\n",
    "ax1.yaxis.set_major_formatter(formatter)\n",
    "y = list(data.groupby(['hora']).mean()['amount_sol'])\n",
    "y_max = list(data.groupby(['hora']).max()['amount_sol'])\n",
    "x = range(len(y))\n",
    "# ax1.plot(x,y_max,'-',color='#66ff1a')\n",
    "ax1.plot(x,y,'-',color='#66ff1a')\n",
    "ax1.plot(x,y,'ob',color='green')\n",
    "ax1.set_title('Gasto por Horas')\n",
    "ax1.set_xlabel('Horas', bbox=box)\n",
    "ax1.set_ylabel('Gasto promedio', bbox=box)\n",
    "\n",
    "\n",
    "ax2.xaxis.set_major_formatter(formatter)\n",
    "ax2.yaxis.set_major_formatter(formatter)\n",
    "y = list(data.groupby(['hora']).count()['quantity'])\n",
    "x = range(len(y))\n",
    "ax2.plot(x,y,'-',color='#66ff1a')\n",
    "ax2.plot(x,y,'ob',color='green')\n",
    "ax2.set_title('N° de TXs por Horas')\n",
    "ax2.set_xlabel('Horas', bbox=box)\n",
    "ax2.set_ylabel('Cantidad de TXs', bbox=box)\n",
    "\n",
    "\n",
    "y = data.groupby(['dia_semana']).count()['quantity']\n",
    "x = ['Mon','Tue','Wed','Thu','Fri','Sat','Sun']\n",
    "ax3.yaxis.set_major_formatter(formatter)\n",
    "ax3.set_xticklabels(x, rotation=45)\n",
    "ax3.bar(x,y,0.7,color='#ff8080')\n",
    "ax3.plot(x,y,'-',color='#ff0000')\n",
    "ax3.plot(x,y,'ob',color='#990000')\n",
    "ax3.set_title('N° de TXs por Dia')\n",
    "ax3.set_xlabel('Horas', bbox=box)\n",
    "ax3.set_ylabel('Cantidad de TXs', bbox=box)\n",
    "\n",
    "\n",
    "y = list(data.groupby(['turno']).count()['quantity'])\n",
    "x = list(data.groupby(['turno']).count()['quantity'] .index)\n",
    "ax4.yaxis.set_major_formatter(formatter)\n",
    "ax4.set_xticklabels(x, rotation=45)\n",
    "ax4.plot(x,y,'-',color='#66ff1a')\n",
    "ax4.plot(x,y,'ob',color='green')\n",
    "ax4.set_title('N° de TXs por Turno (U)')\n",
    "ax4.set_xlabel('Turnos', bbox=box)\n",
    "ax4.set_ylabel('Cantidad de TXs', bbox=box)\n",
    "\n",
    "\n",
    "plt.savefig(\"imagen.png\",dpi = 1000)"
   ]
  },
  {
   "cell_type": "code",
   "execution_count": null,
   "metadata": {},
   "outputs": [],
   "source": []
  },
  {
   "cell_type": "code",
   "execution_count": null,
   "metadata": {},
   "outputs": [],
   "source": []
  }
 ],
 "metadata": {
  "kernelspec": {
   "display_name": "Python 3",
   "language": "python",
   "name": "python3"
  },
  "language_info": {
   "codemirror_mode": {
    "name": "ipython",
    "version": 3
   },
   "file_extension": ".py",
   "mimetype": "text/x-python",
   "name": "python",
   "nbconvert_exporter": "python",
   "pygments_lexer": "ipython3",
   "version": "3.6.5"
  },
  "toc": {
   "base_numbering": 1,
   "nav_menu": {},
   "number_sections": false,
   "sideBar": true,
   "skip_h1_title": false,
   "title_cell": "Table of Contents",
   "title_sidebar": "Contents",
   "toc_cell": false,
   "toc_position": {},
   "toc_section_display": true,
   "toc_window_display": true
  }
 },
 "nbformat": 4,
 "nbformat_minor": 2
}
