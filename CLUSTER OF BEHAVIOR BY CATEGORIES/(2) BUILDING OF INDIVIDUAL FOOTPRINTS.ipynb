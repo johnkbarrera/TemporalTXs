{
 "cells": [
  {
   "cell_type": "markdown",
   "metadata": {},
   "source": [
    "# INDIVIDUAL FOOTPRINTS"
   ]
  },
  {
   "cell_type": "code",
   "execution_count": 1,
   "metadata": {},
   "outputs": [],
   "source": [
    "import numpy as np\n",
    "import datetime\n",
    "import json\n",
    "import pylab\n",
    "import pandas as pd\n",
    "import matplotlib.pyplot as plt\n",
    "import os, sys"
   ]
  },
  {
   "cell_type": "markdown",
   "metadata": {},
   "source": [
    "## Preparacion de datos"
   ]
  },
  {
   "cell_type": "raw",
   "metadata": {},
   "source": [
    "Dado:\n",
    "\n",
    "    Sesion de TX\n",
    "        s = {cliente, timestamp, Monto}\n",
    "    \n",
    "    Cada cliente tiene una secuencia de sesiones de TX (S)\n",
    "        S = { s1, s2 , s3, ..., sn}          n: # de sesiones de cada cliente\n",
    "        \n",
    "        \n",
    "    "
   ]
  },
  {
   "cell_type": "markdown",
   "metadata": {},
   "source": [
    "### Cargando datos"
   ]
  },
  {
   "cell_type": "code",
   "execution_count": 2,
   "metadata": {},
   "outputs": [
    {
     "data": {
      "text/html": [
       "<div>\n",
       "<style scoped>\n",
       "    .dataframe tbody tr th:only-of-type {\n",
       "        vertical-align: middle;\n",
       "    }\n",
       "\n",
       "    .dataframe tbody tr th {\n",
       "        vertical-align: top;\n",
       "    }\n",
       "\n",
       "    .dataframe thead th {\n",
       "        text-align: right;\n",
       "    }\n",
       "</style>\n",
       "<table border=\"1\" class=\"dataframe\">\n",
       "  <thead>\n",
       "    <tr style=\"text-align: right;\">\n",
       "      <th></th>\n",
       "      <th>client_id</th>\n",
       "      <th>date</th>\n",
       "      <th>año</th>\n",
       "      <th>mes</th>\n",
       "      <th>dia</th>\n",
       "      <th>hora</th>\n",
       "      <th>merchant_departement</th>\n",
       "      <th>merchant_province</th>\n",
       "      <th>merchant_district</th>\n",
       "      <th>mcc</th>\n",
       "      <th>mccg</th>\n",
       "      <th>client_age</th>\n",
       "      <th>quantity</th>\n",
       "      <th>amount_sol</th>\n",
       "      <th>dia_semana</th>\n",
       "      <th>turno</th>\n",
       "    </tr>\n",
       "  </thead>\n",
       "  <tbody>\n",
       "    <tr>\n",
       "      <th>0</th>\n",
       "      <td>NNeQwQy9MAQ=</td>\n",
       "      <td>2016-07-15 22:23:25</td>\n",
       "      <td>2016</td>\n",
       "      <td>7</td>\n",
       "      <td>15</td>\n",
       "      <td>22</td>\n",
       "      <td>LIMA</td>\n",
       "      <td>LIMA</td>\n",
       "      <td>San Juan De Luriganc</td>\n",
       "      <td>7994</td>\n",
       "      <td>2</td>\n",
       "      <td>33.0</td>\n",
       "      <td>1</td>\n",
       "      <td>100.0</td>\n",
       "      <td>Fri</td>\n",
       "      <td>4-Noche</td>\n",
       "    </tr>\n",
       "    <tr>\n",
       "      <th>1</th>\n",
       "      <td>qFRoPHPOc/I=</td>\n",
       "      <td>2016-06-21 21:30:55</td>\n",
       "      <td>2016</td>\n",
       "      <td>6</td>\n",
       "      <td>21</td>\n",
       "      <td>21</td>\n",
       "      <td>LIMA</td>\n",
       "      <td>LIMA</td>\n",
       "      <td>San Juan De Luriganc</td>\n",
       "      <td>7994</td>\n",
       "      <td>2</td>\n",
       "      <td>52.0</td>\n",
       "      <td>1</td>\n",
       "      <td>20.0</td>\n",
       "      <td>Tues</td>\n",
       "      <td>4-Noche</td>\n",
       "    </tr>\n",
       "    <tr>\n",
       "      <th>2</th>\n",
       "      <td>qFRoPHPOc/I=</td>\n",
       "      <td>2017-02-01 01:29:59</td>\n",
       "      <td>2017</td>\n",
       "      <td>2</td>\n",
       "      <td>1</td>\n",
       "      <td>1</td>\n",
       "      <td>LIMA</td>\n",
       "      <td>LIMA</td>\n",
       "      <td>San Juan De Luriganc</td>\n",
       "      <td>7994</td>\n",
       "      <td>2</td>\n",
       "      <td>52.0</td>\n",
       "      <td>1</td>\n",
       "      <td>100.0</td>\n",
       "      <td>Weds</td>\n",
       "      <td>1-Madrugada</td>\n",
       "    </tr>\n",
       "  </tbody>\n",
       "</table>\n",
       "</div>"
      ],
      "text/plain": [
       "      client_id                 date   año  mes  dia  hora  \\\n",
       "0  NNeQwQy9MAQ=  2016-07-15 22:23:25  2016    7   15    22   \n",
       "1  qFRoPHPOc/I=  2016-06-21 21:30:55  2016    6   21    21   \n",
       "2  qFRoPHPOc/I=  2017-02-01 01:29:59  2017    2    1     1   \n",
       "\n",
       "  merchant_departement merchant_province     merchant_district   mcc  mccg  \\\n",
       "0                 LIMA              LIMA  San Juan De Luriganc  7994     2   \n",
       "1                 LIMA              LIMA  San Juan De Luriganc  7994     2   \n",
       "2                 LIMA              LIMA  San Juan De Luriganc  7994     2   \n",
       "\n",
       "   client_age  quantity  amount_sol dia_semana        turno  \n",
       "0        33.0         1       100.0        Fri      4-Noche  \n",
       "1        52.0         1        20.0       Tues      4-Noche  \n",
       "2        52.0         1       100.0       Weds  1-Madrugada  "
      ]
     },
     "execution_count": 2,
     "metadata": {},
     "output_type": "execute_result"
    }
   ],
   "source": [
    "\n",
    "def leer_data():\n",
    "    outfile='./SOURCES/data.csv'\n",
    "    data = pd.read_csv(outfile)\n",
    "    return data\n",
    "\n",
    "data_original = leer_data()\n",
    "data_original.head(3)"
   ]
  },
  {
   "cell_type": "markdown",
   "metadata": {},
   "source": [
    "### Preparacion de datos"
   ]
  },
  {
   "cell_type": "code",
   "execution_count": 3,
   "metadata": {},
   "outputs": [
    {
     "data": {
      "text/html": [
       "<div>\n",
       "<style scoped>\n",
       "    .dataframe tbody tr th:only-of-type {\n",
       "        vertical-align: middle;\n",
       "    }\n",
       "\n",
       "    .dataframe tbody tr th {\n",
       "        vertical-align: top;\n",
       "    }\n",
       "\n",
       "    .dataframe thead th {\n",
       "        text-align: right;\n",
       "    }\n",
       "</style>\n",
       "<table border=\"1\" class=\"dataframe\">\n",
       "  <thead>\n",
       "    <tr style=\"text-align: right;\">\n",
       "      <th></th>\n",
       "      <th>client_id</th>\n",
       "      <th>mccg</th>\n",
       "      <th>date</th>\n",
       "      <th>año</th>\n",
       "      <th>mes</th>\n",
       "      <th>dia</th>\n",
       "      <th>hora</th>\n",
       "      <th>quantity</th>\n",
       "      <th>amount_sol</th>\n",
       "    </tr>\n",
       "  </thead>\n",
       "  <tbody>\n",
       "    <tr>\n",
       "      <th>0</th>\n",
       "      <td>NNeQwQy9MAQ=</td>\n",
       "      <td>2</td>\n",
       "      <td>2016-07-15 22:23:25</td>\n",
       "      <td>2016</td>\n",
       "      <td>7</td>\n",
       "      <td>15</td>\n",
       "      <td>22</td>\n",
       "      <td>1</td>\n",
       "      <td>100.0</td>\n",
       "    </tr>\n",
       "    <tr>\n",
       "      <th>1</th>\n",
       "      <td>qFRoPHPOc/I=</td>\n",
       "      <td>2</td>\n",
       "      <td>2016-06-21 21:30:55</td>\n",
       "      <td>2016</td>\n",
       "      <td>6</td>\n",
       "      <td>21</td>\n",
       "      <td>21</td>\n",
       "      <td>1</td>\n",
       "      <td>20.0</td>\n",
       "    </tr>\n",
       "    <tr>\n",
       "      <th>2</th>\n",
       "      <td>qFRoPHPOc/I=</td>\n",
       "      <td>2</td>\n",
       "      <td>2017-02-01 01:29:59</td>\n",
       "      <td>2017</td>\n",
       "      <td>2</td>\n",
       "      <td>1</td>\n",
       "      <td>1</td>\n",
       "      <td>1</td>\n",
       "      <td>100.0</td>\n",
       "    </tr>\n",
       "  </tbody>\n",
       "</table>\n",
       "</div>"
      ],
      "text/plain": [
       "      client_id  mccg                 date   año  mes  dia  hora  quantity  \\\n",
       "0  NNeQwQy9MAQ=     2  2016-07-15 22:23:25  2016    7   15    22         1   \n",
       "1  qFRoPHPOc/I=     2  2016-06-21 21:30:55  2016    6   21    21         1   \n",
       "2  qFRoPHPOc/I=     2  2017-02-01 01:29:59  2017    2    1     1         1   \n",
       "\n",
       "   amount_sol  \n",
       "0       100.0  \n",
       "1        20.0  \n",
       "2       100.0  "
      ]
     },
     "execution_count": 3,
     "metadata": {},
     "output_type": "execute_result"
    }
   ],
   "source": [
    "data = data_original[['client_id','mccg','date','año','mes','dia','hora','quantity','amount_sol']]\n",
    "data.head(3)   "
   ]
  },
  {
   "cell_type": "markdown",
   "metadata": {},
   "source": [
    "# FOOTPRINT PARA CADA MCCG"
   ]
  },
  {
   "cell_type": "markdown",
   "metadata": {},
   "source": [
    "## Unidad de TXs temporales (U)"
   ]
  },
  {
   "cell_type": "raw",
   "metadata": {},
   "source": [
    "Resume un conjunto de TXs en un perido de \"d\" dias\n",
    "\n",
    "Dado:\n",
    "    t = time-window = 4 = [mañana, tarde, noche, madrugada]\n",
    "    d = day = 7 dias \n",
    "    tau = cada semana\n",
    "    \n",
    "Para cada cliente:\n",
    "    S = {s1, ..., sn}\n",
    "    \n",
    "    obtenemos: SS = {U(1), U(2), U(3), ...,U(m)}     obviamente m <=n"
   ]
  },
  {
   "cell_type": "markdown",
   "metadata": {},
   "source": [
    "### Funciones"
   ]
  },
  {
   "cell_type": "code",
   "execution_count": 4,
   "metadata": {},
   "outputs": [],
   "source": [
    "# definimos los 4 time_windows que usaremos\n",
    "\n",
    "def time_window(hora):\n",
    "    tw = 9999\n",
    "    if hora >=0:\n",
    "        tw = 0      # Madrugada\n",
    "    if hora >=6:\n",
    "        tw = 1      # Mañana\n",
    "    if hora >=12:\n",
    "        tw = 2      # Tarde\n",
    "    if hora >=18:\n",
    "        tw = 3      # Noche\n",
    "    return tw"
   ]
  },
  {
   "cell_type": "code",
   "execution_count": 5,
   "metadata": {},
   "outputs": [],
   "source": [
    "# Definimos los U \n",
    "\n",
    "def procesar_u(user):    \n",
    "    uid=list(user['client_id'])[0]\n",
    "    \n",
    "    # Lista los años en que tiene txs el usuario\n",
    "    years = set(list(user['año']))\n",
    "    anni = {year:{} for year in list(years)}\n",
    "    \n",
    "    # para cada fila (para cada fecha)\n",
    "    for dat in  range(0,len(user)):\n",
    "        año = user.iloc[dat]['año']\n",
    "        week=datetime.datetime(año,user.iloc[dat]['mes'],user.iloc[dat]['dia']).isocalendar()[1]\n",
    "        weekday=datetime.datetime(año,user.iloc[dat]['mes'],user.iloc[dat]['dia']).weekday()\n",
    "        turn = time_window(data.iloc[dat]['hora'])\n",
    "        \n",
    "        # Si la semana no existe en el año\n",
    "        if not(week in anni[año]):\n",
    "            anni[año][week] = {}\n",
    "        # Si el turno no existe en la semana y año\n",
    "        if not (turn in anni[año][week]):\n",
    "            anni[año][week][turn]=np.array([0]*7)  #CUATRO TURNOS\n",
    "            \n",
    "        anni[año][week][turn][weekday]+=user.iloc[dat]['quantity'] # suma cantidades \"importancia por compras\"\n",
    "        #anni[año][week][turn][weekday]+=user.iloc[dat]['amount_sol'] # suma montos \"importancia por gastos\"\n",
    "            \n",
    "    return uid,anni"
   ]
  },
  {
   "cell_type": "markdown",
   "metadata": {},
   "source": [
    "### Procesando U de cada MCCG"
   ]
  },
  {
   "cell_type": "code",
   "execution_count": 6,
   "metadata": {},
   "outputs": [
    {
     "data": {
      "text/plain": [
       "array([ 2,  3,  4,  5,  6,  8,  9, 10, 11, 12, 13, 14, 15, 16, 17, 18, 19,\n",
       "       21, 22, 23, 25, 26, 27, 28])"
      ]
     },
     "execution_count": 6,
     "metadata": {},
     "output_type": "execute_result"
    }
   ],
   "source": [
    "mccg = data.groupby(['mccg']).min().index.values\n",
    "mccg"
   ]
  },
  {
   "cell_type": "code",
   "execution_count": null,
   "metadata": {},
   "outputs": [
    {
     "name": "stdout",
     "output_type": "stream",
     "text": [
      "\n",
      "Number of rows 3400\n",
      "number of footprint: 1836\n",
      "mccg_2 Finalizado\n",
      "\n",
      "Number of rows 653\n",
      "number of footprint: 633\n",
      "mccg_3 Finalizado\n",
      "\n",
      "Number of rows 56\n",
      "number of footprint: 56\n",
      "mccg_4 Finalizado\n",
      "\n",
      "Number of rows 11465\n",
      "number of footprint: 10687\n",
      "mccg_5 Finalizado\n",
      "\n",
      "Number of rows 72\n",
      "number of footprint: 71\n",
      "mccg_6 Finalizado\n",
      "\n",
      "Number of rows 12819\n",
      "number of footprint: 12112\n",
      "mccg_8 Finalizado\n",
      "\n",
      "Number of rows 180\n",
      "number of footprint: 169\n",
      "mccg_9 Finalizado\n",
      "\n",
      "Number of rows 9417\n"
     ]
    }
   ],
   "source": [
    "for j in range(len(mccg)):\n",
    "    print()\n",
    "    data_temp = data.loc[data['mccg'] == mccg[j]]\n",
    "    \n",
    "    path = \"RESULTS/MCCG_\"+str(mccg[j])\n",
    "    file_name=\"mccg_\"+str(mccg[j])\n",
    "    try:\n",
    "        os.stat(path)\n",
    "    except:\n",
    "        os.mkdir(path) \n",
    "\n",
    "    file='./%s/%s.json' %(path,file_name)\n",
    "    \n",
    "    ##################################################\n",
    "    #        Procesando U de cada CLIENTE\n",
    "    ##################################################\n",
    "    \n",
    "    # Extraemos la lista de clientes sin repetir\n",
    "    clientes =  data_temp.groupby('client_id').client_id.count().index\n",
    "    profiles={}\n",
    "    \n",
    "    print(\"Number of rows \"+str(len(data_temp)))\n",
    "    # Para cada cliente\n",
    "    for cliente in clientes:\n",
    "        cliente_i= data_temp[data_temp['client_id'] == cliente]\n",
    "        ## ejecutamos para cada usuario\n",
    "        results=procesar_u(cliente_i)\n",
    "        profiles[results[0]]=results[1]\n",
    "    \n",
    "    individual_footprint=\"%s.individual_footprint\" %(file)\n",
    "    fw=open(individual_footprint,'w')\n",
    "    fw.write('customer_id,year,week,profile_id,turn,size,d0t0,d1t0,d2t0,d3t0,d4t0,d5t0,d6t0,d0t1,d1t1,d2t1,d3t1,d4t1,d5t1,d6t1,d0t2,d1t2,d2t2,d3t2,d4t2,d5t2,d6t2,d0t3,d1t3,d2t3,d3t3,d4t3,d5t3,d6t3\\n')\n",
    "    footprints=0\n",
    "    for uid in profiles:\n",
    "        profile_id=0\n",
    "        for year in profiles[uid]:\n",
    "            for week in profiles[uid][year]:\n",
    "                temp=np.zeros(28)\n",
    "                for turn in profiles[uid][year][week]:\n",
    "                    d=profiles[uid][year][week][turn]\n",
    "                    if(turn == 0):\n",
    "                        for i in range(0,7):\n",
    "                            temp[i] += d[i]\n",
    "                    if(turn == 1):\n",
    "                        for i in range(7,14):\n",
    "                            temp[i] += d[i-7]\n",
    "                    if(turn == 2):\n",
    "                        for i in range(14,21):\n",
    "                            temp[i] += d[i-14]\n",
    "                    if(turn == 3):\n",
    "                        for i in range(21,28):\n",
    "                            temp[i] += d[i-21]\n",
    "\n",
    "\n",
    "                fw.write(''+str(uid)+','+str(year)+','+str(week)+','+str(profile_id)+','+str(turn)+','+str(sum(temp))+','\n",
    "                         +str(temp[0])+','+str(temp[1])+','+str(temp[2])+','+str(temp[3])+','+str(temp[4])+','+str(temp[5])+','+str(temp[6])+','\n",
    "                         +str(temp[7])+','+str(temp[8])+','+str(temp[9])+','+str(temp[10])+','+str(temp[11])+','+str(temp[12])+','+str(temp[13])+','\n",
    "                         +str(temp[14])+','+str(temp[15])+','+str(temp[16])+','+str(temp[17])+','+str(temp[18])+','+str(temp[19])+','+str(temp[20])+','\n",
    "                         +str(temp[21])+','+str(temp[22])+','+str(temp[23])+','+str(temp[24])+','+str(temp[25])+','+str(temp[26])+','+str(temp[27])\n",
    "                         +'\\n')\n",
    "\n",
    "                profile_id = profile_id + 1\n",
    "        footprints+=profile_id\n",
    "        fw.flush()\n",
    "    fw.close()\n",
    "    print (\"number of footprint: \"+str(footprints))\n",
    "    print(\"mccg_\"+str(mccg[j])+\" Finalizado\")"
   ]
  },
  {
   "cell_type": "code",
   "execution_count": null,
   "metadata": {},
   "outputs": [],
   "source": []
  }
 ],
 "metadata": {
  "kernelspec": {
   "display_name": "Python 3",
   "language": "python",
   "name": "python3"
  },
  "language_info": {
   "codemirror_mode": {
    "name": "ipython",
    "version": 3
   },
   "file_extension": ".py",
   "mimetype": "text/x-python",
   "name": "python",
   "nbconvert_exporter": "python",
   "pygments_lexer": "ipython3",
   "version": "3.6.5"
  },
  "toc": {
   "base_numbering": 1,
   "nav_menu": {},
   "number_sections": false,
   "sideBar": true,
   "skip_h1_title": false,
   "title_cell": "Table of Contents",
   "title_sidebar": "Contents",
   "toc_cell": false,
   "toc_position": {
    "height": "calc(100% - 180px)",
    "left": "10px",
    "top": "150px",
    "width": "280px"
   },
   "toc_section_display": true,
   "toc_window_display": true
  }
 },
 "nbformat": 4,
 "nbformat_minor": 2
}
