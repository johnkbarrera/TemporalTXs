{
 "cells": [
  {
   "cell_type": "markdown",
   "metadata": {},
   "source": [
    "# COLLECTIVE CLUSTERING"
   ]
  },
  {
   "cell_type": "code",
   "execution_count": 1,
   "metadata": {},
   "outputs": [],
   "source": [
    "import numpy as np\n",
    "import datetime\n",
    "import json\n",
    "import pylab\n",
    "import pandas as pd\n",
    "import matplotlib.pyplot as plt"
   ]
  },
  {
   "cell_type": "markdown",
   "metadata": {},
   "source": [
    "### Detalles"
   ]
  },
  {
   "cell_type": "raw",
   "metadata": {},
   "source": [
    "Dado:\n",
    "\n",
    "    Sesion de TX\n",
    "        s = {cliente, timestamp, Monto}\n",
    "    \n",
    "    Cada cliente tiene una secuencia de sesiones de TX (S)\n",
    "        S = { s1, s2 , s3, ..., sn}          n: # de sesiones de cada cliente\n",
    "        \n",
    "        \n",
    "    "
   ]
  },
  {
   "cell_type": "markdown",
   "metadata": {},
   "source": [
    "### Lista de Clientes"
   ]
  },
  {
   "cell_type": "code",
   "execution_count": 2,
   "metadata": {},
   "outputs": [],
   "source": [
    "# Extraemos la lista de clientes sin repetir\n",
    "\n",
    "def leer_data():\n",
    "    outfile='./data2/data.csv'\n",
    "    data = pd.read_csv(outfile)\n",
    "    return data\n",
    "\n",
    "data = leer_data()\n",
    "clientes =  data.groupby('client_id').client_id.count().index"
   ]
  },
  {
   "cell_type": "markdown",
   "metadata": {},
   "source": [
    "## Temporal TXs footprint"
   ]
  },
  {
   "cell_type": "code",
   "execution_count": 3,
   "metadata": {},
   "outputs": [],
   "source": [
    "# Definimos la ruta de los archivos \n",
    "\n",
    "file='U'\n",
    "raw_data='./data2/%s.json' %(file)\n",
    "\n",
    "individual_footprint=\"%s.individual_footprint\" %(raw_data)\n",
    "\n",
    "individual_clusters=\"%s.clusters\" %(individual_footprint)\n",
    "individual_labels=\"%s.labels\" %(individual_footprint)\n",
    "\n",
    "collective_clusters=\"%s.collective_footprint.clusters\" %(raw_data)\n",
    "collective_labels=\"%s.collective_footprint.labels\" %(raw_data)"
   ]
  },
  {
   "cell_type": "markdown",
   "metadata": {},
   "source": [
    "### Funciones"
   ]
  },
  {
   "cell_type": "code",
   "execution_count": 4,
   "metadata": {},
   "outputs": [],
   "source": [
    "def process_footprint(data,tests,log=False):\n",
    "    from sklearn.cluster import MiniBatchKMeans\n",
    "    #KMeans(init='k-means++', n_clusters=k, n_init=10)\n",
    "    import datetime\n",
    "    K={}\n",
    "    for k in tests:\n",
    "        if k<=len(data):\n",
    "            if log:\n",
    "                print(\"%s: processing %s\"%(datetime.datetime.now(),k))\n",
    "            K[k]=bench_k_means(MiniBatchKMeans(init='k-means++', n_clusters=k, batch_size=100,\n",
    "                      n_init=10, max_no_improvement=10, verbose=0,\n",
    "                      random_state=0),name=\"k-means++\", data=data)\n",
    "    return K"
   ]
  },
  {
   "cell_type": "code",
   "execution_count": 5,
   "metadata": {},
   "outputs": [],
   "source": [
    "def compute_best_k(x,y,occurrencies, plot=False,points=1000,sf=0.9):\n",
    "    import numpy as np\n",
    "    \n",
    "    if len(x)<5:\n",
    "        return max(1, round(np.sqrt(occurrencies/2)))\n",
    "    \n",
    "    from scipy.interpolate import interp1d\n",
    "    from scipy.interpolate import UnivariateSpline\n",
    "    spl = UnivariateSpline(x, y)\n",
    "    spl.set_smoothing_factor(sf)\n",
    "    xs = np.linspace(min(x), max(x), points)\n",
    "    ys = spl(xs)\n",
    "    idx_better_k=get_change_point(xs, ys)\n",
    "    if plot:\n",
    "        import pylab\n",
    "        pylab.plot(xs,ys)\n",
    "        \n",
    "        pylab.scatter(xs[idx_better_k],ys[idx_better_k],s=20, marker='o')\n",
    "        pylab.text(xs[idx_better_k],ys[idx_better_k],\"bestK %s\" %(np.round(xs[idx_better_k])))\n",
    "        return int(np.round(xs[idx_better_k])),pylab\n",
    "    return int(np.round(xs[idx_better_k]))"
   ]
  },
  {
   "cell_type": "code",
   "execution_count": 6,
   "metadata": {},
   "outputs": [],
   "source": [
    "def bench_k_means(estimator, name, data,distance_function=None):\n",
    "    from sklearn import metrics\n",
    "    from sklearn.metrics import silhouette_samples, silhouette_score\n",
    "    import time\n",
    "    t0 = time.time()\n",
    "    if distance_function:\n",
    "        estimator.fit(data,distance_function)\n",
    "    else:\n",
    "        estimator.fit(data)\n",
    "    #cluster_labels = estimator.fit_predict(data)\n",
    "    #silhouette_score_ = silhouette_score(data, cluster_labels)\n",
    "    \n",
    "    inertia=estimator.inertia_\n",
    "    duration=time.time() - t0\n",
    "    return {'inertia':inertia,'duration':duration, 'estimator':estimator}#,'silhouette':silhouette_score_}\n",
    "\n",
    "def get_change_point(x, y):\n",
    "    \"\"\"\n",
    "         Elección del mejor K\n",
    "         :: param x: lista de valores de K\n",
    "         :: param y: lista de valores de SSE\n",
    "    \"\"\"\n",
    "    import math\n",
    "    max_d = -float('infinity')\n",
    "    index = 0\n",
    "\n",
    "    for i in range(0, len(x)):\n",
    "        c = closest_point_on_segment(a=[x[0], y[0]], b=[x[len(x)-1], y[len(y)-1]], p=[x[i], y[i]])\n",
    "        d = math.sqrt((c[0]-x[i])**2 + (c[1]-y[i])**2)\n",
    "        if d > max_d:\n",
    "            max_d = d\n",
    "            index = i\n",
    "    \n",
    "    return index\n",
    "\n",
    "def closest_point_on_segment(a, b, p):\n",
    "    sx1 = a[0]\n",
    "    sx2 = b[0]\n",
    "    sy1 = a[1]\n",
    "    sy2 = b[1]\n",
    "    px = p[0]\n",
    "    py = p[1]\n",
    "\n",
    "    x_delta = sx2 - sx1\n",
    "    y_delta = sy2 - sy1\n",
    "\n",
    "    if x_delta == 0 and y_delta == 0:\n",
    "        return p\n",
    "\n",
    "    u = ((px - sx1) * x_delta + (py - sy1) * y_delta) / (x_delta * x_delta + y_delta *  y_delta)\n",
    "    if u < 0:\n",
    "        closest_point = a\n",
    "    elif u > 1:\n",
    "        closest_point = b\n",
    "    else:\n",
    "        cp_x = sx1 + u * x_delta\n",
    "        cp_y = sy1 + u * y_delta\n",
    "        closest_point = [cp_x, cp_y]\n",
    "\n",
    "    return closest_point\n",
    "\t"
   ]
  },
  {
   "cell_type": "markdown",
   "metadata": {},
   "source": [
    "### Collective clustering"
   ]
  },
  {
   "cell_type": "code",
   "execution_count": 7,
   "metadata": {},
   "outputs": [
    {
     "name": "stdout",
     "output_type": "stream",
     "text": [
      "2018-08-07 15:12:37.997830: processing 2\n",
      "2018-08-07 15:12:38.065028: processing 3\n",
      "2018-08-07 15:12:38.106363: processing 4\n",
      "2018-08-07 15:12:38.141646: processing 5\n",
      "2018-08-07 15:12:38.170149: processing 6\n",
      "2018-08-07 15:12:38.200232: processing 7\n",
      "2018-08-07 15:12:38.236104: processing 8\n",
      "2018-08-07 15:12:38.271105: processing 9\n",
      "2018-08-07 15:12:38.307861: processing 10\n",
      "2018-08-07 15:12:38.346813: processing 11\n",
      "2018-08-07 15:12:38.387379: processing 12\n",
      "2018-08-07 15:12:38.437728: processing 13\n",
      "2018-08-07 15:12:38.486313: processing 14\n",
      "2018-08-07 15:12:38.556766: processing 15\n",
      "2018-08-07 15:12:38.636150: processing 16\n",
      "2018-08-07 15:12:38.828141: processing 17\n",
      "2018-08-07 15:12:39.003523: processing 18\n",
      "2018-08-07 15:12:39.080868: processing 19\n",
      "2018-08-07 15:12:39.157963: processing 20\n",
      "2018-08-07 15:12:39.237532: processing 21\n",
      "2018-08-07 15:12:39.305546: processing 22\n",
      "2018-08-07 15:12:39.369996: processing 23\n",
      "2018-08-07 15:12:39.434776: processing 24\n",
      "2018-08-07 15:12:39.523278: processing 25\n",
      "2018-08-07 15:12:39.619088: processing 26\n",
      "2018-08-07 15:12:39.709150: processing 27\n",
      "2018-08-07 15:12:39.808960: processing 28\n",
      "2018-08-07 15:12:39.883567: processing 29\n",
      "2018-08-07 15:12:39.975905: processing 30\n",
      "2018-08-07 15:12:40.059679: processing 31\n",
      "2018-08-07 15:12:40.140182: processing 32\n",
      "2018-08-07 15:12:40.221656: processing 33\n",
      "2018-08-07 15:12:40.313567: processing 34\n",
      "2018-08-07 15:12:40.399406: processing 35\n",
      "2018-08-07 15:12:40.502653: processing 36\n",
      "2018-08-07 15:12:40.617761: processing 37\n",
      "2018-08-07 15:12:40.725714: processing 38\n",
      "2018-08-07 15:12:40.838886: processing 39\n",
      "2018-08-07 15:12:40.951835: processing 40\n",
      "2018-08-07 15:12:41.051904: processing 41\n",
      "2018-08-07 15:12:41.155393: processing 42\n",
      "2018-08-07 15:12:41.282970: processing 43\n",
      "2018-08-07 15:12:41.474545: processing 44\n",
      "2018-08-07 15:12:41.641533: processing 45\n",
      "2018-08-07 15:12:41.748597: processing 46\n",
      "2018-08-07 15:12:41.865539: processing 47\n",
      "2018-08-07 15:12:41.977748: processing 48\n",
      "2018-08-07 15:12:42.093673: processing 49\n",
      "2018-08-07 15:12:42.219699: processing 50\n",
      "2018-08-07 15:12:42.371613: processing 55\n",
      "2018-08-07 15:12:42.543471: processing 60\n",
      "2018-08-07 15:12:42.750717: processing 65\n",
      "2018-08-07 15:12:42.950776: processing 70\n",
      "2018-08-07 15:12:43.113318: processing 75\n",
      "2018-08-07 15:12:43.281989: processing 80\n",
      "2018-08-07 15:12:43.609215: processing 85\n",
      "2018-08-07 15:12:43.796165: processing 90\n",
      "2018-08-07 15:12:44.029900: processing 95\n",
      "2018-08-07 15:12:44.241986: processing 100\n",
      "2018-08-07 15:12:44.465510: processing 105\n",
      "2018-08-07 15:12:44.764931: processing 110\n",
      "2018-08-07 15:12:45.020010: processing 115\n",
      "2018-08-07 15:12:45.358007: processing 120\n",
      "2018-08-07 15:12:45.689298: processing 125\n",
      "2018-08-07 15:12:46.048798: processing 130\n",
      "2018-08-07 15:12:46.366305: processing 135\n",
      "2018-08-07 15:12:46.736208: processing 140\n",
      "2018-08-07 15:12:47.084115: processing 145\n"
     ]
    }
   ],
   "source": [
    "f=open(individual_clusters)   #  uid,cluster_id,profile\n",
    "f.readline()                  #  Saltamos una linea\n",
    "\n",
    "\n",
    "data=[]\n",
    "for row in f:\n",
    "    row=row.strip().split(';')\n",
    "    uid=row[0]\n",
    "    cluster_id=row[1]\n",
    "    individual_profile=np.array([float(el) for el in row[2:]])\n",
    "    data.append(((uid,cluster_id),individual_profile))\n",
    "\n",
    "to_cluster=[el[1] for el in data]\n",
    "tests=np.arange(2,50)\n",
    "tests=list(tests)+list(np.arange(50,150,5))\n",
    "K=process_footprint(to_cluster,tests,log=True)\n",
    "\n",
    "import pickle\n",
    "pickle.dump( K, open( \"%s.models.p\" %(raw_data), \"wb\" ) )\n"
   ]
  },
  {
   "cell_type": "markdown",
   "metadata": {},
   "source": [
    "### Choose K for global clustering "
   ]
  },
  {
   "cell_type": "code",
   "execution_count": 8,
   "metadata": {
    "scrolled": true
   },
   "outputs": [
    {
     "name": "stderr",
     "output_type": "stream",
     "text": [
      "/home/jkn/anaconda3/lib/python3.6/site-packages/scipy/interpolate/fitpack2.py:226: UserWarning: \n",
      "The maximal number of iterations maxit (set to 20 by the program)\n",
      "allowed for finding a smoothing spline with fp=s has been reached: s\n",
      "too small.\n",
      "There is an approximation returned but the corresponding weighted sum\n",
      "of squared residuals does not satisfy the condition abs(fp-s)/s < tol.\n",
      "  warnings.warn(message)\n"
     ]
    },
    {
     "data": {
      "image/png": "[encoded data removed]",
      "text/plain": [
       "<Figure size 432x288 with 1 Axes>"
      ]
     },
     "metadata": {},
     "output_type": "display_data"
    }
   ],
   "source": [
    "#choose K for global clustering \n",
    "\n",
    "%matplotlib inline\n",
    "x=sorted(K.keys())\n",
    "y=[K[k]['inertia'] for k in x]\n",
    "best_k,pylab=compute_best_k(x,y,len(to_cluster),plot=True,points=10)\n",
    "\n",
    "best_k=19 #a mano\n",
    "pylab.title(\"Collective clustering\",fontsize=16)\n",
    "pylab.ylabel(\"SSE\",fontsize=16)\n",
    "pylab.xlabel(\"K\",fontsize=16)\n",
    "pylab.tight_layout()\n",
    "# pylab.savefig('%s.png' %(raw_data),dpi=200)\n",
    "\n",
    "import pandas as pd\n",
    "df_sse=pd.DataFrame([x,y]).T\n",
    "df_sse.columns=['x','y']\n",
    "#df_sse.to_csv('%s.png.sse.csv' %(raw_data),index=False)"
   ]
  },
  {
   "cell_type": "markdown",
   "metadata": {},
   "source": [
    "### Exporting results"
   ]
  },
  {
   "cell_type": "code",
   "execution_count": 9,
   "metadata": {},
   "outputs": [
    {
     "name": "stdout",
     "output_type": "stream",
     "text": [
      "Done\n"
     ]
    }
   ],
   "source": [
    "cluster_centers_=K[best_k]['estimator'].cluster_centers_\n",
    "labels_=K[best_k]['estimator'].labels_\n",
    "fw=open(collective_clusters,\"w\")\n",
    "fw2=open(collective_labels,\"w\")\n",
    "fw.write('collective_cluster;d0t0;d1t0;d2t0;d3t0;d4t0;d5t0;d6t0;d0t1;d1t1;d2t1;d3t1;d4t1;d5t1;d6t1;d0t2;d1t2;d2t2;d3t2;d4t2;d5t2;d6t2;d0t3;d1t3;d2t3;d3t3;d4t3;d5t3;d6t3\\n')\n",
    "fw2.write('customer_tag;individual_cluster;collective_cluster;d0t0;d1t0;d2t0;d3t0;d4t0;d5t0;d6t0;d0t1;d1t1;d2t1;d3t1;d4t1;d5t1;d6t1;d0t2;d1t2;d2t2;d3t2;d4t2;d5t2;d6t2;d0t3;d1t3;d2t3;d3t3;d4t3;d5t3;d6t3\\n')\n",
    "#export individual centroids\n",
    "for i in np.arange(len(cluster_centers_)):\n",
    "    string=\"%s;%s\\n\"%(i,';'.join([str(el) for el in cluster_centers_[i]])) #cluster_id,centroid\n",
    "    fw.write(string)\n",
    "fw.flush()\n",
    "\n",
    "#export original data and labels\n",
    "for i in np.arange(len(data)):\n",
    "    uid=data[i][0]\n",
    "    profile=data[i][1]\n",
    "    label=labels_[i]\n",
    "    string=\"%s;%s;%s;%s\\n\" %(uid[0],uid[1],label\n",
    "                                ,';'.join([str(el) for el in profile]))#uid,individual_cluster_id,collective_cluster_id,profile\n",
    "    fw2.write(string)\n",
    "fw2.flush()\n",
    "\n",
    "print('Done')"
   ]
  },
  {
   "cell_type": "code",
   "execution_count": null,
   "metadata": {},
   "outputs": [],
   "source": []
  },
  {
   "cell_type": "code",
   "execution_count": null,
   "metadata": {},
   "outputs": [],
   "source": []
  }
 ],
 "metadata": {
  "kernelspec": {
   "display_name": "Python 3",
   "language": "python",
   "name": "python3"
  },
  "language_info": {
   "codemirror_mode": {
    "name": "ipython",
    "version": 3
   },
   "file_extension": ".py",
   "mimetype": "text/x-python",
   "name": "python",
   "nbconvert_exporter": "python",
   "pygments_lexer": "ipython3",
   "version": "3.6.5"
  },
  "toc": {
   "base_numbering": 1,
   "nav_menu": {},
   "number_sections": false,
   "sideBar": true,
   "skip_h1_title": false,
   "title_cell": "Table of Contents",
   "title_sidebar": "Contents",
   "toc_cell": false,
   "toc_position": {
    "height": "calc(100% - 180px)",
    "left": "10px",
    "top": "150px",
    "width": "280px"
   },
   "toc_section_display": true,
   "toc_window_display": true
  }
 },
 "nbformat": 4,
 "nbformat_minor": 2
}
