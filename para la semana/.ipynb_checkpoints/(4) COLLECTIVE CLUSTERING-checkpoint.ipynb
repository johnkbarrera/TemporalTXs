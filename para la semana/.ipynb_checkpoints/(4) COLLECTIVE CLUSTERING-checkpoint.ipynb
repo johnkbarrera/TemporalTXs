{
 "cells": [
  {
   "cell_type": "markdown",
   "metadata": {},
   "source": [
    "# COLLECTIVE CLUSTERING"
   ]
  },
  {
   "cell_type": "code",
   "execution_count": 1,
   "metadata": {},
   "outputs": [],
   "source": [
    "import numpy as np\n",
    "import datetime\n",
    "import json\n",
    "import pylab\n",
    "import pandas as pd\n",
    "import matplotlib.pyplot as plt"
   ]
  },
  {
   "cell_type": "markdown",
   "metadata": {},
   "source": [
    "### Detalles"
   ]
  },
  {
   "cell_type": "raw",
   "metadata": {},
   "source": [
    "Dado:\n",
    "\n",
    "    Sesion de TX\n",
    "        s = {cliente, timestamp, Monto}\n",
    "    \n",
    "    Cada cliente tiene una secuencia de sesiones de TX (S)\n",
    "        S = { s1, s2 , s3, ..., sn}          n: # de sesiones de cada cliente\n",
    "        \n",
    "        \n",
    "    "
   ]
  },
  {
   "cell_type": "markdown",
   "metadata": {},
   "source": [
    "### Lista de Clientes"
   ]
  },
  {
   "cell_type": "code",
   "execution_count": 2,
   "metadata": {},
   "outputs": [],
   "source": [
    "# Extraemos la lista de clientes sin repetir\n",
    "\n",
    "def leer_data():\n",
    "    outfile='./data2/data.csv'\n",
    "    data = pd.read_csv(outfile)\n",
    "    return data\n",
    "\n",
    "data = leer_data()\n",
    "clientes =  data.groupby('client_id').client_id.count().index"
   ]
  },
  {
   "cell_type": "markdown",
   "metadata": {},
   "source": [
    "## Temporal TXs footprint"
   ]
  },
  {
   "cell_type": "code",
   "execution_count": 3,
   "metadata": {},
   "outputs": [],
   "source": [
    "# Definimos la ruta de los archivos \n",
    "\n",
    "file='U'\n",
    "raw_data='./data2/%s.json' %(file)\n",
    "\n",
    "individual_footprint=\"%s.individual_footprint\" %(raw_data)\n",
    "\n",
    "individual_clusters=\"%s.clusters\" %(individual_footprint)\n",
    "individual_labels=\"%s.labels\" %(individual_footprint)\n",
    "\n",
    "collective_clusters=\"%s.collective_footprint.clusters\" %(raw_data)\n",
    "collective_labels=\"%s.collective_footprint.labels\" %(raw_data)"
   ]
  },
  {
   "cell_type": "markdown",
   "metadata": {},
   "source": [
    "### Funciones"
   ]
  },
  {
   "cell_type": "code",
   "execution_count": 4,
   "metadata": {},
   "outputs": [],
   "source": [
    "def process_footprint(data,tests,log=False):\n",
    "    from sklearn.cluster import MiniBatchKMeans\n",
    "    #KMeans(init='k-means++', n_clusters=k, n_init=10)\n",
    "    import datetime\n",
    "    K={}\n",
    "    for k in tests:\n",
    "        if k<=len(data):\n",
    "            if log:\n",
    "                print(\"%s: processing %s\"%(datetime.datetime.now(),k))\n",
    "            K[k]=bench_k_means(MiniBatchKMeans(init='k-means++', n_clusters=k, batch_size=100,\n",
    "                      n_init=10, max_no_improvement=10, verbose=0,\n",
    "                      random_state=0),name=\"k-means++\", data=data)\n",
    "    return K"
   ]
  },
  {
   "cell_type": "code",
   "execution_count": 5,
   "metadata": {},
   "outputs": [],
   "source": [
    "def compute_best_k(x,y,occurrencies, plot=False,points=1000,sf=0.9):\n",
    "    import numpy as np\n",
    "    \n",
    "    if len(x)<5:\n",
    "        return max(1, round(np.sqrt(occurrencies/2)))\n",
    "    \n",
    "    from scipy.interpolate import interp1d\n",
    "    from scipy.interpolate import UnivariateSpline\n",
    "    spl = UnivariateSpline(x, y)\n",
    "    spl.set_smoothing_factor(sf)\n",
    "    xs = np.linspace(min(x), max(x), points)\n",
    "    ys = spl(xs)\n",
    "    idx_better_k=get_change_point(xs, ys)\n",
    "    if plot:\n",
    "        import pylab\n",
    "        pylab.plot(xs,ys)\n",
    "        \n",
    "        pylab.scatter(xs[idx_better_k],ys[idx_better_k],s=20, marker='o')\n",
    "        pylab.text(xs[idx_better_k],ys[idx_better_k],\"bestK %s\" %(np.round(xs[idx_better_k])))\n",
    "        return int(np.round(xs[idx_better_k])),pylab\n",
    "    return int(np.round(xs[idx_better_k]))"
   ]
  },
  {
   "cell_type": "code",
   "execution_count": 6,
   "metadata": {},
   "outputs": [],
   "source": [
    "def bench_k_means(estimator, name, data,distance_function=None):\n",
    "    from sklearn import metrics\n",
    "    from sklearn.metrics import silhouette_samples, silhouette_score\n",
    "    import time\n",
    "    t0 = time.time()\n",
    "    if distance_function:\n",
    "        estimator.fit(data,distance_function)\n",
    "    else:\n",
    "        estimator.fit(data)\n",
    "    #cluster_labels = estimator.fit_predict(data)\n",
    "    #silhouette_score_ = silhouette_score(data, cluster_labels)\n",
    "    \n",
    "    inertia=estimator.inertia_\n",
    "    duration=time.time() - t0\n",
    "    return {'inertia':inertia,'duration':duration, 'estimator':estimator}#,'silhouette':silhouette_score_}\n",
    "\n",
    "def get_change_point(x, y):\n",
    "    \"\"\"\n",
    "         Elección del mejor K\n",
    "         :: param x: lista de valores de K\n",
    "         :: param y: lista de valores de SSE\n",
    "    \"\"\"\n",
    "    import math\n",
    "    max_d = -float('infinity')\n",
    "    index = 0\n",
    "\n",
    "    for i in range(0, len(x)):\n",
    "        c = closest_point_on_segment(a=[x[0], y[0]], b=[x[len(x)-1], y[len(y)-1]], p=[x[i], y[i]])\n",
    "        d = math.sqrt((c[0]-x[i])**2 + (c[1]-y[i])**2)\n",
    "        if d > max_d:\n",
    "            max_d = d\n",
    "            index = i\n",
    "    \n",
    "    return index\n",
    "\n",
    "def closest_point_on_segment(a, b, p):\n",
    "    sx1 = a[0]\n",
    "    sx2 = b[0]\n",
    "    sy1 = a[1]\n",
    "    sy2 = b[1]\n",
    "    px = p[0]\n",
    "    py = p[1]\n",
    "\n",
    "    x_delta = sx2 - sx1\n",
    "    y_delta = sy2 - sy1\n",
    "\n",
    "    if x_delta == 0 and y_delta == 0:\n",
    "        return p\n",
    "\n",
    "    u = ((px - sx1) * x_delta + (py - sy1) * y_delta) / (x_delta * x_delta + y_delta *  y_delta)\n",
    "    if u < 0:\n",
    "        closest_point = a\n",
    "    elif u > 1:\n",
    "        closest_point = b\n",
    "    else:\n",
    "        cp_x = sx1 + u * x_delta\n",
    "        cp_y = sy1 + u * y_delta\n",
    "        closest_point = [cp_x, cp_y]\n",
    "\n",
    "    return closest_point\n",
    "\t"
   ]
  },
  {
   "cell_type": "markdown",
   "metadata": {},
   "source": [
    "### Collective clustering"
   ]
  },
  {
   "cell_type": "code",
   "execution_count": 7,
   "metadata": {},
   "outputs": [
    {
     "name": "stdout",
     "output_type": "stream",
     "text": [
      "2018-08-08 14:01:28.659540: processing 2\n",
      "2018-08-08 14:01:28.905953: processing 3\n",
      "2018-08-08 14:01:29.144988: processing 4\n",
      "2018-08-08 14:01:29.593031: processing 5\n",
      "2018-08-08 14:01:29.955655: processing 6\n",
      "2018-08-08 14:01:30.367385: processing 7\n",
      "2018-08-08 14:01:30.689961: processing 8\n",
      "2018-08-08 14:01:30.986309: processing 9\n",
      "2018-08-08 14:01:31.287920: processing 10\n",
      "2018-08-08 14:01:31.642763: processing 11\n",
      "2018-08-08 14:01:31.998257: processing 12\n",
      "2018-08-08 14:01:32.341067: processing 13\n",
      "2018-08-08 14:01:32.697865: processing 14\n",
      "2018-08-08 14:01:33.068602: processing 15\n",
      "2018-08-08 14:01:33.438623: processing 16\n",
      "2018-08-08 14:01:33.808281: processing 17\n",
      "2018-08-08 14:01:34.278638: processing 18\n",
      "2018-08-08 14:01:34.743749: processing 19\n",
      "2018-08-08 14:01:35.154458: processing 20\n",
      "2018-08-08 14:01:35.561166: processing 21\n",
      "2018-08-08 14:01:36.059321: processing 22\n",
      "2018-08-08 14:01:36.464888: processing 23\n",
      "2018-08-08 14:01:36.967237: processing 24\n",
      "2018-08-08 14:01:37.455025: processing 25\n",
      "2018-08-08 14:01:37.874497: processing 26\n",
      "2018-08-08 14:01:38.289450: processing 27\n",
      "2018-08-08 14:01:38.708379: processing 28\n",
      "2018-08-08 14:01:39.126302: processing 29\n",
      "2018-08-08 14:01:39.650931: processing 30\n",
      "2018-08-08 14:01:40.096947: processing 31\n",
      "2018-08-08 14:01:40.524976: processing 32\n",
      "2018-08-08 14:01:40.957210: processing 33\n",
      "2018-08-08 14:01:41.401415: processing 34\n",
      "2018-08-08 14:01:41.958322: processing 35\n",
      "2018-08-08 14:01:42.527953: processing 36\n",
      "2018-08-08 14:01:42.996862: processing 37\n",
      "2018-08-08 14:01:43.452143: processing 38\n",
      "2018-08-08 14:01:44.026881: processing 39\n",
      "2018-08-08 14:01:44.495094: processing 40\n",
      "2018-08-08 14:01:45.068655: processing 41\n",
      "2018-08-08 14:01:45.554942: processing 42\n",
      "2018-08-08 14:01:46.024865: processing 43\n",
      "2018-08-08 14:01:46.507010: processing 44\n",
      "2018-08-08 14:01:47.236595: processing 45\n",
      "2018-08-08 14:01:47.726249: processing 46\n",
      "2018-08-08 14:01:48.232641: processing 47\n",
      "2018-08-08 14:01:48.851131: processing 48\n",
      "2018-08-08 14:01:49.462212: processing 49\n",
      "2018-08-08 14:01:50.072171: processing 50\n",
      "2018-08-08 14:01:50.582679: processing 55\n",
      "2018-08-08 14:01:51.230799: processing 60\n",
      "2018-08-08 14:01:51.776255: processing 65\n",
      "2018-08-08 14:01:52.354232: processing 70\n",
      "2018-08-08 14:01:53.058177: processing 75\n",
      "2018-08-08 14:01:53.784293: processing 80\n",
      "2018-08-08 14:01:55.121345: processing 85\n",
      "2018-08-08 14:01:56.008408: processing 90\n",
      "2018-08-08 14:01:56.780264: processing 95\n",
      "2018-08-08 14:01:57.489009: processing 100\n",
      "2018-08-08 14:01:58.204970: processing 105\n",
      "2018-08-08 14:01:58.925837: processing 110\n",
      "2018-08-08 14:01:59.546309: processing 115\n",
      "2018-08-08 14:02:00.195596: processing 120\n",
      "2018-08-08 14:02:00.847211: processing 125\n",
      "2018-08-08 14:02:01.556892: processing 130\n",
      "2018-08-08 14:02:02.303631: processing 135\n",
      "2018-08-08 14:02:03.031079: processing 140\n",
      "2018-08-08 14:02:03.749830: processing 145\n"
     ]
    }
   ],
   "source": [
    "f=open(individual_clusters)   #  uid,cluster_id,profile\n",
    "f.readline()                  #  Saltamos una linea\n",
    "\n",
    "\n",
    "data=[]\n",
    "for row in f:\n",
    "    row=row.strip().split(';')\n",
    "    uid=row[0]\n",
    "    cluster_id=row[1]\n",
    "    individual_profile=np.array([float(el) for el in row[2:]])\n",
    "    data.append(((uid,cluster_id),individual_profile))\n",
    "\n",
    "to_cluster=[el[1] for el in data]\n",
    "tests=np.arange(2,50)\n",
    "tests=list(tests)+list(np.arange(50,150,5))\n",
    "K=process_footprint(to_cluster,tests,log=True)\n",
    "\n",
    "import pickle\n",
    "# pickle.dump( K, open( \"%s.models.p\" %(raw_data), \"wb\" ) )\n"
   ]
  },
  {
   "cell_type": "markdown",
   "metadata": {},
   "source": [
    "### Choose K for global clustering "
   ]
  },
  {
   "cell_type": "code",
   "execution_count": 8,
   "metadata": {
    "scrolled": true
   },
   "outputs": [
    {
     "name": "stdout",
     "output_type": "stream",
     "text": [
      "68 68 173114\n"
     ]
    },
    {
     "data": {
      "image/png": "[encoded data removed]",
      "text/plain": [
       "<Figure size 432x288 with 1 Axes>"
      ]
     },
     "metadata": {},
     "output_type": "display_data"
    }
   ],
   "source": [
    "#choose K for global clustering \n",
    "%matplotlib inline\n",
    "x=sorted(K.keys())\n",
    "y=[K[k]['inertia'] for k in x]\n",
    "print(len(x),len(y),len(to_cluster))\n",
    "best_k,pylab=compute_best_k(x,y,len(to_cluster),plot=True,points=10)\n",
    "\n",
    "best_k=19 #a mano\n",
    "pylab.title(\"Collective clustering\",fontsize=16)\n",
    "pylab.ylabel(\"SSE\",fontsize=16)\n",
    "pylab.xlabel(\"K\",fontsize=16)\n",
    "pylab.tight_layout()\n",
    "# pylab.savefig('%s.png' %(raw_data),dpi=200)\n",
    "\n",
    "import pandas as pd\n",
    "df_sse=pd.DataFrame([x,y]).T\n",
    "df_sse.columns=['x','y']\n",
    "#df_sse.to_csv('%s.png.sse.csv' %(raw_data),index=False)"
   ]
  },
  {
   "cell_type": "markdown",
   "metadata": {},
   "source": [
    "### Exporting results"
   ]
  },
  {
   "cell_type": "code",
   "execution_count": 9,
   "metadata": {},
   "outputs": [
    {
     "name": "stdout",
     "output_type": "stream",
     "text": [
      "Done\n"
     ]
    }
   ],
   "source": [
    "cluster_centers_=K[best_k]['estimator'].cluster_centers_\n",
    "labels_=K[best_k]['estimator'].labels_\n",
    "fw=open(collective_clusters,\"w\")\n",
    "fw2=open(collective_labels,\"w\")\n",
    "fw.write('collective_cluster;d0t0;d1t0;d2t0;d3t0;d4t0;d5t0;d6t0;d0t1;d1t1;d2t1;d3t1;d4t1;d5t1;d6t1;d0t2;d1t2;d2t2;d3t2;d4t2;d5t2;d6t2;d0t3;d1t3;d2t3;d3t3;d4t3;d5t3;d6t3\\n')\n",
    "fw2.write('customer_tag;individual_cluster;collective_cluster;d0t0;d1t0;d2t0;d3t0;d4t0;d5t0;d6t0;d0t1;d1t1;d2t1;d3t1;d4t1;d5t1;d6t1;d0t2;d1t2;d2t2;d3t2;d4t2;d5t2;d6t2;d0t3;d1t3;d2t3;d3t3;d4t3;d5t3;d6t3\\n')\n",
    "#export individual centroids\n",
    "for i in np.arange(len(cluster_centers_)):\n",
    "    string=\"%s;%s\\n\"%(i,';'.join([str(el) for el in cluster_centers_[i]])) #cluster_id,centroid\n",
    "    fw.write(string)\n",
    "fw.flush()\n",
    "\n",
    "#export original data and labels\n",
    "for i in np.arange(len(data)):\n",
    "    uid=data[i][0]\n",
    "    profile=data[i][1]\n",
    "    label=labels_[i]\n",
    "    string=\"%s;%s;%s;%s\\n\" %(uid[0],uid[1],label\n",
    "                                ,';'.join([str(el) for el in profile]))#uid,individual_cluster_id,collective_cluster_id,profile\n",
    "    fw2.write(string)\n",
    "fw2.flush()\n",
    "\n",
    "print('Done')"
   ]
  },
  {
   "cell_type": "code",
   "execution_count": null,
   "metadata": {},
   "outputs": [],
   "source": []
  },
  {
   "cell_type": "code",
   "execution_count": null,
   "metadata": {},
   "outputs": [],
   "source": []
  }
 ],
 "metadata": {
  "kernelspec": {
   "display_name": "Python 3",
   "language": "python",
   "name": "python3"
  },
  "language_info": {
   "codemirror_mode": {
    "name": "ipython",
    "version": 3
   },
   "file_extension": ".py",
   "mimetype": "text/x-python",
   "name": "python",
   "nbconvert_exporter": "python",
   "pygments_lexer": "ipython3",
   "version": "3.6.5"
  },
  "toc": {
   "base_numbering": 1,
   "nav_menu": {},
   "number_sections": false,
   "sideBar": true,
   "skip_h1_title": false,
   "title_cell": "Table of Contents",
   "title_sidebar": "Contents",
   "toc_cell": false,
   "toc_position": {
    "height": "calc(100% - 180px)",
    "left": "10px",
    "top": "150px",
    "width": "280px"
   },
   "toc_section_display": true,
   "toc_window_display": true
  }
 },
 "nbformat": 4,
 "nbformat_minor": 2
}
