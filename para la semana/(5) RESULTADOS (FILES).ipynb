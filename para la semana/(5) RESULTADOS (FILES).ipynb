{
 "cells": [
  {
   "cell_type": "markdown",
   "metadata": {},
   "source": [
    "# Analisis de Datos"
   ]
  },
  {
   "cell_type": "code",
   "execution_count": 1,
   "metadata": {},
   "outputs": [],
   "source": [
    "import numpy as np\n",
    "import pandas as pd\n",
    "import json\n",
    "import matplotlib.pyplot as plt\n"
   ]
  },
  {
   "cell_type": "markdown",
   "metadata": {},
   "source": [
    "## Cargar Datos"
   ]
  },
  {
   "cell_type": "code",
   "execution_count": 2,
   "metadata": {},
   "outputs": [],
   "source": [
    "footprint='./data2/U.json.individual_footprint'\n",
    "footprint = pd.read_csv(footprint, sep=\",\", header=0)\n",
    "footprint.rename(columns={'customer_id':'customer_tag'}, inplace=True)\n",
    "footprint = footprint.drop(['turn'], axis=1)\n",
    "# footprint.head(3)"
   ]
  },
  {
   "cell_type": "code",
   "execution_count": 3,
   "metadata": {
    "scrolled": true
   },
   "outputs": [],
   "source": [
    "individual_cluster='./data2/U.json.individual_footprint.labels'\n",
    "individual_cluster = pd.read_csv(individual_cluster, sep=\";\", header=0, index_col=False)\n",
    "# individual_cluster.head(3)"
   ]
  },
  {
   "cell_type": "code",
   "execution_count": 4,
   "metadata": {
    "scrolled": true
   },
   "outputs": [],
   "source": [
    "collective_cluster='./data2/U.json.collective_footprint.labels'\n",
    "collective_cluster = pd.read_csv(collective_cluster, sep=\";\", header=0, index_col=False)\n",
    "# collective_cluster.head(3)"
   ]
  },
  {
   "cell_type": "markdown",
   "metadata": {},
   "source": [
    "## Cohesión de Datos"
   ]
  },
  {
   "cell_type": "code",
   "execution_count": 5,
   "metadata": {},
   "outputs": [],
   "source": [
    "result = pd.merge(individual_cluster, collective_cluster, on=['customer_tag', 'individual_cluster'])\n",
    "result = result.iloc[:, :-28]\n",
    "result= pd.merge(footprint, result, on=['customer_tag','year', 'week'])"
   ]
  },
  {
   "cell_type": "code",
   "execution_count": 6,
   "metadata": {},
   "outputs": [],
   "source": [
    "result1 = result.iloc[:, :-29]\n",
    "result = pd.concat([result1, result[['collective_cluster']]], axis=1)\n"
   ]
  },
  {
   "cell_type": "code",
   "execution_count": 7,
   "metadata": {},
   "outputs": [],
   "source": [
    "\n",
    "result[['year','week','profile_id','size','individual_cluster','collective_cluster']] = result[['year','week','profile_id','size','individual_cluster','collective_cluster']].astype(int)"
   ]
  },
  {
   "cell_type": "code",
   "execution_count": 8,
   "metadata": {
    "scrolled": false
   },
   "outputs": [
    {
     "data": {
      "text/html": [
       "<div>\n",
       "<style scoped>\n",
       "    .dataframe tbody tr th:only-of-type {\n",
       "        vertical-align: middle;\n",
       "    }\n",
       "\n",
       "    .dataframe tbody tr th {\n",
       "        vertical-align: top;\n",
       "    }\n",
       "\n",
       "    .dataframe thead th {\n",
       "        text-align: right;\n",
       "    }\n",
       "</style>\n",
       "<table border=\"1\" class=\"dataframe\">\n",
       "  <thead>\n",
       "    <tr style=\"text-align: right;\">\n",
       "      <th></th>\n",
       "      <th>customer_tag</th>\n",
       "      <th>year</th>\n",
       "      <th>week</th>\n",
       "      <th>profile_id</th>\n",
       "      <th>size</th>\n",
       "      <th>d0t0</th>\n",
       "      <th>d1t0</th>\n",
       "      <th>d2t0</th>\n",
       "      <th>d3t0</th>\n",
       "      <th>d4t0</th>\n",
       "      <th>...</th>\n",
       "      <th>d6t2</th>\n",
       "      <th>d0t3</th>\n",
       "      <th>d1t3</th>\n",
       "      <th>d2t3</th>\n",
       "      <th>d3t3</th>\n",
       "      <th>d4t3</th>\n",
       "      <th>d5t3</th>\n",
       "      <th>d6t3</th>\n",
       "      <th>individual_cluster</th>\n",
       "      <th>collective_cluster</th>\n",
       "    </tr>\n",
       "  </thead>\n",
       "  <tbody>\n",
       "    <tr>\n",
       "      <th>0</th>\n",
       "      <td>+++g8j9k+5A=</td>\n",
       "      <td>2016</td>\n",
       "      <td>39</td>\n",
       "      <td>0</td>\n",
       "      <td>1</td>\n",
       "      <td>0.0</td>\n",
       "      <td>1.0</td>\n",
       "      <td>0.0</td>\n",
       "      <td>0.0</td>\n",
       "      <td>0.0</td>\n",
       "      <td>...</td>\n",
       "      <td>0.0</td>\n",
       "      <td>0.0</td>\n",
       "      <td>0.0</td>\n",
       "      <td>0.0</td>\n",
       "      <td>0.0</td>\n",
       "      <td>0.0</td>\n",
       "      <td>0.0</td>\n",
       "      <td>0.0</td>\n",
       "      <td>0</td>\n",
       "      <td>39</td>\n",
       "    </tr>\n",
       "    <tr>\n",
       "      <th>1</th>\n",
       "      <td>+++g8j9k+5A=</td>\n",
       "      <td>2016</td>\n",
       "      <td>25</td>\n",
       "      <td>1</td>\n",
       "      <td>2</td>\n",
       "      <td>0.0</td>\n",
       "      <td>0.0</td>\n",
       "      <td>0.0</td>\n",
       "      <td>0.0</td>\n",
       "      <td>2.0</td>\n",
       "      <td>...</td>\n",
       "      <td>0.0</td>\n",
       "      <td>0.0</td>\n",
       "      <td>0.0</td>\n",
       "      <td>0.0</td>\n",
       "      <td>0.0</td>\n",
       "      <td>0.0</td>\n",
       "      <td>0.0</td>\n",
       "      <td>0.0</td>\n",
       "      <td>2</td>\n",
       "      <td>20</td>\n",
       "    </tr>\n",
       "    <tr>\n",
       "      <th>2</th>\n",
       "      <td>+++g8j9k+5A=</td>\n",
       "      <td>2016</td>\n",
       "      <td>22</td>\n",
       "      <td>2</td>\n",
       "      <td>1</td>\n",
       "      <td>0.0</td>\n",
       "      <td>0.0</td>\n",
       "      <td>0.0</td>\n",
       "      <td>0.0</td>\n",
       "      <td>0.0</td>\n",
       "      <td>...</td>\n",
       "      <td>1.0</td>\n",
       "      <td>0.0</td>\n",
       "      <td>0.0</td>\n",
       "      <td>0.0</td>\n",
       "      <td>0.0</td>\n",
       "      <td>0.0</td>\n",
       "      <td>0.0</td>\n",
       "      <td>0.0</td>\n",
       "      <td>4</td>\n",
       "      <td>13</td>\n",
       "    </tr>\n",
       "    <tr>\n",
       "      <th>3</th>\n",
       "      <td>+++g8j9k+5A=</td>\n",
       "      <td>2016</td>\n",
       "      <td>26</td>\n",
       "      <td>3</td>\n",
       "      <td>2</td>\n",
       "      <td>0.0</td>\n",
       "      <td>0.0</td>\n",
       "      <td>0.0</td>\n",
       "      <td>0.0</td>\n",
       "      <td>0.0</td>\n",
       "      <td>...</td>\n",
       "      <td>1.0</td>\n",
       "      <td>0.0</td>\n",
       "      <td>0.0</td>\n",
       "      <td>1.0</td>\n",
       "      <td>0.0</td>\n",
       "      <td>0.0</td>\n",
       "      <td>0.0</td>\n",
       "      <td>0.0</td>\n",
       "      <td>1</td>\n",
       "      <td>31</td>\n",
       "    </tr>\n",
       "    <tr>\n",
       "      <th>4</th>\n",
       "      <td>+++g8j9k+5A=</td>\n",
       "      <td>2016</td>\n",
       "      <td>37</td>\n",
       "      <td>4</td>\n",
       "      <td>1</td>\n",
       "      <td>0.0</td>\n",
       "      <td>0.0</td>\n",
       "      <td>0.0</td>\n",
       "      <td>0.0</td>\n",
       "      <td>0.0</td>\n",
       "      <td>...</td>\n",
       "      <td>0.0</td>\n",
       "      <td>0.0</td>\n",
       "      <td>0.0</td>\n",
       "      <td>0.0</td>\n",
       "      <td>0.0</td>\n",
       "      <td>0.0</td>\n",
       "      <td>0.0</td>\n",
       "      <td>0.0</td>\n",
       "      <td>4</td>\n",
       "      <td>13</td>\n",
       "    </tr>\n",
       "  </tbody>\n",
       "</table>\n",
       "<p>5 rows × 35 columns</p>\n",
       "</div>"
      ],
      "text/plain": [
       "   customer_tag  year  week  profile_id  size  d0t0  d1t0  d2t0  d3t0  d4t0  \\\n",
       "0  +++g8j9k+5A=  2016    39           0     1   0.0   1.0   0.0   0.0   0.0   \n",
       "1  +++g8j9k+5A=  2016    25           1     2   0.0   0.0   0.0   0.0   2.0   \n",
       "2  +++g8j9k+5A=  2016    22           2     1   0.0   0.0   0.0   0.0   0.0   \n",
       "3  +++g8j9k+5A=  2016    26           3     2   0.0   0.0   0.0   0.0   0.0   \n",
       "4  +++g8j9k+5A=  2016    37           4     1   0.0   0.0   0.0   0.0   0.0   \n",
       "\n",
       "          ...          d6t2  d0t3  d1t3  d2t3  d3t3  d4t3  d5t3  d6t3  \\\n",
       "0         ...           0.0   0.0   0.0   0.0   0.0   0.0   0.0   0.0   \n",
       "1         ...           0.0   0.0   0.0   0.0   0.0   0.0   0.0   0.0   \n",
       "2         ...           1.0   0.0   0.0   0.0   0.0   0.0   0.0   0.0   \n",
       "3         ...           1.0   0.0   0.0   1.0   0.0   0.0   0.0   0.0   \n",
       "4         ...           0.0   0.0   0.0   0.0   0.0   0.0   0.0   0.0   \n",
       "\n",
       "   individual_cluster  collective_cluster  \n",
       "0                   0                  39  \n",
       "1                   2                  20  \n",
       "2                   4                  13  \n",
       "3                   1                  31  \n",
       "4                   4                  13  \n",
       "\n",
       "[5 rows x 35 columns]"
      ]
     },
     "execution_count": 8,
     "metadata": {},
     "output_type": "execute_result"
    }
   ],
   "source": [
    "result.head()"
   ]
  },
  {
   "cell_type": "markdown",
   "metadata": {},
   "source": [
    "## Salvar Resultados"
   ]
  },
  {
   "cell_type": "code",
   "execution_count": 9,
   "metadata": {},
   "outputs": [],
   "source": [
    "result.to_csv('./data2/resultados.csv',index=False)"
   ]
  },
  {
   "cell_type": "markdown",
   "metadata": {},
   "source": [
    "## Grafico"
   ]
  },
  {
   "cell_type": "code",
   "execution_count": 10,
   "metadata": {},
   "outputs": [],
   "source": [
    "import matplotlib.pyplot as plt"
   ]
  },
  {
   "cell_type": "code",
   "execution_count": 11,
   "metadata": {},
   "outputs": [
    {
     "data": {
      "image/png": "[encoded data removed]",
      "text/plain": [
       "<Figure size 432x288 with 1 Axes>"
      ]
     },
     "metadata": {},
     "output_type": "display_data"
    }
   ],
   "source": [
    "nn= result.groupby(['collective_cluster'], as_index=False, sort=True)['customer_tag'].count()\n",
    "\n",
    "fig, ax = plt.subplots()\n",
    "ax.bar(nn.index, nn['customer_tag'], align='center')\n",
    "ax.grid(color='gray', linestyle='--', linewidth=1)\n",
    "\n",
    "ax.set_xlabel('Año')\n",
    "ax.set_xticks(nn.index)\n",
    "\n",
    "ax.set_ylabel('Frecuencia')\n",
    "tag =[]\n",
    "for i in range(len(nn)):\n",
    "    temp = 'Cluster '+ str(i+1)+''\n",
    "    tag.append(temp)\n",
    "    \n",
    "ax.set_xticklabels(tag, rotation=80)\n",
    "ax.set_title('Histograma')\n",
    "plt.show()"
   ]
  },
  {
   "cell_type": "markdown",
   "metadata": {},
   "source": [
    "### Prueba codigo tabla"
   ]
  },
  {
   "cell_type": "code",
   "execution_count": 12,
   "metadata": {},
   "outputs": [
    {
     "data": {
      "image/png": "[encoded data removed]",
      "text/plain": [
       "<Figure size 1080x576 with 1 Axes>"
      ]
     },
     "metadata": {},
     "output_type": "display_data"
    }
   ],
   "source": [
    "from matplotlib import pyplot as plt\n",
    "import numpy as np\n",
    "randn = np.random.randn\n",
    "from pandas import *\n",
    "\n",
    "idx = Index(np.arange(1,11))\n",
    "df = DataFrame(randn(10, 5), index=idx, columns=['A', 'B', 'C', 'D', 'E'])\n",
    "vals = np.around(df.values,2)\n",
    "normal = plt.Normalize(vals.min()-1, vals.max()+1)\n",
    "\n",
    "fig = plt.figure(figsize=(15,8))\n",
    "ax = fig.add_subplot(111, frameon=True, xticks=[], yticks=[])\n",
    "\n",
    "the_table=plt.table(cellText=vals, rowLabels=df.index, colLabels=df.columns, \n",
    "                    colWidths = [0.15]*vals.shape[1], loc='center', \n",
    "                    cellColours=plt.cm.hot(normal(vals)))"
   ]
  },
  {
   "cell_type": "code",
   "execution_count": null,
   "metadata": {},
   "outputs": [],
   "source": []
  }
 ],
 "metadata": {
  "kernelspec": {
   "display_name": "Python 3",
   "language": "python",
   "name": "python3"
  },
  "language_info": {
   "codemirror_mode": {
    "name": "ipython",
    "version": 3
   },
   "file_extension": ".py",
   "mimetype": "text/x-python",
   "name": "python",
   "nbconvert_exporter": "python",
   "pygments_lexer": "ipython3",
   "version": "3.6.5"
  },
  "toc": {
   "base_numbering": 1,
   "nav_menu": {},
   "number_sections": false,
   "sideBar": true,
   "skip_h1_title": false,
   "title_cell": "Table of Contents",
   "title_sidebar": "Contents",
   "toc_cell": false,
   "toc_position": {},
   "toc_section_display": true,
   "toc_window_display": true
  }
 },
 "nbformat": 4,
 "nbformat_minor": 2
}
