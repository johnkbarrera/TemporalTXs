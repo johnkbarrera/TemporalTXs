{
 "cells": [
  {
   "cell_type": "code",
   "execution_count": 1,
   "metadata": {},
   "outputs": [
    {
     "name": "stdout",
     "output_type": "stream",
     "text": [
      "Done\n",
      "0 :   708962       San Juan De Luriganc\n",
      "0 :   25       1520\n",
      "1 :   18       1740\n",
      "2 :   41       1750\n",
      "3 :   96       1799\n",
      "4 :   3       4722\n",
      "5 :   5440       4812\n",
      "6 :   36       4814\n",
      "7 :   3       4816\n",
      "8 :   6259       4900\n",
      "9 :   34       5045\n",
      "10 :   20       5046\n",
      "11 :   30       5047\n",
      "12 :   6455       5211\n",
      "13 :   502       5231\n",
      "14 :   458       5251\n",
      "15 :   2924       5300\n",
      "16 :   55351       5311\n",
      "17 :   13       5331\n",
      "18 :   3587       5399\n",
      "19 :   48197       5411\n",
      "20 :   39       5422\n",
      "21 :   141       5441\n",
      "22 :   272       5451\n",
      "23 :   2310       5462\n",
      "24 :   160       5499\n",
      "25 :   117       5511\n",
      "26 :   220       5532\n",
      "27 :   10894       5533\n",
      "28 :   75687       5541\n",
      "29 :   234       5571\n",
      "30 :   1907       5611\n",
      "31 :   2112       5621\n",
      "32 :   3200       5631\n",
      "33 :   341       5641\n",
      "34 :   4109       5651\n",
      "35 :   2811       5655\n",
      "36 :   10198       5661\n",
      "37 :   1       5681\n",
      "38 :   419       5691\n",
      "39 :   27       5697\n",
      "40 :   5       5699\n",
      "41 :   813       5712\n",
      "42 :   5       5713\n",
      "43 :   6       5714\n",
      "44 :   565       5722\n",
      "45 :   485       5732\n",
      "46 :   16       5733\n",
      "47 :   7       5811\n",
      "48 :   161377       5812\n",
      "49 :   41215       5813\n",
      "50 :   88843       5814\n",
      "51 :   60367       5912\n",
      "52 :   1713       5921\n",
      "53 :   158       5933\n",
      "54 :   66       5940\n",
      "55 :   4438       5942\n",
      "56 :   4       5943\n",
      "57 :   222       5944\n",
      "58 :   259       5945\n",
      "59 :   1       5947\n",
      "60 :   1       5949\n",
      "61 :   1       5950\n",
      "62 :   5       5963\n",
      "63 :   2       5964\n",
      "64 :   25       5975\n",
      "65 :   41       5976\n",
      "66 :   1461       5977\n",
      "67 :   438       5983\n",
      "68 :   3       5992\n",
      "69 :   181       5995\n",
      "70 :   1       5998\n",
      "71 :   1320       5999\n",
      "72 :   148       6300\n",
      "73 :   6469       7011\n",
      "74 :   1008       7211\n",
      "75 :   6       7221\n",
      "76 :   8716       7230\n",
      "77 :   2       7261\n",
      "78 :   38       7297\n",
      "79 :   6447       7298\n",
      "80 :   15       7299\n",
      "81 :   15       7333\n",
      "82 :   3       7372\n",
      "83 :   7       7392\n",
      "84 :   23       7393\n",
      "85 :   24       7394\n",
      "86 :   56       7512\n",
      "87 :   547       7538\n",
      "88 :   15       7542\n",
      "89 :   1       7641\n",
      "90 :   13       7911\n",
      "91 :   2920       7994\n",
      "92 :   47910       7995\n",
      "93 :   264       7996\n",
      "94 :   200       7997\n",
      "95 :   3       7999\n",
      "96 :   112       8011\n",
      "97 :   2336       8021\n",
      "98 :   145       8041\n",
      "99 :   2109       8043\n",
      "100 :   25       8049\n",
      "101 :   8573       8062\n",
      "102 :   337       8071\n",
      "103 :   150       8099\n",
      "104 :   64       8111\n",
      "105 :   147       8211\n",
      "106 :   9172       8220\n",
      "107 :   98       8299\n",
      "108 :   282       8398\n",
      "109 :   371       8675\n",
      "110 :   1       8999\n",
      "111 :   1455       9311\n"
     ]
    },
    {
     "data": {
      "text/plain": [
       "<Figure size 640x480 with 1 Axes>"
      ]
     },
     "metadata": {},
     "output_type": "display_data"
    },
    {
     "data": {
      "text/plain": [
       "<Figure size 640x480 with 1 Axes>"
      ]
     },
     "metadata": {},
     "output_type": "display_data"
    },
    {
     "data": {
      "text/plain": [
       "<Figure size 640x480 with 1 Axes>"
      ]
     },
     "metadata": {},
     "output_type": "display_data"
    },
    {
     "name": "stderr",
     "output_type": "stream",
     "text": [
      "/home/jkn/anaconda3/lib/python3.6/site-packages/matplotlib/pyplot.py:537: RuntimeWarning: More than 20 figures have been opened. Figures created through the pyplot interface (`matplotlib.pyplot.figure`) are retained until explicitly closed and may consume too much memory. (To control this warning, see the rcParam `figure.max_open_warning`).\n",
      "  max_open_warning, RuntimeWarning)\n"
     ]
    }
   ],
   "source": [
    "%run -i '(1) ANALISIS DE DATOS.ipynb'"
   ]
  },
  {
   "cell_type": "code",
   "execution_count": null,
   "metadata": {},
   "outputs": [],
   "source": [
    "%run -i '(2) BUILDING Us.ipynb'"
   ]
  },
  {
   "cell_type": "code",
   "execution_count": null,
   "metadata": {},
   "outputs": [],
   "source": [
    "%run -i '(3) BUILDING OF CLUSTERS.ipynb'"
   ]
  },
  {
   "cell_type": "code",
   "execution_count": null,
   "metadata": {},
   "outputs": [],
   "source": [
    "%run -i '(4) JOIN FILES.ipynb'"
   ]
  },
  {
   "cell_type": "code",
   "execution_count": null,
   "metadata": {},
   "outputs": [],
   "source": [
    "%run -i '(5) RESULTS.ipynb'"
   ]
  },
  {
   "cell_type": "code",
   "execution_count": null,
   "metadata": {},
   "outputs": [],
   "source": [
    "%run -i 'Analisis.ipynb'"
   ]
  },
  {
   "cell_type": "code",
   "execution_count": null,
   "metadata": {},
   "outputs": [],
   "source": []
  },
  {
   "cell_type": "code",
   "execution_count": null,
   "metadata": {},
   "outputs": [],
   "source": []
  },
  {
   "cell_type": "code",
   "execution_count": null,
   "metadata": {},
   "outputs": [],
   "source": []
  }
 ],
 "metadata": {
  "kernelspec": {
   "display_name": "Python 3",
   "language": "python",
   "name": "python3"
  },
  "language_info": {
   "codemirror_mode": {
    "name": "ipython",
    "version": 3
   },
   "file_extension": ".py",
   "mimetype": "text/x-python",
   "name": "python",
   "nbconvert_exporter": "python",
   "pygments_lexer": "ipython3",
   "version": "3.6.5"
  },
  "toc": {
   "base_numbering": 1,
   "nav_menu": {},
   "number_sections": true,
   "sideBar": true,
   "skip_h1_title": false,
   "title_cell": "Table of Contents",
   "title_sidebar": "Contents",
   "toc_cell": false,
   "toc_position": {},
   "toc_section_display": true,
   "toc_window_display": false
  }
 },
 "nbformat": 4,
 "nbformat_minor": 2
}
