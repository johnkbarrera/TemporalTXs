{
 "cells": [
  {
   "cell_type": "markdown",
   "metadata": {},
   "source": [
    "# JOIN GROUPS"
   ]
  },
  {
   "cell_type": "code",
   "execution_count": 1,
   "metadata": {},
   "outputs": [],
   "source": [
    "import numpy as np\n",
    "import datetime\n",
    "from datetime import date\n",
    "import json\n",
    "import pylab\n",
    "import pandas as pd\n",
    "import matplotlib.pyplot as plt\n",
    "import os, sys\n",
    "from sklearn.preprocessing import normalize"
   ]
  },
  {
   "cell_type": "code",
   "execution_count": 2,
   "metadata": {},
   "outputs": [
    {
     "data": {
      "text/html": [
       "<div>\n",
       "<style scoped>\n",
       "    .dataframe tbody tr th:only-of-type {\n",
       "        vertical-align: middle;\n",
       "    }\n",
       "\n",
       "    .dataframe tbody tr th {\n",
       "        vertical-align: top;\n",
       "    }\n",
       "\n",
       "    .dataframe thead th {\n",
       "        text-align: right;\n",
       "    }\n",
       "</style>\n",
       "<table border=\"1\" class=\"dataframe\">\n",
       "  <thead>\n",
       "    <tr style=\"text-align: right;\">\n",
       "      <th></th>\n",
       "      <th>client_id</th>\n",
       "      <th>date</th>\n",
       "      <th>año</th>\n",
       "      <th>mes</th>\n",
       "      <th>dia</th>\n",
       "      <th>hora</th>\n",
       "      <th>mccg</th>\n",
       "      <th>quantity</th>\n",
       "      <th>amount_sol</th>\n",
       "    </tr>\n",
       "  </thead>\n",
       "  <tbody>\n",
       "    <tr>\n",
       "      <th>0</th>\n",
       "      <td>NNeQwQy9MAQ=</td>\n",
       "      <td>2016-07-15 22:23:25</td>\n",
       "      <td>2016</td>\n",
       "      <td>7</td>\n",
       "      <td>15</td>\n",
       "      <td>22</td>\n",
       "      <td>2</td>\n",
       "      <td>1</td>\n",
       "      <td>100.0</td>\n",
       "    </tr>\n",
       "    <tr>\n",
       "      <th>1</th>\n",
       "      <td>qFRoPHPOc/I=</td>\n",
       "      <td>2016-06-21 21:30:55</td>\n",
       "      <td>2016</td>\n",
       "      <td>6</td>\n",
       "      <td>21</td>\n",
       "      <td>21</td>\n",
       "      <td>2</td>\n",
       "      <td>1</td>\n",
       "      <td>20.0</td>\n",
       "    </tr>\n",
       "    <tr>\n",
       "      <th>2</th>\n",
       "      <td>qFRoPHPOc/I=</td>\n",
       "      <td>2017-02-01 01:29:59</td>\n",
       "      <td>2017</td>\n",
       "      <td>2</td>\n",
       "      <td>1</td>\n",
       "      <td>1</td>\n",
       "      <td>2</td>\n",
       "      <td>1</td>\n",
       "      <td>100.0</td>\n",
       "    </tr>\n",
       "    <tr>\n",
       "      <th>3</th>\n",
       "      <td>qFRoPHPOc/I=</td>\n",
       "      <td>2017-03-09 02:26:05</td>\n",
       "      <td>2017</td>\n",
       "      <td>3</td>\n",
       "      <td>9</td>\n",
       "      <td>2</td>\n",
       "      <td>2</td>\n",
       "      <td>1</td>\n",
       "      <td>50.0</td>\n",
       "    </tr>\n",
       "    <tr>\n",
       "      <th>4</th>\n",
       "      <td>he9pUcExpTY=</td>\n",
       "      <td>2016-10-01 06:45:48</td>\n",
       "      <td>2016</td>\n",
       "      <td>10</td>\n",
       "      <td>1</td>\n",
       "      <td>6</td>\n",
       "      <td>2</td>\n",
       "      <td>1</td>\n",
       "      <td>100.0</td>\n",
       "    </tr>\n",
       "  </tbody>\n",
       "</table>\n",
       "</div>"
      ],
      "text/plain": [
       "      client_id                 date   año  mes  dia  hora  mccg  quantity  \\\n",
       "0  NNeQwQy9MAQ=  2016-07-15 22:23:25  2016    7   15    22     2         1   \n",
       "1  qFRoPHPOc/I=  2016-06-21 21:30:55  2016    6   21    21     2         1   \n",
       "2  qFRoPHPOc/I=  2017-02-01 01:29:59  2017    2    1     1     2         1   \n",
       "3  qFRoPHPOc/I=  2017-03-09 02:26:05  2017    3    9     2     2         1   \n",
       "4  he9pUcExpTY=  2016-10-01 06:45:48  2016   10    1     6     2         1   \n",
       "\n",
       "   amount_sol  \n",
       "0       100.0  \n",
       "1        20.0  \n",
       "2       100.0  \n",
       "3        50.0  \n",
       "4       100.0  "
      ]
     },
     "execution_count": 2,
     "metadata": {},
     "output_type": "execute_result"
    }
   ],
   "source": [
    "\n",
    "def leer_data():\n",
    "    outfile='../RECURSOS/data.csv'\n",
    "    data = pd.read_csv(outfile)\n",
    "    return data\n",
    "\n",
    "data_original = leer_data()\n",
    "data = data_original[['client_id','date','año','mes','dia','hora','mccg','quantity','amount_sol']]\n",
    "data.head(5) # Data de la consulta"
   ]
  },
  {
   "cell_type": "code",
   "execution_count": 3,
   "metadata": {
    "scrolled": true
   },
   "outputs": [],
   "source": [
    "mccgs = ((data.groupby(['mccg'], as_index=False, sort=True)).count())['mccg']\n",
    "#mccgs,mccgs[3],len(mccgs)"
   ]
  },
  {
   "cell_type": "markdown",
   "metadata": {},
   "source": [
    "# RESULTADOS"
   ]
  },
  {
   "cell_type": "markdown",
   "metadata": {},
   "source": [
    "## Unimos los resultados por cada mccg"
   ]
  },
  {
   "cell_type": "markdown",
   "metadata": {},
   "source": [
    "Juntamos los datos originales con sus etiquetas de cluster individuale y cluster colectivo correspondientes.\n",
    "\n",
    "<div>Utulizamos solo 2 variables para el ahorro de memoria. </div>"
   ]
  },
  {
   "cell_type": "code",
   "execution_count": 4,
   "metadata": {
    "scrolled": true
   },
   "outputs": [],
   "source": [
    "\n",
    "path='./RESULTADOS' \n",
    "\n",
    "file=\"%s/U\" %(path) \n",
    "footprint=\"%s.footprint\" %(file)\n",
    "individual_clusters=\"%s.individual_footprint.clusters\" %(file)\n",
    "individual_labels=\"%s.individual_footprint.labels\" %(file)   \n",
    "collective_clusters=\"%s.collective_footprint.clusters\" %(file)\n",
    "collective_labels=\"%s.collective_footprint.labels\" %(file)\n"
   ]
  },
  {
   "cell_type": "code",
   "execution_count": 5,
   "metadata": {},
   "outputs": [],
   "source": [
    "a = pd.read_csv(individual_labels, sep=\";\", header=0, index_col=False, dtype={'week': str,'year': str})   ## read file\n",
    "b = pd.read_csv(collective_labels, sep=\";\", header=0, index_col=False)   ## read file"
   ]
  },
  {
   "cell_type": "code",
   "execution_count": 6,
   "metadata": {},
   "outputs": [],
   "source": [
    "a = pd.merge(a, b, on=['customer_tag', 'individual_cluster'])\n",
    "del b\n",
    "a = a.iloc[:, :(-1*4*7*len(mccgs))]"
   ]
  },
  {
   "cell_type": "code",
   "execution_count": 7,
   "metadata": {},
   "outputs": [],
   "source": [
    "b = pd.read_csv(footprint, sep=\",\", header=0, dtype={'week': str,'year': str})   ## read file\n",
    "b.rename(columns={'customer_id':'customer_tag'}, inplace=True)  "
   ]
  },
  {
   "cell_type": "code",
   "execution_count": 8,
   "metadata": {},
   "outputs": [],
   "source": [
    "a = pd.merge(b, a, on=['customer_tag','year', 'week'])\n",
    "del b\n",
    "b = a.iloc[:, :(-1*4*7*len(mccgs)-1)]"
   ]
  },
  {
   "cell_type": "code",
   "execution_count": 9,
   "metadata": {},
   "outputs": [],
   "source": [
    "a = pd.concat([b, a[['collective_cluster']]], axis=1)\n",
    "del b\n",
    "a[['year','week','profile_id','size','individual_cluster','collective_cluster']] = a[['year','week','profile_id','size','individual_cluster','collective_cluster']]"
   ]
  },
  {
   "cell_type": "code",
   "execution_count": 10,
   "metadata": {},
   "outputs": [
    {
     "data": {
      "text/html": [
       "<div>\n",
       "<style scoped>\n",
       "    .dataframe tbody tr th:only-of-type {\n",
       "        vertical-align: middle;\n",
       "    }\n",
       "\n",
       "    .dataframe tbody tr th {\n",
       "        vertical-align: top;\n",
       "    }\n",
       "\n",
       "    .dataframe thead th {\n",
       "        text-align: right;\n",
       "    }\n",
       "</style>\n",
       "<table border=\"1\" class=\"dataframe\">\n",
       "  <thead>\n",
       "    <tr style=\"text-align: right;\">\n",
       "      <th></th>\n",
       "      <th>customer_tag</th>\n",
       "      <th>year</th>\n",
       "      <th>week</th>\n",
       "      <th>profile_id</th>\n",
       "      <th>mccg</th>\n",
       "      <th>turn</th>\n",
       "      <th>size</th>\n",
       "      <th>m2t0d0</th>\n",
       "      <th>m2t0d1</th>\n",
       "      <th>m2t0d2</th>\n",
       "      <th>...</th>\n",
       "      <th>m5t2d6</th>\n",
       "      <th>m5t3d0</th>\n",
       "      <th>m5t3d1</th>\n",
       "      <th>m5t3d2</th>\n",
       "      <th>m5t3d3</th>\n",
       "      <th>m5t3d4</th>\n",
       "      <th>m5t3d5</th>\n",
       "      <th>m5t3d6</th>\n",
       "      <th>individual_cluster</th>\n",
       "      <th>collective_cluster</th>\n",
       "    </tr>\n",
       "  </thead>\n",
       "  <tbody>\n",
       "    <tr>\n",
       "      <th>0</th>\n",
       "      <td>+9yJoBsAES4=</td>\n",
       "      <td>2016</td>\n",
       "      <td>24</td>\n",
       "      <td>0</td>\n",
       "      <td>3</td>\n",
       "      <td>2</td>\n",
       "      <td>1.0</td>\n",
       "      <td>0.0</td>\n",
       "      <td>0.0</td>\n",
       "      <td>0.0</td>\n",
       "      <td>...</td>\n",
       "      <td>0.0</td>\n",
       "      <td>0.0</td>\n",
       "      <td>0.0</td>\n",
       "      <td>0.0</td>\n",
       "      <td>0.0</td>\n",
       "      <td>0.0</td>\n",
       "      <td>0.0</td>\n",
       "      <td>0.0</td>\n",
       "      <td>0</td>\n",
       "      <td>10</td>\n",
       "    </tr>\n",
       "    <tr>\n",
       "      <th>1</th>\n",
       "      <td>+EUZmfQX5bA=</td>\n",
       "      <td>2017</td>\n",
       "      <td>10</td>\n",
       "      <td>0</td>\n",
       "      <td>2</td>\n",
       "      <td>3</td>\n",
       "      <td>1.0</td>\n",
       "      <td>0.0</td>\n",
       "      <td>0.0</td>\n",
       "      <td>0.0</td>\n",
       "      <td>...</td>\n",
       "      <td>0.0</td>\n",
       "      <td>0.0</td>\n",
       "      <td>0.0</td>\n",
       "      <td>0.0</td>\n",
       "      <td>0.0</td>\n",
       "      <td>0.0</td>\n",
       "      <td>0.0</td>\n",
       "      <td>0.0</td>\n",
       "      <td>0</td>\n",
       "      <td>45</td>\n",
       "    </tr>\n",
       "    <tr>\n",
       "      <th>2</th>\n",
       "      <td>+Ilmh+mr2WM=</td>\n",
       "      <td>2017</td>\n",
       "      <td>19</td>\n",
       "      <td>0</td>\n",
       "      <td>2</td>\n",
       "      <td>3</td>\n",
       "      <td>2.0</td>\n",
       "      <td>0.0</td>\n",
       "      <td>0.0</td>\n",
       "      <td>0.0</td>\n",
       "      <td>...</td>\n",
       "      <td>0.0</td>\n",
       "      <td>0.0</td>\n",
       "      <td>0.0</td>\n",
       "      <td>0.0</td>\n",
       "      <td>0.0</td>\n",
       "      <td>0.0</td>\n",
       "      <td>0.0</td>\n",
       "      <td>0.0</td>\n",
       "      <td>1</td>\n",
       "      <td>32</td>\n",
       "    </tr>\n",
       "    <tr>\n",
       "      <th>3</th>\n",
       "      <td>+Ilmh+mr2WM=</td>\n",
       "      <td>2017</td>\n",
       "      <td>21</td>\n",
       "      <td>1</td>\n",
       "      <td>2</td>\n",
       "      <td>0</td>\n",
       "      <td>1.0</td>\n",
       "      <td>0.0</td>\n",
       "      <td>0.0</td>\n",
       "      <td>1.0</td>\n",
       "      <td>...</td>\n",
       "      <td>0.0</td>\n",
       "      <td>0.0</td>\n",
       "      <td>0.0</td>\n",
       "      <td>0.0</td>\n",
       "      <td>0.0</td>\n",
       "      <td>0.0</td>\n",
       "      <td>0.0</td>\n",
       "      <td>0.0</td>\n",
       "      <td>0</td>\n",
       "      <td>65</td>\n",
       "    </tr>\n",
       "    <tr>\n",
       "      <th>4</th>\n",
       "      <td>+Ilmh+mr2WM=</td>\n",
       "      <td>2017</td>\n",
       "      <td>01</td>\n",
       "      <td>2</td>\n",
       "      <td>2</td>\n",
       "      <td>0</td>\n",
       "      <td>1.0</td>\n",
       "      <td>0.0</td>\n",
       "      <td>0.0</td>\n",
       "      <td>0.0</td>\n",
       "      <td>...</td>\n",
       "      <td>0.0</td>\n",
       "      <td>0.0</td>\n",
       "      <td>0.0</td>\n",
       "      <td>0.0</td>\n",
       "      <td>0.0</td>\n",
       "      <td>0.0</td>\n",
       "      <td>0.0</td>\n",
       "      <td>0.0</td>\n",
       "      <td>0</td>\n",
       "      <td>65</td>\n",
       "    </tr>\n",
       "  </tbody>\n",
       "</table>\n",
       "<p>5 rows × 121 columns</p>\n",
       "</div>"
      ],
      "text/plain": [
       "   customer_tag  year week  profile_id  mccg  turn  size  m2t0d0  m2t0d1  \\\n",
       "0  +9yJoBsAES4=  2016   24           0     3     2   1.0     0.0     0.0   \n",
       "1  +EUZmfQX5bA=  2017   10           0     2     3   1.0     0.0     0.0   \n",
       "2  +Ilmh+mr2WM=  2017   19           0     2     3   2.0     0.0     0.0   \n",
       "3  +Ilmh+mr2WM=  2017   21           1     2     0   1.0     0.0     0.0   \n",
       "4  +Ilmh+mr2WM=  2017   01           2     2     0   1.0     0.0     0.0   \n",
       "\n",
       "   m2t0d2         ...          m5t2d6  m5t3d0  m5t3d1  m5t3d2  m5t3d3  m5t3d4  \\\n",
       "0     0.0         ...             0.0     0.0     0.0     0.0     0.0     0.0   \n",
       "1     0.0         ...             0.0     0.0     0.0     0.0     0.0     0.0   \n",
       "2     0.0         ...             0.0     0.0     0.0     0.0     0.0     0.0   \n",
       "3     1.0         ...             0.0     0.0     0.0     0.0     0.0     0.0   \n",
       "4     0.0         ...             0.0     0.0     0.0     0.0     0.0     0.0   \n",
       "\n",
       "   m5t3d5  m5t3d6  individual_cluster  collective_cluster  \n",
       "0     0.0     0.0                   0                  10  \n",
       "1     0.0     0.0                   0                  45  \n",
       "2     0.0     0.0                   1                  32  \n",
       "3     0.0     0.0                   0                  65  \n",
       "4     0.0     0.0                   0                  65  \n",
       "\n",
       "[5 rows x 121 columns]"
      ]
     },
     "execution_count": 10,
     "metadata": {},
     "output_type": "execute_result"
    }
   ],
   "source": [
    "a.head(5)"
   ]
  },
  {
   "cell_type": "code",
   "execution_count": 11,
   "metadata": {},
   "outputs": [
    {
     "name": "stdout",
     "output_type": "stream",
     "text": [
      "Done\n"
     ]
    }
   ],
   "source": [
    "path_res='%s/Results.csv' %(path)\n",
    "a.to_csv(path_res,index=False)\n",
    "print('Done')"
   ]
  },
  {
   "cell_type": "code",
   "execution_count": null,
   "metadata": {},
   "outputs": [],
   "source": []
  }
 ],
 "metadata": {
  "kernelspec": {
   "display_name": "Python 3",
   "language": "python",
   "name": "python3"
  },
  "language_info": {
   "codemirror_mode": {
    "name": "ipython",
    "version": 3
   },
   "file_extension": ".py",
   "mimetype": "text/x-python",
   "name": "python",
   "nbconvert_exporter": "python",
   "pygments_lexer": "ipython3",
   "version": "3.6.5"
  },
  "toc": {
   "base_numbering": 1,
   "nav_menu": {},
   "number_sections": false,
   "sideBar": true,
   "skip_h1_title": false,
   "title_cell": "Table of Contents",
   "title_sidebar": "Contents",
   "toc_cell": false,
   "toc_position": {
    "height": "calc(100% - 180px)",
    "left": "10px",
    "top": "150px",
    "width": "280px"
   },
   "toc_section_display": true,
   "toc_window_display": true
  }
 },
 "nbformat": 4,
 "nbformat_minor": 2
}
