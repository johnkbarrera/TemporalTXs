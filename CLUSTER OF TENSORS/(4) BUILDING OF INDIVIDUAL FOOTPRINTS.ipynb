{
 "cells": [
  {
   "cell_type": "markdown",
   "metadata": {},
   "source": [
    "# FOOTPRINTS"
   ]
  },
  {
   "cell_type": "code",
   "execution_count": 7,
   "metadata": {},
   "outputs": [],
   "source": [
    "import numpy as np\n",
    "import datetime\n",
    "from datetime import date\n",
    "import json\n",
    "import pylab\n",
    "import pandas as pd\n",
    "import matplotlib.pyplot as plt\n",
    "import os, sys"
   ]
  },
  {
   "cell_type": "code",
   "execution_count": null,
   "metadata": {},
   "outputs": [],
   "source": []
  },
  {
   "cell_type": "code",
   "execution_count": 8,
   "metadata": {},
   "outputs": [
    {
     "data": {
      "text/html": [
       "<div>\n",
       "<style scoped>\n",
       "    .dataframe tbody tr th:only-of-type {\n",
       "        vertical-align: middle;\n",
       "    }\n",
       "\n",
       "    .dataframe tbody tr th {\n",
       "        vertical-align: top;\n",
       "    }\n",
       "\n",
       "    .dataframe thead th {\n",
       "        text-align: right;\n",
       "    }\n",
       "</style>\n",
       "<table border=\"1\" class=\"dataframe\">\n",
       "  <thead>\n",
       "    <tr style=\"text-align: right;\">\n",
       "      <th></th>\n",
       "      <th>client_id</th>\n",
       "      <th>date</th>\n",
       "      <th>año</th>\n",
       "      <th>mes</th>\n",
       "      <th>dia</th>\n",
       "      <th>hora</th>\n",
       "      <th>merchant_departement</th>\n",
       "      <th>merchant_province</th>\n",
       "      <th>merchant_district</th>\n",
       "      <th>mcc</th>\n",
       "      <th>mccg</th>\n",
       "      <th>client_age</th>\n",
       "      <th>quantity</th>\n",
       "      <th>amount_sol</th>\n",
       "      <th>dia_semana</th>\n",
       "      <th>turno</th>\n",
       "    </tr>\n",
       "  </thead>\n",
       "  <tbody>\n",
       "    <tr>\n",
       "      <th>0</th>\n",
       "      <td>NNeQwQy9MAQ=</td>\n",
       "      <td>2016-07-15 22:23:25</td>\n",
       "      <td>2016</td>\n",
       "      <td>7</td>\n",
       "      <td>15</td>\n",
       "      <td>22</td>\n",
       "      <td>LIMA</td>\n",
       "      <td>LIMA</td>\n",
       "      <td>San Juan De Luriganc</td>\n",
       "      <td>7994</td>\n",
       "      <td>2</td>\n",
       "      <td>33.0</td>\n",
       "      <td>1</td>\n",
       "      <td>100.0</td>\n",
       "      <td>Fri</td>\n",
       "      <td>4-Noche</td>\n",
       "    </tr>\n",
       "    <tr>\n",
       "      <th>1</th>\n",
       "      <td>qFRoPHPOc/I=</td>\n",
       "      <td>2016-06-21 21:30:55</td>\n",
       "      <td>2016</td>\n",
       "      <td>6</td>\n",
       "      <td>21</td>\n",
       "      <td>21</td>\n",
       "      <td>LIMA</td>\n",
       "      <td>LIMA</td>\n",
       "      <td>San Juan De Luriganc</td>\n",
       "      <td>7994</td>\n",
       "      <td>2</td>\n",
       "      <td>52.0</td>\n",
       "      <td>1</td>\n",
       "      <td>20.0</td>\n",
       "      <td>Tues</td>\n",
       "      <td>4-Noche</td>\n",
       "    </tr>\n",
       "    <tr>\n",
       "      <th>2</th>\n",
       "      <td>qFRoPHPOc/I=</td>\n",
       "      <td>2017-02-01 01:29:59</td>\n",
       "      <td>2017</td>\n",
       "      <td>2</td>\n",
       "      <td>1</td>\n",
       "      <td>1</td>\n",
       "      <td>LIMA</td>\n",
       "      <td>LIMA</td>\n",
       "      <td>San Juan De Luriganc</td>\n",
       "      <td>7994</td>\n",
       "      <td>2</td>\n",
       "      <td>52.0</td>\n",
       "      <td>1</td>\n",
       "      <td>100.0</td>\n",
       "      <td>Weds</td>\n",
       "      <td>1-Madrugada</td>\n",
       "    </tr>\n",
       "  </tbody>\n",
       "</table>\n",
       "</div>"
      ],
      "text/plain": [
       "      client_id                 date   año  mes  dia  hora  \\\n",
       "0  NNeQwQy9MAQ=  2016-07-15 22:23:25  2016    7   15    22   \n",
       "1  qFRoPHPOc/I=  2016-06-21 21:30:55  2016    6   21    21   \n",
       "2  qFRoPHPOc/I=  2017-02-01 01:29:59  2017    2    1     1   \n",
       "\n",
       "  merchant_departement merchant_province     merchant_district   mcc  mccg  \\\n",
       "0                 LIMA              LIMA  San Juan De Luriganc  7994     2   \n",
       "1                 LIMA              LIMA  San Juan De Luriganc  7994     2   \n",
       "2                 LIMA              LIMA  San Juan De Luriganc  7994     2   \n",
       "\n",
       "   client_age  quantity  amount_sol dia_semana        turno  \n",
       "0        33.0         1       100.0        Fri      4-Noche  \n",
       "1        52.0         1        20.0       Tues      4-Noche  \n",
       "2        52.0         1       100.0       Weds  1-Madrugada  "
      ]
     },
     "execution_count": 8,
     "metadata": {},
     "output_type": "execute_result"
    }
   ],
   "source": [
    "\n",
    "def leer_data():\n",
    "    outfile='./SOURCES/data.csv'\n",
    "    data = pd.read_csv(outfile)\n",
    "    return data\n",
    "\n",
    "data_original = leer_data()\n",
    "data_original.head(3)"
   ]
  },
  {
   "cell_type": "code",
   "execution_count": 9,
   "metadata": {},
   "outputs": [
    {
     "data": {
      "text/plain": [
       "(0    2\n",
       " 1    3\n",
       " 2    4\n",
       " 3    5\n",
       " Name: mccg, dtype: int64, 5, 4)"
      ]
     },
     "execution_count": 9,
     "metadata": {},
     "output_type": "execute_result"
    }
   ],
   "source": [
    "mccgs = ((data.groupby(['mccg'], as_index=False, sort=True)).count())['mccg']\n",
    "mccgs,mccgs[3],len(mccgs)"
   ]
  },
  {
   "cell_type": "markdown",
   "metadata": {},
   "source": [
    "# RESULTADOS"
   ]
  },
  {
   "cell_type": "markdown",
   "metadata": {},
   "source": [
    "## Unimos los resultados por cada mccg"
   ]
  },
  {
   "cell_type": "code",
   "execution_count": 17,
   "metadata": {
    "scrolled": true
   },
   "outputs": [
    {
     "name": "stdout",
     "output_type": "stream",
     "text": [
      "Done\n"
     ]
    }
   ],
   "source": [
    "\n",
    "\n",
    "path='./RESULTS' \n",
    "file='./RESULTS/U' \n",
    "footprint=\"%s.footprint\" %(file)\n",
    "individual_clusters=\"%s.individual_footprint.clusters\" %(file)\n",
    "individual_labels=\"%s.individual_footprint.labels\" %(file)   \n",
    "collective_clusters=\"%s.collective_footprint.clusters\" %(file)\n",
    "collective_labels=\"%s.collective_footprint.labels\" %(file)\n",
    "    \n",
    "# Unimos\n",
    "footprint = pd.read_csv(footprint, sep=\",\", header=0)\n",
    "footprint.rename(columns={'customer_id':'customer_tag'}, inplace=True)     \n",
    "individual_labels = pd.read_csv(individual_labels, sep=\";\", header=0, index_col=False)\n",
    "collective_labels = pd.read_csv(collective_labels, sep=\";\", header=0, index_col=False)\n",
    "\n",
    "result = pd.merge(individual_labels, collective_labels, on=['customer_tag', 'individual_cluster'])\n",
    "result = result.iloc[:, :(-1*4*7*len(mccgs))]\n",
    "result= pd.merge(footprint, result, on=['customer_tag','year', 'week'])\n",
    "result1 = result.iloc[:, :(-1*4*7*len(mccgs)-1)]\n",
    "result = pd.concat([result1, result[['collective_cluster']]], axis=1)\n",
    "result[['year','week','profile_id','size','individual_cluster','collective_cluster']] = result[['year','week','profile_id','size','individual_cluster','collective_cluster']].astype(int)\n",
    "\n",
    "path_res='%s/Results.csv' %(path)\n",
    "result.to_csv(path_res,index=False)\n",
    "print('Done')"
   ]
  },
  {
   "cell_type": "markdown",
   "metadata": {},
   "source": [
    "## Graficos"
   ]
  },
  {
   "cell_type": "markdown",
   "metadata": {},
   "source": [
    "### Numero de Clusters por  mccg"
   ]
  },
  {
   "cell_type": "code",
   "execution_count": 20,
   "metadata": {},
   "outputs": [
    {
     "name": "stdout",
     "output_type": "stream",
     "text": [
      "=>   16  clusters\n"
     ]
    },
    {
     "data": {
      "image/png": "[encoded data removed]",
      "text/plain": [
       "<Figure size 432x288 with 1 Axes>"
      ]
     },
     "metadata": {},
     "output_type": "display_data"
    },
    {
     "name": "stdout",
     "output_type": "stream",
     "text": [
      "Done\n"
     ]
    }
   ],
   "source": [
    "\n",
    "path_res='%s/Results.csv' %(path)\n",
    "    \n",
    "result = pd.read_csv(path_res, sep=\",\", header=0)\n",
    "    \n",
    "nn= result.groupby(['collective_cluster'], as_index=False, sort=True)['customer_tag'].count()\n",
    "print(\"=>  \",str(len(nn)),\" clusters\")\n",
    "fig, ax = plt.subplots()\n",
    "ax.bar(nn.index, nn['customer_tag'], align='center')\n",
    "ax.grid(color='gray', linestyle='--', linewidth=1)\n",
    "\n",
    "ax.set_xlabel('Año')\n",
    "ax.set_xticks(nn.index)\n",
    "\n",
    "ax.set_ylabel('Frecuencia')\n",
    "tag =[]\n",
    "for j in range(len(nn)):\n",
    "    temp = 'Cluster '+ str(j)+''\n",
    "    tag.append(temp)\n",
    "\n",
    "ax.set_xticklabels(tag, rotation=80)\n",
    "    \n",
    "title = \"Histograma el Mccg \"\n",
    "ax.set_title(title)\n",
    "plt.show()\n",
    "\n",
    "print('Done')"
   ]
  },
  {
   "cell_type": "markdown",
   "metadata": {},
   "source": [
    "### Comportamiento de los clusters en el Tiempo"
   ]
  },
  {
   "cell_type": "code",
   "execution_count": null,
   "metadata": {},
   "outputs": [],
   "source": [
    "from datetime import datetime\n",
    "def fromisocalendar(y,w,d):\n",
    "    date = datetime.strptime( \"%04dW%02d-%d\"%(y,w-1,d), \"%YW%W-%w\")\n",
    "    aa = date.year\n",
    "    mm = date.month\n",
    "    dd = date.day\n",
    "    return str(aa)+\"-\"+str(mm)+\"-\"+str(dd) \n",
    "\n",
    "import matplotlib._color_data as mcd\n",
    "box = dict(facecolor='#cccc00', pad=4, alpha=0.8)\n",
    "\n",
    "for i in range(len(mccg)):\n",
    "#for i in range(1):\n",
    "\n",
    "    path = \"RESULTS/MCCG_\"+str(mccg[i])\n",
    "    path_res='./%s/mccg_%s_results.csv.json' %(path,mccg[i])\n",
    "    \n",
    "    result = pd.read_csv(path_res, sep=\",\", header=0)\n",
    "    \n",
    "    hist = result.groupby(['collective_cluster'], as_index=False, sort=True)['customer_tag'].count()\n",
    "    longitud = len(hist)\n",
    "    helper = result.groupby(['year','week','collective_cluster'], as_index=False, sort=True)['customer_tag'].count()\n",
    "    helper['fecha'] = helper['year'].astype(str).str.cat(helper['week'].astype(str), sep='-')\n",
    "    helper = helper[['fecha','collective_cluster','customer_tag']]\n",
    "    helper_1 = helper.groupby(['fecha']).count()\n",
    "    helper_1['fecha'] = helper_1.index\n",
    "    \n",
    "    fig = plt.figure(figsize=(18,4))\n",
    "    ax = fig.add_subplot(111, frameon=True)\n",
    "    x = list(helper['fecha'].drop_duplicates())\n",
    "    x1 = x\n",
    "    for j in range(len(x)):\n",
    "        x1[j] = fromisocalendar(int(x[j][:4]),int(x[j][5:len(x[j])]),2)\n",
    "\n",
    "        \n",
    "    ax.set_xticklabels(x, rotation=80)\n",
    "\n",
    "    # ------------ COLORES ---------------------\n",
    "    overlap = mcd.XKCD_COLORS\n",
    "    colores = [\"\" for x in range(len(overlap))]\n",
    "    for j, n in enumerate(sorted(overlap, reverse=True)):\n",
    "        cor = mcd.XKCD_COLORS[n].upper()\n",
    "        colores[j] = cor\n",
    "\n",
    "    legend = ax.legend(loc='upper center', shadow=True, fontsize='x-large')\n",
    "\n",
    "    from datetime import datetime\n",
    "\n",
    "    for k in range(longitud):\n",
    "        cluster_k = helper[helper['collective_cluster']==k]\n",
    "        cluster_k1 = helper_1.set_index('fecha').join(cluster_k.set_index('fecha'), lsuffix='_x', rsuffix='_y')\n",
    "        cluster_k1 = cluster_k1[['customer_tag_y']]\n",
    "        cluster_k1 = cluster_k1.fillna(0)\n",
    "        y = cluster_k1['customer_tag_y']\n",
    "        #x = cluster_k1.index\n",
    "        ax.plot(x,y,'--',color=colores[k*9],label=\"Comportamiento \"+str(k))\n",
    "\n",
    "    \n",
    "    \n",
    "    ax.legend()\n",
    "    title = 'Variacion en el tiempo del comportamiento de compra para el Mccg '+str(mccg[i])\n",
    "    ax.set_title(title)\n",
    "    ax.set_xlabel('Año - Semana (Fecha)', bbox=box)\n",
    "    ax.set_ylabel('Cantidad de Clientes', bbox=box)\n",
    "\n",
    "print('Done')"
   ]
  },
  {
   "cell_type": "code",
   "execution_count": null,
   "metadata": {},
   "outputs": [],
   "source": [
    "mccg_deseado = 2\n",
    "\n",
    "# for i\n",
    "\n",
    "path = \"RESULTS/MCCG_\"+str(mccg_deseado)\n",
    "path_res='./%s/mccg_%s_results.csv.json' %(path,mccg_deseado)\n",
    "    \n",
    "result = pd.read_csv(path_res, sep=\",\", header=0)\n",
    "\n",
    "# Numero de cluster\n",
    "cluster = result.groupby(['collective_cluster']).sum()\n",
    "cluster = cluster.iloc[:, 5:-1]\n",
    "num_cluster= len(cluster)\n",
    "\n",
    "for j in range(num_cluster):\n",
    "    cluster_i = cluster[cluster.index == j]\n",
    "    df0 = cluster_i.iloc[:, 0:7] \n",
    "    df1 = cluster_i.iloc[:, 7:14]\n",
    "    df2 = cluster_i.iloc[:, 14:21]\n",
    "    df3 = cluster_i.iloc[:, 21:28]\n",
    "\n",
    "    df0 = df0.transpose().reset_index(drop=True).transpose()\n",
    "    df1 = df1.transpose().reset_index(drop=True).transpose()\n",
    "    df2 = df2.transpose().reset_index(drop=True).transpose()\n",
    "    df3 = df3.transpose().reset_index(drop=True).transpose()\n",
    "\n",
    "    dfs = [df0,df1,df2,df3]\n",
    "    df = pd.concat( dfs,axis=0,ignore_index=True)\n",
    "    df.columns = ['Lun','Mar', 'Mie','Jue','Vie','Sab','Dom']\n",
    "    df.index = ['Madrugada','Mañana', 'Tarde','Noche']\n",
    "    \n",
    "    m = np.around(df.values,2)\n",
    "    vals = np.around(df.values/(cluster_i.values).mean(),2)\n",
    "    normal = plt.Normalize(vals.min()-1, vals.max()+1)\n",
    "\n",
    "    fig = plt.figure(figsize=(12,1))\n",
    "    \n",
    "    ax = fig.add_subplot(111, frameon=False, xticks=[], yticks=[])\n",
    "    ax.set_title('Representación del Cluster: %s'%(j))\n",
    "    the_table=plt.table(cellText=m, rowLabels=df.index, colLabels=df.columns, \n",
    "                        colWidths = [0.123]*vals.shape[1], loc='upper center', \n",
    "                        cellColours=plt.cm.PuBu(normal(vals)))"
   ]
  },
  {
   "cell_type": "code",
   "execution_count": null,
   "metadata": {},
   "outputs": [],
   "source": []
  },
  {
   "cell_type": "code",
   "execution_count": null,
   "metadata": {},
   "outputs": [],
   "source": []
  },
  {
   "cell_type": "code",
   "execution_count": null,
   "metadata": {},
   "outputs": [],
   "source": []
  }
 ],
 "metadata": {
  "kernelspec": {
   "display_name": "Python 3",
   "language": "python",
   "name": "python3"
  },
  "language_info": {
   "codemirror_mode": {
    "name": "ipython",
    "version": 3
   },
   "file_extension": ".py",
   "mimetype": "text/x-python",
   "name": "python",
   "nbconvert_exporter": "python",
   "pygments_lexer": "ipython3",
   "version": "3.6.5"
  },
  "toc": {
   "base_numbering": 1,
   "nav_menu": {},
   "number_sections": false,
   "sideBar": true,
   "skip_h1_title": false,
   "title_cell": "Table of Contents",
   "title_sidebar": "Contents",
   "toc_cell": false,
   "toc_position": {
    "height": "calc(100% - 180px)",
    "left": "10px",
    "top": "150px",
    "width": "280px"
   },
   "toc_section_display": true,
   "toc_window_display": true
  }
 },
 "nbformat": 4,
 "nbformat_minor": 2
}
