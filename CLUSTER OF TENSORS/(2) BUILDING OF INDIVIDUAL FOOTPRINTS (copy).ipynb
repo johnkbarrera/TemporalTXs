{
 "cells": [
  {
   "cell_type": "markdown",
   "metadata": {},
   "source": [
    "# FOOTPRINTS"
   ]
  },
  {
   "cell_type": "code",
   "execution_count": 1,
   "metadata": {},
   "outputs": [],
   "source": [
    "import numpy as np\n",
    "import datetime\n",
    "from datetime import date\n",
    "import json\n",
    "import pylab\n",
    "import pandas as pd\n",
    "import matplotlib.pyplot as plt\n",
    "import os, sys"
   ]
  },
  {
   "cell_type": "markdown",
   "metadata": {},
   "source": [
    "## Preparacion de datos"
   ]
  },
  {
   "cell_type": "raw",
   "metadata": {},
   "source": [
    "Dado:\n",
    "\n",
    "    Sesion de TX\n",
    "        s = {cliente, timestamp, Monto}\n",
    "    \n",
    "    Cada cliente tiene una secuencia de sesiones de TX (S)\n",
    "        S = { s1, s2 , s3, ..., sn}          n: # de sesiones de cada cliente\n",
    "        \n",
    "        \n",
    "    "
   ]
  },
  {
   "cell_type": "markdown",
   "metadata": {},
   "source": [
    "### Cargando datos"
   ]
  },
  {
   "cell_type": "code",
   "execution_count": 2,
   "metadata": {
    "scrolled": true
   },
   "outputs": [
    {
     "data": {
      "text/html": [
       "<div>\n",
       "<style scoped>\n",
       "    .dataframe tbody tr th:only-of-type {\n",
       "        vertical-align: middle;\n",
       "    }\n",
       "\n",
       "    .dataframe tbody tr th {\n",
       "        vertical-align: top;\n",
       "    }\n",
       "\n",
       "    .dataframe thead th {\n",
       "        text-align: right;\n",
       "    }\n",
       "</style>\n",
       "<table border=\"1\" class=\"dataframe\">\n",
       "  <thead>\n",
       "    <tr style=\"text-align: right;\">\n",
       "      <th></th>\n",
       "      <th>client_id</th>\n",
       "      <th>date</th>\n",
       "      <th>año</th>\n",
       "      <th>mes</th>\n",
       "      <th>dia</th>\n",
       "      <th>hora</th>\n",
       "      <th>merchant_departement</th>\n",
       "      <th>merchant_province</th>\n",
       "      <th>merchant_district</th>\n",
       "      <th>mcc</th>\n",
       "      <th>mccg</th>\n",
       "      <th>client_age</th>\n",
       "      <th>quantity</th>\n",
       "      <th>amount_sol</th>\n",
       "      <th>dia_semana</th>\n",
       "      <th>turno</th>\n",
       "    </tr>\n",
       "  </thead>\n",
       "  <tbody>\n",
       "    <tr>\n",
       "      <th>0</th>\n",
       "      <td>NNeQwQy9MAQ=</td>\n",
       "      <td>2016-07-15 22:23:25</td>\n",
       "      <td>2016</td>\n",
       "      <td>7</td>\n",
       "      <td>15</td>\n",
       "      <td>22</td>\n",
       "      <td>LIMA</td>\n",
       "      <td>LIMA</td>\n",
       "      <td>San Juan De Luriganc</td>\n",
       "      <td>7994</td>\n",
       "      <td>2</td>\n",
       "      <td>33.0</td>\n",
       "      <td>1</td>\n",
       "      <td>100.0</td>\n",
       "      <td>Fri</td>\n",
       "      <td>4-Noche</td>\n",
       "    </tr>\n",
       "    <tr>\n",
       "      <th>1</th>\n",
       "      <td>qFRoPHPOc/I=</td>\n",
       "      <td>2016-06-21 21:30:55</td>\n",
       "      <td>2016</td>\n",
       "      <td>6</td>\n",
       "      <td>21</td>\n",
       "      <td>21</td>\n",
       "      <td>LIMA</td>\n",
       "      <td>LIMA</td>\n",
       "      <td>San Juan De Luriganc</td>\n",
       "      <td>7994</td>\n",
       "      <td>2</td>\n",
       "      <td>52.0</td>\n",
       "      <td>1</td>\n",
       "      <td>20.0</td>\n",
       "      <td>Tues</td>\n",
       "      <td>4-Noche</td>\n",
       "    </tr>\n",
       "    <tr>\n",
       "      <th>2</th>\n",
       "      <td>qFRoPHPOc/I=</td>\n",
       "      <td>2017-02-01 01:29:59</td>\n",
       "      <td>2017</td>\n",
       "      <td>2</td>\n",
       "      <td>1</td>\n",
       "      <td>1</td>\n",
       "      <td>LIMA</td>\n",
       "      <td>LIMA</td>\n",
       "      <td>San Juan De Luriganc</td>\n",
       "      <td>7994</td>\n",
       "      <td>2</td>\n",
       "      <td>52.0</td>\n",
       "      <td>1</td>\n",
       "      <td>100.0</td>\n",
       "      <td>Weds</td>\n",
       "      <td>1-Madrugada</td>\n",
       "    </tr>\n",
       "  </tbody>\n",
       "</table>\n",
       "</div>"
      ],
      "text/plain": [
       "      client_id                 date   año  mes  dia  hora  \\\n",
       "0  NNeQwQy9MAQ=  2016-07-15 22:23:25  2016    7   15    22   \n",
       "1  qFRoPHPOc/I=  2016-06-21 21:30:55  2016    6   21    21   \n",
       "2  qFRoPHPOc/I=  2017-02-01 01:29:59  2017    2    1     1   \n",
       "\n",
       "  merchant_departement merchant_province     merchant_district   mcc  mccg  \\\n",
       "0                 LIMA              LIMA  San Juan De Luriganc  7994     2   \n",
       "1                 LIMA              LIMA  San Juan De Luriganc  7994     2   \n",
       "2                 LIMA              LIMA  San Juan De Luriganc  7994     2   \n",
       "\n",
       "   client_age  quantity  amount_sol dia_semana        turno  \n",
       "0        33.0         1       100.0        Fri      4-Noche  \n",
       "1        52.0         1        20.0       Tues      4-Noche  \n",
       "2        52.0         1       100.0       Weds  1-Madrugada  "
      ]
     },
     "execution_count": 2,
     "metadata": {},
     "output_type": "execute_result"
    }
   ],
   "source": [
    "\n",
    "def leer_data():\n",
    "    outfile='./SOURCES/data.csv'\n",
    "    data = pd.read_csv(outfile)\n",
    "    return data\n",
    "\n",
    "data_original = leer_data()\n",
    "data_original.head(3)"
   ]
  },
  {
   "cell_type": "markdown",
   "metadata": {},
   "source": [
    "### Preparacion de datos"
   ]
  },
  {
   "cell_type": "code",
   "execution_count": 97,
   "metadata": {
    "scrolled": true
   },
   "outputs": [
    {
     "data": {
      "text/plain": [
       "<bound method NDFrame.head of           client_id                 date   año  mes  dia  hora  mccg  \\\n",
       "0      NNeQwQy9MAQ=  2016-07-15 22:23:25  2016    7   15    22     2   \n",
       "1      qFRoPHPOc/I=  2016-06-21 21:30:55  2016    6   21    21     2   \n",
       "2      qFRoPHPOc/I=  2017-02-01 01:29:59  2017    2    1     1     2   \n",
       "3      qFRoPHPOc/I=  2017-03-09 02:26:05  2017    3    9     2     2   \n",
       "4      he9pUcExpTY=  2016-10-01 06:45:48  2016   10    1     6     2   \n",
       "5      he9pUcExpTY=  2016-10-01 05:13:21  2016   10    1     5     2   \n",
       "6      he9pUcExpTY=  2016-10-16 08:14:18  2016   10   16     8     2   \n",
       "7      he9pUcExpTY=  2016-09-02 23:45:21  2016    9    2    23     2   \n",
       "8      he9pUcExpTY=  2016-10-01 06:01:49  2016   10    1     6     2   \n",
       "9      he9pUcExpTY=  2017-03-15 22:06:43  2017    3   15    22     2   \n",
       "10     he9pUcExpTY=  2016-10-16 08:03:33  2016   10   16     8     2   \n",
       "11     he9pUcExpTY=  2016-09-30 04:49:39  2016    9   30     4     2   \n",
       "12     qFRoPHPOc/I=  2016-12-17 01:52:32  2016   12   17     1     2   \n",
       "13     he9pUcExpTY=  2016-07-23 04:25:05  2016    7   23     4     2   \n",
       "14     he9pUcExpTY=  2017-03-15 22:23:11  2017    3   15    22     2   \n",
       "15     he9pUcExpTY=  2016-10-16 05:32:05  2016   10   16     5     2   \n",
       "16     he9pUcExpTY=  2017-03-15 21:37:32  2017    3   15    21     2   \n",
       "17     he9pUcExpTY=  2016-11-01 23:07:31  2016   11    1    23     2   \n",
       "18     he9pUcExpTY=  2016-09-02 00:03:36  2016    9    2     0     2   \n",
       "19     he9pUcExpTY=  2016-10-02 06:16:56  2016   10    2     6     2   \n",
       "20     he9pUcExpTY=  2016-10-01 06:32:51  2016   10    1     6     2   \n",
       "21     hduYj9e5Xac=  2016-06-18 22:12:04  2016    6   18    22     2   \n",
       "22     ZIwM5crU56Q=  2016-06-29 18:02:08  2016    6   29    18     2   \n",
       "23     ZIwM5crU56Q=  2016-07-03 16:13:04  2016    7    3    16     2   \n",
       "24     ZIwM5crU56Q=  2016-06-26 21:37:35  2016    6   26    21     2   \n",
       "25     he9pUcExpTY=  2016-09-02 01:28:56  2016    9    2     1     2   \n",
       "26     qLDDSEuhpcs=  2016-10-31 20:51:28  2016   10   31    20     2   \n",
       "27     qFRoPHPOc/I=  2017-01-04 01:56:20  2017    1    4     1     2   \n",
       "28     qFRoPHPOc/I=  2016-11-01 01:18:21  2016   11    1     1     2   \n",
       "29     vPMf6CKEF7k=  2016-07-04 19:23:27  2016    7    4    19     2   \n",
       "...             ...                  ...   ...  ...  ...   ...   ...   \n",
       "12536  TVb8BX/NTfM=  2017-01-07 14:46:41  2017    1    7    14     5   \n",
       "12537  hbYJc78hV4A=  2017-03-04 18:02:13  2017    3    4    18     5   \n",
       "12538  hbeglTTc028=  2016-07-07 13:32:03  2016    7    7    13     5   \n",
       "12539  hbeglTTc028=  2016-07-26 15:20:27  2016    7   26    15     5   \n",
       "12540  TUwrY6Ob0qc=  2016-12-20 14:28:48  2016   12   20    14     5   \n",
       "12541  TUwrY6Ob0qc=  2017-01-13 18:30:32  2017    1   13    18     5   \n",
       "12542  TUEZFvHN18U=  2016-10-21 22:22:51  2016   10   21    22     5   \n",
       "12543  TU3gqQ66tYg=  2016-12-02 14:37:12  2016   12    2    14     5   \n",
       "12544  +Z5C9WisPjg=  2016-12-01 21:36:17  2016   12    1    21     5   \n",
       "12545  +Z7o6tdlxzE=  2016-06-23 15:28:44  2016    6   23    15     5   \n",
       "12546  TTEetpwpInk=  2017-05-03 21:11:14  2017    5    3    21     5   \n",
       "12547  TM4Pz4anNxI=  2017-01-25 14:16:14  2017    1   25    14     5   \n",
       "12548  hsGNlcPSkZg=  2016-07-30 14:13:53  2016    7   30    14     5   \n",
       "12549  htOXW67l9kY=  2016-06-04 17:33:47  2016    6    4    17     5   \n",
       "12550  T0hqkBFYpi0=  2016-07-11 19:52:16  2016    7   11    19     5   \n",
       "12551  SUlCo9tbv64=  2017-02-04 15:16:00  2017    2    4    15     5   \n",
       "12552  SUlCo9tbv64=  2016-07-23 18:56:40  2016    7   23    18     5   \n",
       "12553  SUIXAaB8wxo=  2016-11-12 17:32:51  2016   11   12    17     5   \n",
       "12554  SUIXAaB8wxo=  2016-10-07 17:39:10  2016   10    7    17     5   \n",
       "12555  STqdCFjTfgA=  2017-03-29 17:36:44  2017    3   29    17     5   \n",
       "12556  STqdCFjTfgA=  2016-12-22 18:00:54  2016   12   22    18     5   \n",
       "12557  STqdCFjTfgA=  2017-03-28 22:38:05  2017    3   28    22     5   \n",
       "12558  i7urj76hbhM=  2017-02-01 21:45:27  2017    2    1    21     5   \n",
       "12559  i7urj76hbhM=  2017-03-14 15:58:40  2017    3   14    15     5   \n",
       "12560  STetIj9F3y8=  2017-05-30 20:07:13  2017    5   30    20     5   \n",
       "12561  i7ysH8S89t0=  2016-11-11 16:35:02  2016   11   11    16     5   \n",
       "12562  SW/lSBVLWnM=  2016-12-30 20:43:20  2016   12   30    20     5   \n",
       "12563  i89Kgh31LGM=  2016-10-17 17:15:51  2016   10   17    17     5   \n",
       "12564  i8JnaIQmQr0=  2016-06-15 17:27:43  2016    6   15    17     5   \n",
       "12565  ST6SO3sprXk=  2016-10-11 16:28:57  2016   10   11    16     5   \n",
       "\n",
       "       quantity  amount_sol  \n",
       "0             1       100.0  \n",
       "1             1        20.0  \n",
       "2             1       100.0  \n",
       "3             1        50.0  \n",
       "4             1       100.0  \n",
       "5             1        50.0  \n",
       "6             1        50.0  \n",
       "7             1        50.0  \n",
       "8             1       100.0  \n",
       "9             1        50.0  \n",
       "10            1        50.0  \n",
       "11            1        50.0  \n",
       "12            1        50.0  \n",
       "13            1        10.0  \n",
       "14            1        50.0  \n",
       "15            1       100.0  \n",
       "16            1       100.0  \n",
       "17            1        10.0  \n",
       "18            1        50.0  \n",
       "19            1        50.0  \n",
       "20            1       100.0  \n",
       "21            1         3.0  \n",
       "22            1        10.0  \n",
       "23            1        10.0  \n",
       "24            1        10.0  \n",
       "25            1       100.0  \n",
       "26            1        10.0  \n",
       "27            1        20.0  \n",
       "28            1        50.0  \n",
       "29            1        70.0  \n",
       "...         ...         ...  \n",
       "12536         1       265.0  \n",
       "12537         1       370.0  \n",
       "12538         1       268.0  \n",
       "12539         1       288.0  \n",
       "12540         1       435.0  \n",
       "12541         1       295.0  \n",
       "12542         1        47.0  \n",
       "12543         1        53.0  \n",
       "12544         1        13.0  \n",
       "12545         1       376.0  \n",
       "12546         1       275.0  \n",
       "12547         1        64.0  \n",
       "12548         1       103.0  \n",
       "12549         1       100.0  \n",
       "12550         1       200.0  \n",
       "12551         1       241.0  \n",
       "12552         1       241.0  \n",
       "12553         1        35.0  \n",
       "12554         1        57.0  \n",
       "12555         1       111.0  \n",
       "12556         1       247.0  \n",
       "12557         1        20.0  \n",
       "12558         1        39.0  \n",
       "12559         1       110.0  \n",
       "12560         1       319.0  \n",
       "12561         1       500.0  \n",
       "12562         1       157.0  \n",
       "12563         1       290.0  \n",
       "12564         1       142.0  \n",
       "12565         1        73.0  \n",
       "\n",
       "[12566 rows x 9 columns]>"
      ]
     },
     "execution_count": 97,
     "metadata": {},
     "output_type": "execute_result"
    }
   ],
   "source": [
    "data = data_original[['client_id','date','año','mes','dia','hora','mccg','quantity','amount_sol']]\n",
    "data.head"
   ]
  },
  {
   "cell_type": "markdown",
   "metadata": {},
   "source": [
    "## Definicion de variables"
   ]
  },
  {
   "cell_type": "code",
   "execution_count": 105,
   "metadata": {},
   "outputs": [
    {
     "data": {
      "text/plain": [
       "(0    2\n",
       " 1    3\n",
       " 2    4\n",
       " 3    5\n",
       " Name: mccg, dtype: int64, 5, 4)"
      ]
     },
     "execution_count": 105,
     "metadata": {},
     "output_type": "execute_result"
    }
   ],
   "source": [
    "mccgs = ((data.groupby(['mccg'], as_index=False, sort=True)).count())['mccg']\n",
    "mccgs,mccgs[3],len(mccgs)"
   ]
  },
  {
   "cell_type": "markdown",
   "metadata": {},
   "source": [
    "### Clientes"
   ]
  },
  {
   "cell_type": "code",
   "execution_count": 68,
   "metadata": {},
   "outputs": [
    {
     "data": {
      "text/plain": [
       "Index(['+9yJoBsAES4=', '+EUZmfQX5bA=', '+Ilmh+mr2WM=', '+JHjmW4a+e0=',\n",
       "       '+JcXo4zlmNQ=', '+LuVUb5tUBg=', '+MD+jHUjjBs=', '+P5K869BYbE=',\n",
       "       '+PAlAt5GZNg=', '+PJntcDJ/w0=',\n",
       "       ...\n",
       "       'zid9Qi0vD84=', 'ziqVTfxwWbk=', 'zj8o+tt7ags=', 'zjiFEuZAut0=',\n",
       "       'zjrVzB1sNaw=', 'zk41R+DpP70=', 'zlQla+ah6U0=', 'zliw6zi3X+s=',\n",
       "       'zs3qMAU6HN8=', 'zs9yIYFt4EI='],\n",
       "      dtype='object', name='client_id', length=6521)"
      ]
     },
     "execution_count": 68,
     "metadata": {},
     "output_type": "execute_result"
    }
   ],
   "source": [
    "clientes =  data.groupby('client_id').client_id.count().index\n",
    "clientes"
   ]
  },
  {
   "cell_type": "markdown",
   "metadata": {},
   "source": [
    "# FOOTPRINT PARA CADA MCCG"
   ]
  },
  {
   "cell_type": "markdown",
   "metadata": {},
   "source": [
    "## Unidad de TXs temporales (U)"
   ]
  },
  {
   "cell_type": "raw",
   "metadata": {},
   "source": [
    "Resume un conjunto de TXs en un perido de \"d\" dias\n",
    "\n",
    "Dado:\n",
    "    t = time-window = 4 = [mañana, tarde, noche, madrugada]\n",
    "    d = day = 7 dias \n",
    "    tau = cada semana\n",
    "    \n",
    "Para cada cliente:\n",
    "    S = {s1, ..., sn}\n",
    "    \n",
    "    obtenemos: SS = {U(1), U(2), U(3), ...,U(m)}     obviamente m <=n"
   ]
  },
  {
   "cell_type": "markdown",
   "metadata": {},
   "source": [
    "### Funciones"
   ]
  },
  {
   "cell_type": "code",
   "execution_count": 62,
   "metadata": {},
   "outputs": [],
   "source": [
    "# definimos los 4 time_windows que usaremos\n",
    "\n",
    "def time_window(hora):\n",
    "    tw = 9999\n",
    "    if hora >=0:\n",
    "        tw = 0      # Madrugada\n",
    "    if hora >=6:\n",
    "        tw = 1      # Mañana\n",
    "    if hora >=12:\n",
    "        tw = 2      # Tarde\n",
    "    if hora >=18:\n",
    "        tw = 3      # Noche\n",
    "    return tw"
   ]
  },
  {
   "cell_type": "code",
   "execution_count": 100,
   "metadata": {},
   "outputs": [],
   "source": [
    "# Definimos los U \n",
    "\n",
    "def procesar_u(user):    \n",
    "    uid=list(user['client_id'])[0]\n",
    "    # Lista los años en que tiene txs el usuario\n",
    "    years = set(list(user['año']))\n",
    "    anni = {year:{} for year in list(years)}\n",
    "    \n",
    "    # para cada fila (para cada fecha)\n",
    "    for dat in  range(0,len(user)):\n",
    "        año = user.iloc[dat]['año']\n",
    "        week=datetime.datetime(año,user.iloc[dat]['mes'],user.iloc[dat]['dia']).isocalendar()[1]\n",
    "        weekday=datetime.datetime(año,user.iloc[dat]['mes'],user.iloc[dat]['dia']).weekday()\n",
    "        turn = time_window(user.iloc[dat]['hora'])\n",
    "        mccg = user.iloc[dat]['mccg']\n",
    "        \n",
    "        # Si la semana no existe en el año\n",
    "        if not(week in anni[año]):\n",
    "            anni[año][week] = {}\n",
    "        # Si el mccg no existe en la semana y año\n",
    "        if not (mccg in anni[año][week]):\n",
    "            anni[año][week][mccg]={}  #NUMERO DE MCCGs VARIABLES\n",
    "        # Si el turno no existe en el mccg,semana y año\n",
    "        if not (turn in anni[año][week][mccg]):\n",
    "            anni[año][week][mccg][turn]=np.array([0]*7)  #CUATRO TURNOS\n",
    "            \n",
    "        anni[año][week][mccg][turn][weekday]+=user.iloc[dat]['quantity'] # suma cantidades \"importancia por compras\"\n",
    "        #anni[año][week][turn][weekday]+=user.iloc[dat]['amount_sol'] # suma montos \"importancia por gastos\"\n",
    "            \n",
    "    return uid,anni"
   ]
  },
  {
   "cell_type": "markdown",
   "metadata": {},
   "source": [
    "### Procesando U de cada MCCG"
   ]
  },
  {
   "cell_type": "code",
   "execution_count": 135,
   "metadata": {},
   "outputs": [
    {
     "name": "stdout",
     "output_type": "stream",
     "text": [
      "Number of rows 12566\n"
     ]
    }
   ],
   "source": [
    "\n",
    "file='./RESULTS/U'\n",
    "    \n",
    "##################################################\n",
    "#        Procesando U de cada CLIENTE\n",
    "##################################################\n",
    "    \n",
    "# Extraemos la lista de clientes sin repetir\n",
    "\n",
    "profiles={}\n",
    "#contador=0 \n",
    "print(\"Number of rows \"+str(len(data)))\n",
    "# Para cada cliente\n",
    "for cliente in clientes:\n",
    "    cliente_i= data[data['client_id'] == cliente]\n",
    "    ## ejecutamos para cada usuario\n",
    "    results=procesar_u(cliente_i)\n",
    "    profiles[results[0]]=results[1]\n",
    "    #contador += 1\n",
    "    #print(contador)\n"
   ]
  },
  {
   "cell_type": "code",
   "execution_count": 136,
   "metadata": {},
   "outputs": [
    {
     "data": {
      "text/plain": [
       "'customer_id,year,week,profile_id,turn,size,m2t0d0,m2t0d1,m2t0d2,m2t0d3,m2t0d4,m2t0d5,m2t0d6,m2t1d0,m2t1d1,m2t1d2,m2t1d3,m2t1d4,m2t1d5,m2t1d6,m2t2d0,m2t2d1,m2t2d2,m2t2d3,m2t2d4,m2t2d5,m2t2d6,m2t3d0,m2t3d1,m2t3d2,m2t3d3,m2t3d4,m2t3d5,m2t3d6,m3t0d0,m3t0d1,m3t0d2,m3t0d3,m3t0d4,m3t0d5,m3t0d6,m3t1d0,m3t1d1,m3t1d2,m3t1d3,m3t1d4,m3t1d5,m3t1d6,m3t2d0,m3t2d1,m3t2d2,m3t2d3,m3t2d4,m3t2d5,m3t2d6,m3t3d0,m3t3d1,m3t3d2,m3t3d3,m3t3d4,m3t3d5,m3t3d6,m4t0d0,m4t0d1,m4t0d2,m4t0d3,m4t0d4,m4t0d5,m4t0d6,m4t1d0,m4t1d1,m4t1d2,m4t1d3,m4t1d4,m4t1d5,m4t1d6,m4t2d0,m4t2d1,m4t2d2,m4t2d3,m4t2d4,m4t2d5,m4t2d6,m4t3d0,m4t3d1,m4t3d2,m4t3d3,m4t3d4,m4t3d5,m4t3d6,m5t0d0,m5t0d1,m5t0d2,m5t0d3,m5t0d4,m5t0d5,m5t0d6,m5t1d0,m5t1d1,m5t1d2,m5t1d3,m5t1d4,m5t1d5,m5t1d6,m5t2d0,m5t2d1,m5t2d2,m5t2d3,m5t2d4,m5t2d5,m5t2d6,m5t3d0,m5t3d1,m5t3d2,m5t3d3,m5t3d4,m5t3d5,m5t3d6\\n'"
      ]
     },
     "execution_count": 136,
     "metadata": {},
     "output_type": "execute_result"
    }
   ],
   "source": [
    "title = 'customer_id,year,week,profile_id,turn,size'\n",
    "for i in range(len(mccgs)):\n",
    "    for j in range(4):            # numero de turnos\n",
    "        for k in range(7):            # numero de dias\n",
    "            title = title+','+'m'+str(mccgs[i])+'t'+str(j)+'d'+str(k)\n",
    "\n",
    "title = title+'\\n'\n",
    "title"
   ]
  },
  {
   "cell_type": "code",
   "execution_count": 137,
   "metadata": {},
   "outputs": [],
   "source": [
    "individual_footprint=\"%s.individual_footprint\" %(file)\n",
    "fw=open(individual_footprint,'w')\n",
    "\n",
    "fw.write(title)\n",
    "footprints=0"
   ]
  },
  {
   "cell_type": "code",
   "execution_count": 139,
   "metadata": {},
   "outputs": [
    {
     "name": "stdout",
     "output_type": "stream",
     "text": [
      "number of footprint: 10412\n"
     ]
    }
   ],
   "source": [
    "  \n",
    "\n",
    "for uid in profiles:\n",
    "    profile_id=0\n",
    "    for year in profiles[uid]:\n",
    "        for week in profiles[uid][year]:\n",
    "            temp=np.zeros(4*7*len(mccgs))\n",
    "            for mccg in profiles[uid][year][week]:\n",
    "                for turn in profiles[uid][year][week][mccg]:\n",
    "                    d=profiles[uid][year][week][mccg][turn]\n",
    "                    if(turn == 0):\n",
    "                        for i in range(0,7):\n",
    "                            temp[i] += d[i]\n",
    "                    if(turn == 1):\n",
    "                        for i in range(7,14):\n",
    "                            temp[i] += d[i-7]\n",
    "                    if(turn == 2):\n",
    "                        for i in range(14,21):\n",
    "                            temp[i] += d[i-14]\n",
    "                    if(turn == 3):\n",
    "                        for i in range(21,28):\n",
    "                            temp[i] += d[i-21]\n",
    "\n",
    "\n",
    "                fw.write(''+str(uid)+','+str(year)+','+str(week)+','+str(profile_id)+','+str(turn)+','+str(sum(temp))+','\n",
    "                             +str(temp[0])+','+str(temp[1])+','+str(temp[2])+','+str(temp[3])+','+str(temp[4])+','+str(temp[5])+','+str(temp[6])+','\n",
    "                             +str(temp[7])+','+str(temp[8])+','+str(temp[9])+','+str(temp[10])+','+str(temp[11])+','+str(temp[12])+','+str(temp[13])+','\n",
    "                             +str(temp[14])+','+str(temp[15])+','+str(temp[16])+','+str(temp[17])+','+str(temp[18])+','+str(temp[19])+','+str(temp[20])+','\n",
    "                             +str(temp[21])+','+str(temp[22])+','+str(temp[23])+','+str(temp[24])+','+str(temp[25])+','+str(temp[26])+','+str(temp[27])\n",
    "                             +'\\n')\n",
    "\n",
    "            profile_id = profile_id + 1\n",
    "    footprints+=profile_id\n",
    "    fw.flush()\n",
    "fw.close()\n",
    "print (\"number of footprint: \"+str(footprints))"
   ]
  },
  {
   "cell_type": "markdown",
   "metadata": {},
   "source": [
    "## Funciones de Apoyo (clusters)"
   ]
  },
  {
   "cell_type": "code",
   "execution_count": null,
   "metadata": {},
   "outputs": [],
   "source": [
    "def process_footprint(data,tests,log=False):\n",
    "    from sklearn.cluster import MiniBatchKMeans\n",
    "    #KMeans(init='k-means++', n_clusters=k, n_init=10)\n",
    "    import datetime\n",
    "    K={}\n",
    "    for k in tests:\n",
    "        if k<=len(data):\n",
    "            if log:\n",
    "                print(\"%s: processing %s\"%(datetime.datetime.now(),k))\n",
    "            K[k]=bench_k_means(MiniBatchKMeans(init='k-means++', n_clusters=k, batch_size=100,\n",
    "                      n_init=10, max_no_improvement=10, verbose=0,\n",
    "                      random_state=0),name=\"k-means++\", data=data)\n",
    "    return K"
   ]
  },
  {
   "cell_type": "code",
   "execution_count": null,
   "metadata": {},
   "outputs": [],
   "source": [
    "def compute_best_k(x,y,occurrencies, plot=False,points=1000,sf=0.9):\n",
    "    import numpy as np\n",
    "    \n",
    "    if len(x)<5:\n",
    "        b_k = max(1, round(np.sqrt(occurrencies/2)))\n",
    "        if plot:\n",
    "            import pylab\n",
    "            pylab.plot(x,y)\n",
    "            pylab.scatter(x[b_k],y[b_k],s=20, marker='o')\n",
    "            pylab.text(x[b_k],y[b_k],\"bestK %s\" %(b_k))\n",
    "            return b_k,pylab\n",
    "\n",
    "        return b_k\n",
    "    \n",
    "    from scipy.interpolate import interp1d\n",
    "    from scipy.interpolate import UnivariateSpline\n",
    "    spl = UnivariateSpline(x, y)\n",
    "    spl.set_smoothing_factor(sf)\n",
    "    xs = np.linspace(min(x), max(x), points)\n",
    "    ys = spl(xs)\n",
    "    idx_better_k=get_change_point(xs, ys)\n",
    "    if plot:\n",
    "        import pylab\n",
    "        pylab.plot(xs,ys)\n",
    "        \n",
    "        pylab.scatter(xs[idx_better_k],ys[idx_better_k],s=20, marker='o')\n",
    "        pylab.text(xs[idx_better_k],ys[idx_better_k],\"bestK %s\" %(np.round(xs[idx_better_k])))\n",
    "        return int(np.round(xs[idx_better_k])),pylab\n",
    "    return int(np.round(xs[idx_better_k]))"
   ]
  },
  {
   "cell_type": "code",
   "execution_count": null,
   "metadata": {},
   "outputs": [],
   "source": [
    "def bench_k_means(estimator, name, data,distance_function=None):\n",
    "    from sklearn import metrics\n",
    "    from sklearn.metrics import silhouette_samples, silhouette_score\n",
    "    import time\n",
    "    t0 = time.time()\n",
    "    if distance_function:\n",
    "        estimator.fit(data,distance_function)\n",
    "    else:\n",
    "        estimator.fit(data)\n",
    "    #cluster_labels = estimator.fit_predict(data)\n",
    "    #silhouette_score_ = silhouette_score(data, cluster_labels)\n",
    "    \n",
    "    inertia=estimator.inertia_\n",
    "    duration=time.time() - t0\n",
    "    return {'inertia':inertia,'duration':duration, 'estimator':estimator}#,'silhouette':silhouette_score_}\n",
    "\n",
    "def get_change_point(x, y):\n",
    "    \"\"\"\n",
    "         Elección del mejor K\n",
    "         :: param x: lista de valores de K\n",
    "         :: param y: lista de valores de SSE\n",
    "    \"\"\"\n",
    "    import math\n",
    "    max_d = -float('infinity')\n",
    "    index = 0\n",
    "\n",
    "    for i in range(0, len(x)):\n",
    "        c = closest_point_on_segment(a=[x[0], y[0]], b=[x[len(x)-1], y[len(y)-1]], p=[x[i], y[i]])\n",
    "        d = math.sqrt((c[0]-x[i])**2 + (c[1]-y[i])**2)\n",
    "        if d > max_d:\n",
    "            max_d = d\n",
    "            index = i\n",
    "    \n",
    "    return index\n",
    "\n",
    "def closest_point_on_segment(a, b, p):\n",
    "    sx1 = a[0]\n",
    "    sx2 = b[0]\n",
    "    sy1 = a[1]\n",
    "    sy2 = b[1]\n",
    "    px = p[0]\n",
    "    py = p[1]\n",
    "\n",
    "    x_delta = sx2 - sx1\n",
    "    y_delta = sy2 - sy1\n",
    "\n",
    "    if x_delta == 0 and y_delta == 0:\n",
    "        return p\n",
    "\n",
    "    u = ((px - sx1) * x_delta + (py - sy1) * y_delta) / (x_delta * x_delta + y_delta *  y_delta)\n",
    "    if u < 0:\n",
    "        closest_point = a\n",
    "    elif u > 1:\n",
    "        closest_point = b\n",
    "    else:\n",
    "        cp_x = sx1 + u * x_delta\n",
    "        cp_y = sy1 + u * y_delta\n",
    "        closest_point = [cp_x, cp_y]\n",
    "\n",
    "    return closest_point\n",
    "\t"
   ]
  }
 ],
 "metadata": {
  "kernelspec": {
   "display_name": "Python 3",
   "language": "python",
   "name": "python3"
  },
  "language_info": {
   "codemirror_mode": {
    "name": "ipython",
    "version": 3
   },
   "file_extension": ".py",
   "mimetype": "text/x-python",
   "name": "python",
   "nbconvert_exporter": "python",
   "pygments_lexer": "ipython3",
   "version": "3.6.5"
  },
  "toc": {
   "base_numbering": 1,
   "nav_menu": {},
   "number_sections": false,
   "sideBar": true,
   "skip_h1_title": false,
   "title_cell": "Table of Contents",
   "title_sidebar": "Contents",
   "toc_cell": false,
   "toc_position": {
    "height": "calc(100% - 180px)",
    "left": "10px",
    "top": "150px",
    "width": "280px"
   },
   "toc_section_display": true,
   "toc_window_display": true
  }
 },
 "nbformat": 4,
 "nbformat_minor": 2
}
