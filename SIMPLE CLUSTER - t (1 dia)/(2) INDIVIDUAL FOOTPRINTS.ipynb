{
 "cells": [
  {
   "cell_type": "markdown",
   "metadata": {},
   "source": [
    "# INDIVIDUAL FOOTPRINTS"
   ]
  },
  {
   "cell_type": "code",
   "execution_count": 1,
   "metadata": {},
   "outputs": [],
   "source": [
    "import numpy as np\n",
    "import datetime\n",
    "import json\n",
    "import pylab\n",
    "import pandas as pd\n",
    "import matplotlib.pyplot as plt"
   ]
  },
  {
   "cell_type": "markdown",
   "metadata": {},
   "source": [
    "## Preparacion de datos"
   ]
  },
  {
   "cell_type": "raw",
   "metadata": {},
   "source": [
    "Dado:\n",
    "\n",
    "    Sesion de TX\n",
    "        s = {cliente, timestamp, Monto}\n",
    "    \n",
    "    Cada cliente tiene una secuencia de sesiones de TX (S)\n",
    "        S = { s1, s2 , s3, ..., sn}          n: # de sesiones de cada cliente\n",
    "        \n",
    "        \n",
    "    "
   ]
  },
  {
   "cell_type": "markdown",
   "metadata": {},
   "source": [
    "### Cargando datos"
   ]
  },
  {
   "cell_type": "code",
   "execution_count": 2,
   "metadata": {},
   "outputs": [
    {
     "data": {
      "text/html": [
       "<div>\n",
       "<style scoped>\n",
       "    .dataframe tbody tr th:only-of-type {\n",
       "        vertical-align: middle;\n",
       "    }\n",
       "\n",
       "    .dataframe tbody tr th {\n",
       "        vertical-align: top;\n",
       "    }\n",
       "\n",
       "    .dataframe thead th {\n",
       "        text-align: right;\n",
       "    }\n",
       "</style>\n",
       "<table border=\"1\" class=\"dataframe\">\n",
       "  <thead>\n",
       "    <tr style=\"text-align: right;\">\n",
       "      <th></th>\n",
       "      <th>client_id</th>\n",
       "      <th>date</th>\n",
       "      <th>año</th>\n",
       "      <th>mes</th>\n",
       "      <th>dia</th>\n",
       "      <th>hora</th>\n",
       "      <th>merchant_departement</th>\n",
       "      <th>merchant_province</th>\n",
       "      <th>merchant_district</th>\n",
       "      <th>mcc</th>\n",
       "      <th>mccg</th>\n",
       "      <th>client_age</th>\n",
       "      <th>quantity</th>\n",
       "      <th>amount_sol</th>\n",
       "    </tr>\n",
       "  </thead>\n",
       "  <tbody>\n",
       "    <tr>\n",
       "      <th>0</th>\n",
       "      <td>+++g8j9k+5A=</td>\n",
       "      <td>2016-07-07 01:08:05</td>\n",
       "      <td>2016</td>\n",
       "      <td>7</td>\n",
       "      <td>7</td>\n",
       "      <td>1</td>\n",
       "      <td>LIMA</td>\n",
       "      <td>LIMA</td>\n",
       "      <td>San Juan De Luriganc</td>\n",
       "      <td>5655</td>\n",
       "      <td>8</td>\n",
       "      <td>32.0</td>\n",
       "      <td>1</td>\n",
       "      <td>45.0</td>\n",
       "    </tr>\n",
       "    <tr>\n",
       "      <th>1</th>\n",
       "      <td>++/oQ9Lb9dI=</td>\n",
       "      <td>2017-05-29 21:05:40</td>\n",
       "      <td>2017</td>\n",
       "      <td>5</td>\n",
       "      <td>29</td>\n",
       "      <td>21</td>\n",
       "      <td>LIMA</td>\n",
       "      <td>LIMA</td>\n",
       "      <td>San Juan De Luriganc</td>\n",
       "      <td>4812</td>\n",
       "      <td>25</td>\n",
       "      <td>49.0</td>\n",
       "      <td>1</td>\n",
       "      <td>104.0</td>\n",
       "    </tr>\n",
       "    <tr>\n",
       "      <th>2</th>\n",
       "      <td>++14g8obpj0=</td>\n",
       "      <td>2016-09-08 21:15:55</td>\n",
       "      <td>2016</td>\n",
       "      <td>9</td>\n",
       "      <td>8</td>\n",
       "      <td>21</td>\n",
       "      <td>LIMA</td>\n",
       "      <td>LIMA</td>\n",
       "      <td>San Juan De Luriganc</td>\n",
       "      <td>5912</td>\n",
       "      <td>15</td>\n",
       "      <td>NaN</td>\n",
       "      <td>1</td>\n",
       "      <td>9.0</td>\n",
       "    </tr>\n",
       "  </tbody>\n",
       "</table>\n",
       "</div>"
      ],
      "text/plain": [
       "      client_id                 date   año  mes  dia  hora  \\\n",
       "0  +++g8j9k+5A=  2016-07-07 01:08:05  2016    7    7     1   \n",
       "1  ++/oQ9Lb9dI=  2017-05-29 21:05:40  2017    5   29    21   \n",
       "2  ++14g8obpj0=  2016-09-08 21:15:55  2016    9    8    21   \n",
       "\n",
       "  merchant_departement merchant_province     merchant_district   mcc  mccg  \\\n",
       "0                 LIMA              LIMA  San Juan De Luriganc  5655     8   \n",
       "1                 LIMA              LIMA  San Juan De Luriganc  4812    25   \n",
       "2                 LIMA              LIMA  San Juan De Luriganc  5912    15   \n",
       "\n",
       "   client_age  quantity  amount_sol  \n",
       "0        32.0         1        45.0  \n",
       "1        49.0         1       104.0  \n",
       "2         NaN         1         9.0  "
      ]
     },
     "execution_count": 2,
     "metadata": {},
     "output_type": "execute_result"
    }
   ],
   "source": [
    "\n",
    "def leer_data():\n",
    "    outfile='./data/consulta.csv'\n",
    "    data = pd.read_csv(outfile)\n",
    "    return data\n",
    "\n",
    "data_original = leer_data()\n",
    "data_original.head(3)"
   ]
  },
  {
   "cell_type": "markdown",
   "metadata": {},
   "source": [
    "### Preparacion de datos"
   ]
  },
  {
   "cell_type": "code",
   "execution_count": 3,
   "metadata": {},
   "outputs": [
    {
     "data": {
      "text/html": [
       "<div>\n",
       "<style scoped>\n",
       "    .dataframe tbody tr th:only-of-type {\n",
       "        vertical-align: middle;\n",
       "    }\n",
       "\n",
       "    .dataframe tbody tr th {\n",
       "        vertical-align: top;\n",
       "    }\n",
       "\n",
       "    .dataframe thead th {\n",
       "        text-align: right;\n",
       "    }\n",
       "</style>\n",
       "<table border=\"1\" class=\"dataframe\">\n",
       "  <thead>\n",
       "    <tr style=\"text-align: right;\">\n",
       "      <th></th>\n",
       "      <th>client_id</th>\n",
       "      <th>date</th>\n",
       "      <th>año</th>\n",
       "      <th>mes</th>\n",
       "      <th>dia</th>\n",
       "      <th>hora</th>\n",
       "      <th>quantity</th>\n",
       "      <th>amount_sol</th>\n",
       "    </tr>\n",
       "  </thead>\n",
       "  <tbody>\n",
       "    <tr>\n",
       "      <th>0</th>\n",
       "      <td>+++g8j9k+5A=</td>\n",
       "      <td>2016-07-07 01:08:05</td>\n",
       "      <td>2016</td>\n",
       "      <td>7</td>\n",
       "      <td>7</td>\n",
       "      <td>1</td>\n",
       "      <td>1</td>\n",
       "      <td>45.0</td>\n",
       "    </tr>\n",
       "    <tr>\n",
       "      <th>1</th>\n",
       "      <td>++/oQ9Lb9dI=</td>\n",
       "      <td>2017-05-29 21:05:40</td>\n",
       "      <td>2017</td>\n",
       "      <td>5</td>\n",
       "      <td>29</td>\n",
       "      <td>21</td>\n",
       "      <td>1</td>\n",
       "      <td>104.0</td>\n",
       "    </tr>\n",
       "    <tr>\n",
       "      <th>2</th>\n",
       "      <td>++14g8obpj0=</td>\n",
       "      <td>2016-09-08 21:15:55</td>\n",
       "      <td>2016</td>\n",
       "      <td>9</td>\n",
       "      <td>8</td>\n",
       "      <td>21</td>\n",
       "      <td>1</td>\n",
       "      <td>9.0</td>\n",
       "    </tr>\n",
       "  </tbody>\n",
       "</table>\n",
       "</div>"
      ],
      "text/plain": [
       "      client_id                 date   año  mes  dia  hora  quantity  \\\n",
       "0  +++g8j9k+5A=  2016-07-07 01:08:05  2016    7    7     1         1   \n",
       "1  ++/oQ9Lb9dI=  2017-05-29 21:05:40  2017    5   29    21         1   \n",
       "2  ++14g8obpj0=  2016-09-08 21:15:55  2016    9    8    21         1   \n",
       "\n",
       "   amount_sol  \n",
       "0        45.0  \n",
       "1       104.0  \n",
       "2         9.0  "
      ]
     },
     "execution_count": 3,
     "metadata": {},
     "output_type": "execute_result"
    }
   ],
   "source": [
    "data = data_original[['client_id','date','año','mes','dia','hora','quantity','amount_sol']]\n",
    "data.head(3)   "
   ]
  },
  {
   "cell_type": "markdown",
   "metadata": {},
   "source": [
    "## Unidad de TXs temporales (U)"
   ]
  },
  {
   "cell_type": "raw",
   "metadata": {},
   "source": [
    "Resume un conjunto de TXs en un perido de \"d\" dias\n",
    "\n",
    "Dado:\n",
    "    t = time-window = 4 = [mañana, tarde, noche, madrugada]\n",
    "    d = day = 7 dias \n",
    "    tau = cada semana\n",
    "    \n",
    "Para cada cliente:\n",
    "    S = {s1, ..., sn}\n",
    "    \n",
    "    obtenemos: SS = {U(1), U(2), U(3), ...,U(m)}     obviamente m <=n"
   ]
  },
  {
   "cell_type": "code",
   "execution_count": 4,
   "metadata": {},
   "outputs": [],
   "source": [
    "\n",
    "file='U'\n",
    "raw_data='./data/%s.json' %(file)\n",
    "\n"
   ]
  },
  {
   "cell_type": "markdown",
   "metadata": {},
   "source": [
    "### Funciones"
   ]
  },
  {
   "cell_type": "code",
   "execution_count": 5,
   "metadata": {},
   "outputs": [],
   "source": [
    "# definimos los 4 time_windows que usaremos\n",
    "\n",
    "def time_window(hora):\n",
    "    tw = 9999\n",
    "    if hora >=0:\n",
    "        tw = 0      # Madrugada\n",
    "    if hora >=6:\n",
    "        tw = 1      # Mañana\n",
    "    if hora >=12:\n",
    "        tw = 2      # Tarde\n",
    "    if hora >=18:\n",
    "        tw = 3      # Noche\n",
    "    return tw"
   ]
  },
  {
   "cell_type": "code",
   "execution_count": 6,
   "metadata": {},
   "outputs": [],
   "source": [
    "# Definimos los U \n",
    "\n",
    "def procesar_u(user):    \n",
    "    uid=list(user['client_id'])[0]\n",
    "    \n",
    "    # Lista los años en que tiene txs el usuario\n",
    "    years = set(list(user['año']))\n",
    "    anni = {year:{} for year in list(years)}\n",
    "    \n",
    "    # para cada fila (para cada fecha)\n",
    "    for dat in  range(0,len(user)):\n",
    "        año = user.iloc[dat]['año']\n",
    "        week=datetime.datetime(año,user.iloc[dat]['mes'],user.iloc[dat]['dia']).isocalendar()[1]\n",
    "        weekday=datetime.datetime(año,user.iloc[dat]['mes'],user.iloc[dat]['dia']).weekday()\n",
    "        \n",
    "        # Si la semana no existe en el año\n",
    "        if not(week in anni[año]):\n",
    "            anni[año][week]=np.array([0]*7)\n",
    "            \n",
    "        anni[año][week][weekday]+=user.iloc[dat]['quantity'] # suma cantidades \"importancia por compras\"\n",
    "        #anni[año][week][turn][weekday]+=user.iloc[dat]['amount_sol'] # suma montos \"importancia por gastos\"\n",
    "            \n",
    "    return uid,anni"
   ]
  },
  {
   "cell_type": "markdown",
   "metadata": {},
   "source": [
    "### Procesando U de cada cliente"
   ]
  },
  {
   "cell_type": "code",
   "execution_count": null,
   "metadata": {},
   "outputs": [
    {
     "name": "stdout",
     "output_type": "stream",
     "text": [
      " Index(['+++g8j9k+5A=', '++/oQ9Lb9dI=', '++14g8obpj0=', '++1XMtcwMec=',\n",
      "       '++3gxZFOJCM=', '++438ugzEhg=', '++5u+heOZ8o=', '++70ByX0a3Q=',\n",
      "       '++7i5fi6kBU=', '++834mPfd7g=',\n",
      "       ...\n",
      "       'zzvndpR1ntg=', 'zzvt24FsKYk=', 'zzw6JFGkUrQ=', 'zzwY0tP4zKM=',\n",
      "       'zzxOoziChuk=', 'zzxTJkA/ah0=', 'zzxjK1vzG4E=', 'zzy5LVrTPmc=',\n",
      "       'zzyhW1+NTLM=', 'zzzBu/yw4wE='],\n",
      "      dtype='object', name='client_id', length=227663)  clientes\n",
      "0\n",
      "5000\n",
      "10000\n",
      "15000\n",
      "20000\n",
      "25000\n",
      "30000\n",
      "35000\n",
      "40000\n",
      "45000\n",
      "50000\n",
      "55000\n",
      "60000\n",
      "65000\n",
      "70000\n",
      "75000\n",
      "80000\n",
      "85000\n",
      "90000\n",
      "95000\n"
     ]
    }
   ],
   "source": [
    "# Extraemos la lista de clientes sin repetir\n",
    "clientes =  data.groupby('client_id').client_id.count().index\n",
    "print(\"\",clientes,\" clientes\")\n",
    "profiles={}\n",
    "# Para cada cliente\n",
    "i = 0\n",
    "for cliente in clientes:\n",
    "    cliente_i= data[data['client_id'] == cliente]\n",
    "    ## ejecutamos para cada usuario\n",
    "    results=procesar_u(cliente_i)\n",
    "    profiles[results[0]]=results[1]\n",
    "    if(i%5000==0):\n",
    "        print(i)\n",
    "    i+= 1"
   ]
  },
  {
   "cell_type": "code",
   "execution_count": null,
   "metadata": {},
   "outputs": [],
   "source": [
    "individual_footprint=\"%s.individual_footprint\" %(raw_data)\n",
    "\n",
    "#exporting individual footprint   <customer_id;year;week;profile_id;turn;size;t1... tn >\n",
    "fw=open(individual_footprint,'w')\n",
    "fw.write('customer_id,year,week,profile_id,size,d0,d1,d2,d3,d4,d5,d6\\n')\n",
    "footprints=0\n",
    "for uid in profiles:\n",
    "    profile_id=0\n",
    "    for year in profiles[uid]:\n",
    "        for week in profiles[uid][year]:\n",
    "            d=profiles[uid][year][week]\n",
    "            fw.write(''+str(uid)+','+str(year)+','+str(week)+','+str(profile_id)+','\n",
    "                       +str(sum(d))+','+str(d[0])+','+str(d[1])+','+str(d[2])+','+str(d[3])\n",
    "                       +','+str(d[4])+','+str(d[5])+','+str(d[6])+'\\n')\n",
    "\n",
    "            profile_id = profile_id + 1\n",
    "    footprints+=profile_id\n",
    "    fw.flush()\n",
    "fw.close()\n",
    "print (\"number of footprint: \"+str(footprints))"
   ]
  },
  {
   "cell_type": "code",
   "execution_count": null,
   "metadata": {},
   "outputs": [],
   "source": []
  }
 ],
 "metadata": {
  "kernelspec": {
   "display_name": "Python 3",
   "language": "python",
   "name": "python3"
  },
  "language_info": {
   "codemirror_mode": {
    "name": "ipython",
    "version": 3
   },
   "file_extension": ".py",
   "mimetype": "text/x-python",
   "name": "python",
   "nbconvert_exporter": "python",
   "pygments_lexer": "ipython3",
   "version": "3.6.5"
  },
  "toc": {
   "base_numbering": 1,
   "nav_menu": {},
   "number_sections": false,
   "sideBar": true,
   "skip_h1_title": false,
   "title_cell": "Table of Contents",
   "title_sidebar": "Contents",
   "toc_cell": false,
   "toc_position": {
    "height": "calc(100% - 180px)",
    "left": "10px",
    "top": "150px",
    "width": "280px"
   },
   "toc_section_display": true,
   "toc_window_display": true
  }
 },
 "nbformat": 4,
 "nbformat_minor": 2
}
