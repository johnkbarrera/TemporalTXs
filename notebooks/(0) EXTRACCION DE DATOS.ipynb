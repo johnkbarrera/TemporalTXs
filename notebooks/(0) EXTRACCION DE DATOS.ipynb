{
 "cells": [
  {
   "cell_type": "markdown",
   "metadata": {},
   "source": [
    "# EXTRACCION DE DATOS"
   ]
  },
  {
   "cell_type": "markdown",
   "metadata": {},
   "source": [
    "## Conexion a la BD"
   ]
  },
  {
   "cell_type": "code",
   "execution_count": 1,
   "metadata": {
    "scrolled": true
   },
   "outputs": [
    {
     "name": "stderr",
     "output_type": "stream",
     "text": [
      "/home/jkn/anaconda3/lib/python3.6/site-packages/psycopg2/__init__.py:144: UserWarning: The psycopg2 wheel package will be renamed from release 2.8; in order to keep installing from binary please use \"pip install psycopg2-binary\" instead. For details see: <http://initd.org/psycopg/docs/install.html#binary-install-from-pypi>.\n",
      "  \"\"\")\n"
     ]
    }
   ],
   "source": [
    "import psycopg2\n",
    "import sys\n",
    "import pprint\n",
    "from datetime import date, timedelta\n",
    "import pandas as pd\n",
    "\n",
    "#Connect to RedShift\n",
    "\n",
    "# print (\"Connecting to database ->{}\".format(conn_string))\n",
    "conn = psycopg2.connect(conn_string);\n"
   ]
  },
  {
   "cell_type": "markdown",
   "metadata": {},
   "source": [
    "## Consulta "
   ]
  },
  {
   "cell_type": "code",
   "execution_count": 2,
   "metadata": {},
   "outputs": [
    {
     "name": "stdout",
     "output_type": "stream",
     "text": [
      "Numero de TXs:  2000000\n"
     ]
    },
    {
     "data": {
      "text/html": [
       "<div>\n",
       "<style scoped>\n",
       "    .dataframe tbody tr th:only-of-type {\n",
       "        vertical-align: middle;\n",
       "    }\n",
       "\n",
       "    .dataframe tbody tr th {\n",
       "        vertical-align: top;\n",
       "    }\n",
       "\n",
       "    .dataframe thead th {\n",
       "        text-align: right;\n",
       "    }\n",
       "</style>\n",
       "<table border=\"1\" class=\"dataframe\">\n",
       "  <thead>\n",
       "    <tr style=\"text-align: right;\">\n",
       "      <th></th>\n",
       "      <th>client_id</th>\n",
       "      <th>date</th>\n",
       "      <th>año</th>\n",
       "      <th>mes</th>\n",
       "      <th>dia</th>\n",
       "      <th>hora</th>\n",
       "      <th>merchant_departement</th>\n",
       "      <th>merchant_province</th>\n",
       "      <th>merchant_district</th>\n",
       "      <th>mcc</th>\n",
       "      <th>mccg</th>\n",
       "      <th>quantity</th>\n",
       "      <th>amount_sol</th>\n",
       "    </tr>\n",
       "  </thead>\n",
       "  <tbody>\n",
       "    <tr>\n",
       "      <th>0</th>\n",
       "      <td>+++g8j9k+5A=</td>\n",
       "      <td>2016-09-27 01:37:23</td>\n",
       "      <td>2016</td>\n",
       "      <td>09</td>\n",
       "      <td>27</td>\n",
       "      <td>01</td>\n",
       "      <td>LIMA</td>\n",
       "      <td>LIMA</td>\n",
       "      <td>San Juan De Miraflor</td>\n",
       "      <td>5912</td>\n",
       "      <td>15</td>\n",
       "      <td>1</td>\n",
       "      <td>107.0</td>\n",
       "    </tr>\n",
       "    <tr>\n",
       "      <th>1</th>\n",
       "      <td>+++g8j9k+5A=</td>\n",
       "      <td>2016-06-24 03:35:00</td>\n",
       "      <td>2016</td>\n",
       "      <td>06</td>\n",
       "      <td>24</td>\n",
       "      <td>03</td>\n",
       "      <td>LIMA</td>\n",
       "      <td>LIMA</td>\n",
       "      <td>Magdalena Del Mar</td>\n",
       "      <td>5912</td>\n",
       "      <td>15</td>\n",
       "      <td>1</td>\n",
       "      <td>58.0</td>\n",
       "    </tr>\n",
       "    <tr>\n",
       "      <th>2</th>\n",
       "      <td>+++g8j9k+5A=</td>\n",
       "      <td>2017-04-29 03:15:16</td>\n",
       "      <td>2017</td>\n",
       "      <td>04</td>\n",
       "      <td>29</td>\n",
       "      <td>03</td>\n",
       "      <td>LIMA</td>\n",
       "      <td>LIMA</td>\n",
       "      <td>Miraflores</td>\n",
       "      <td>6300</td>\n",
       "      <td>17</td>\n",
       "      <td>1</td>\n",
       "      <td>153.0</td>\n",
       "    </tr>\n",
       "    <tr>\n",
       "      <th>3</th>\n",
       "      <td>+++g8j9k+5A=</td>\n",
       "      <td>2017-03-01 05:47:02</td>\n",
       "      <td>2017</td>\n",
       "      <td>03</td>\n",
       "      <td>01</td>\n",
       "      <td>05</td>\n",
       "      <td>LIMA</td>\n",
       "      <td>LIMA</td>\n",
       "      <td>Miraflores</td>\n",
       "      <td>6300</td>\n",
       "      <td>17</td>\n",
       "      <td>1</td>\n",
       "      <td>110.0</td>\n",
       "    </tr>\n",
       "    <tr>\n",
       "      <th>4</th>\n",
       "      <td>+++g8j9k+5A=</td>\n",
       "      <td>2016-06-24 03:36:43</td>\n",
       "      <td>2016</td>\n",
       "      <td>06</td>\n",
       "      <td>24</td>\n",
       "      <td>03</td>\n",
       "      <td>LIMA</td>\n",
       "      <td>LIMA</td>\n",
       "      <td>Magdalena Del Mar</td>\n",
       "      <td>5912</td>\n",
       "      <td>15</td>\n",
       "      <td>1</td>\n",
       "      <td>47.0</td>\n",
       "    </tr>\n",
       "  </tbody>\n",
       "</table>\n",
       "</div>"
      ],
      "text/plain": [
       "      client_id                date   año mes dia hora merchant_departement  \\\n",
       "0  +++g8j9k+5A= 2016-09-27 01:37:23  2016  09  27   01                 LIMA   \n",
       "1  +++g8j9k+5A= 2016-06-24 03:35:00  2016  06  24   03                 LIMA   \n",
       "2  +++g8j9k+5A= 2017-04-29 03:15:16  2017  04  29   03                 LIMA   \n",
       "3  +++g8j9k+5A= 2017-03-01 05:47:02  2017  03  01   05                 LIMA   \n",
       "4  +++g8j9k+5A= 2016-06-24 03:36:43  2016  06  24   03                 LIMA   \n",
       "\n",
       "  merchant_province     merchant_district   mcc  mccg  quantity  amount_sol  \n",
       "0              LIMA  San Juan De Miraflor  5912    15         1       107.0  \n",
       "1              LIMA     Magdalena Del Mar  5912    15         1        58.0  \n",
       "2              LIMA            Miraflores  6300    17         1       153.0  \n",
       "3              LIMA            Miraflores  6300    17         1       110.0  \n",
       "4              LIMA     Magdalena Del Mar  5912    15         1        47.0  "
      ]
     },
     "execution_count": 2,
     "metadata": {},
     "output_type": "execute_result"
    }
   ],
   "source": [
    "#Captures Column Names \n",
    "column_names = [];\n",
    "query = \"\"\"\n",
    "SELECT client_id,\n",
    "       date,\n",
    "       SUBSTRING(date,1,4) as año, \n",
    "       SUBSTRING(date,6,2) as mes, \n",
    "       SUBSTRING(date,9,2) as dia, \n",
    "       SUBSTRING(date,12,2) as hora,\n",
    "       merchant_departement,\n",
    "       merchant_province,\n",
    "       merchant_district,\n",
    "       mcc,\n",
    "       mccg,\n",
    "       CASE WHEN 1 = 1 THEN 1 ELSE 0 END as quantity,\n",
    "       amount_sol\n",
    "FROM transaction\n",
    "WHERE merchant_departement = 'LIMA'\n",
    "      AND merchant_province = 'LIMA'\n",
    "      AND mcc != 0 \n",
    "      AND amount_sol > 0\n",
    "      AND date <= '2017-05-31' and date >= '2016-03-01' \n",
    "ORDER BY client_id\n",
    "LIMIT 2000000\n",
    "\"\"\"\n",
    "data = pd.read_sql(query, conn)\n",
    "\n",
    "print(\"Numero de TXs: \",len(data))\n",
    "data.head(5)"
   ]
  },
  {
   "cell_type": "markdown",
   "metadata": {},
   "source": [
    "## Guardado de Datos"
   ]
  },
  {
   "cell_type": "code",
   "execution_count": 3,
   "metadata": {},
   "outputs": [],
   "source": [
    "data = data.sort_values(by=['client_id'])\n",
    "data.to_csv('./data/consulta.csv',index=False)"
   ]
  },
  {
   "cell_type": "code",
   "execution_count": null,
   "metadata": {},
   "outputs": [],
   "source": []
  },
  {
   "cell_type": "code",
   "execution_count": null,
   "metadata": {},
   "outputs": [],
   "source": []
  }
 ],
 "metadata": {
  "kernelspec": {
   "display_name": "Python 3",
   "language": "python",
   "name": "python3"
  },
  "language_info": {
   "codemirror_mode": {
    "name": "ipython",
    "version": 3
   },
   "file_extension": ".py",
   "mimetype": "text/x-python",
   "name": "python",
   "nbconvert_exporter": "python",
   "pygments_lexer": "ipython3",
   "version": "3.6.5"
  },
  "toc": {
   "base_numbering": 1,
   "nav_menu": {},
   "number_sections": false,
   "sideBar": true,
   "skip_h1_title": false,
   "title_cell": "Table of Contents",
   "title_sidebar": "Contents",
   "toc_cell": false,
   "toc_position": {
    "height": "calc(100% - 180px)",
    "left": "10px",
    "top": "150px",
    "width": "256px"
   },
   "toc_section_display": true,
   "toc_window_display": true
  }
 },
 "nbformat": 4,
 "nbformat_minor": 2
}
